{
 "cells": [
  {
   "cell_type": "code",
   "execution_count": 3,
   "metadata": {},
   "outputs": [],
   "source": [
    "import re\n",
    "import matplotlib.pyplot as plt\n",
    "import numpy as np\n",
    "import math\n",
    "from nltk.stem import PorterStemmer\n",
    "from collections import Counter, defaultdict\n",
    "import time\n",
    "from itertools import chain\n",
    "from gensim.test.utils import common_texts\n",
    "from gensim.corpora.dictionary import Dictionary\n",
    "from gensim.models import LdaModel\n",
    "import pyLDAvis\n",
    "import pyLDAvis.gensim_models as gensimvis\n",
    "import sklearn\n",
    "from sklearn import ensemble\n",
    "from sklearn.metrics import classification_report\n",
    "import scipy\n",
    "from scipy import sparse\n",
    "import csv\n",
    "from statistics import mean\n",
    "from sklearn.model_selection import train_test_split"
   ]
  },
  {
   "cell_type": "markdown",
   "metadata": {},
   "source": [
    "## Evaluation of systems"
   ]
  },
  {
   "cell_type": "code",
   "execution_count": 41,
   "metadata": {},
   "outputs": [],
   "source": [
    "class EVAL:\n",
    "    \n",
    "    def __init__(self,results,rels):\n",
    "        f = open(results)\n",
    "        data = csv.reader(f)\n",
    "        self.data_results = [line for line in data][1:]\n",
    "\n",
    "        f = open(rels)\n",
    "        data = csv.reader(f)\n",
    "        relevance = [line for line in data][1:]\n",
    "        self.rel = defaultdict(dict)\n",
    "        for query,doc,relev in relevance:\n",
    "            self.rel[query][doc] = relev\n",
    "   \n",
    "        self.sys_1 = defaultdict(dict)\n",
    "        self.sys_2 = defaultdict(dict)\n",
    "        self.sys_3 = defaultdict(dict)\n",
    "        self.sys_4 = defaultdict(dict)\n",
    "        self.sys_5 = defaultdict(dict)\n",
    "        self.sys_6 = defaultdict(dict)\n",
    "            \n",
    "        for sys,query,docnum,rank,score in self.data_results:\n",
    "            if sys == '1':\n",
    "                self.sys_1[query][docnum] = (self.rel[query].get(docnum,0),rank,float(score))\n",
    "            elif sys == '2':\n",
    "                self.sys_2[query][docnum] = (self.rel[query].get(docnum,0),rank,float(score))\n",
    "            elif sys == '3':\n",
    "                self.sys_3[query][docnum] = (self.rel[query].get(docnum,0),rank,float(score))\n",
    "            elif sys == '4':\n",
    "                self.sys_4[query][docnum] = (self.rel[query].get(docnum,0),rank,float(score))\n",
    "            elif sys == '5':\n",
    "                self.sys_5[query][docnum] = (self.rel[query].get(docnum,0),rank,float(score))\n",
    "            elif sys == '6':\n",
    "                self.sys_6[query][docnum] = (self.rel[query].get(docnum,0),rank,float(score))\n",
    "        \n",
    "        self.nDCG1 = self.nDCG(self.sys_1,self.rel,20)\n",
    "        self.nDCG2 = self.nDCG(self.sys_2,self.rel,20)\n",
    "        self.nDCG3 = self.nDCG(self.sys_3,self.rel,20)\n",
    "        self.nDCG4 = self.nDCG(self.sys_4,self.rel,20)\n",
    "        self.nDCG5 = self.nDCG(self.sys_5,self.rel,20)\n",
    "        self.nDCG6 = self.nDCG(self.sys_6,self.rel,20)\n",
    "\n",
    "    def prec(self,system,cutoff):\n",
    "        sys = []\n",
    "        for i in range(1,11):\n",
    "            results = []\n",
    "            for elem in list(system[str(i)].items())[:cutoff]:\n",
    "                results.append(elem)\n",
    "\n",
    "            r = 0\n",
    "            for doc, scores in results:\n",
    "                if scores[0] != 0:\n",
    "                    r += 1\n",
    "\n",
    "            sys.append((i,(round(r/cutoff,3))))\n",
    "\n",
    "        return sys\n",
    "    \n",
    "    def recall(self,system,cutoff,rel):\n",
    "        num_reldocs = {query:len(docs) for query,docs in rel.items()}\n",
    "        sys = []\n",
    "        for i in range(1,11):\n",
    "            results = []\n",
    "            for elem in list(system[str(i)].items())[:cutoff]:\n",
    "                results.append(elem)\n",
    "\n",
    "            r = 0\n",
    "            for doc, scores in results:\n",
    "                if scores[0] != 0:\n",
    "                    r += 1\n",
    "\n",
    "            sys.append(((i,round(r/num_reldocs[str(i)],3))))\n",
    "\n",
    "        return sys\n",
    "        \n",
    "    def rprec(self,system,rel):\n",
    "        num_reldocs = {query:len(docs) for query,docs in rel.items()}\n",
    "        sys = []\n",
    "        for i in range(1,11):\n",
    "            cutoff = num_reldocs[str(i)]\n",
    "            results = []\n",
    "            for elem in list(system[str(i)].items())[:cutoff]:\n",
    "                results.append(elem)\n",
    "\n",
    "            r = 0\n",
    "            for doc, scores in results:\n",
    "                if scores[0] != 0:\n",
    "                    r += 1\n",
    "\n",
    "            sys.append(((i,round(r/cutoff,3))))\n",
    "\n",
    "        return sys\n",
    "\n",
    "    def AP(self,system,rel):\n",
    "        num_reldocs = {query:len(docs) for query,docs in rel.items()}\n",
    "        sys = []\n",
    "        for i in range(1,11):\n",
    "            results = []\n",
    "            r_count = 0\n",
    "            for idx, elem in enumerate(list(system[str(i)].items()),1):\n",
    "                if elem[1][0] != 0:\n",
    "                    r_count += 1 \n",
    "                    results.append(r_count/idx)\n",
    "\n",
    "            sys.append(((i,round(sum(results)/num_reldocs[str(i)],3))))\n",
    "\n",
    "        return sys\n",
    "    \n",
    "    def nDCG(self,system,rel,cutoff):\n",
    "        sys = []\n",
    "        for i in range(1,11):\n",
    "            iG = list(rel[str(i)].values()) # Get rel docs for query i\n",
    "            iG += [str(0)] * (500 - len(iG)) # Assign 0 for docs without relevance\n",
    "            DG = int(list(system[str(i)].values())[0][0]) # rel(1)\n",
    "            iDG = int(iG[0]) # rel(1) iDG\n",
    "            DG_list = []\n",
    "            iDG_list = []\n",
    "            nDCG_list = []\n",
    "            DG_list.append((0,DG))\n",
    "            iDG_list.append((0,iDG))\n",
    "            for idx, elem in enumerate(list(system[str(i)].items())[1:cutoff],2):\n",
    "                DG += int(elem[1][0])/math.log(idx,2)\n",
    "                iDG += int(iG[idx-1])/math.log(idx,2)\n",
    "                nDCG_list.append(round(DG/iDG,3))\n",
    "\n",
    "            sys.append(((i,nDCG_list[-1])))\n",
    "    \n",
    "        return sys\n",
    "\n",
    "    def write_res(self,filepath):\n",
    "        sys = [self.sys_1,self.sys_2,self.sys_3,self.sys_4,self.sys_5,self.sys_6]\n",
    "        f = open(filepath, 'w')\n",
    "        f.write(\"system_number,query_number,P@10,R@50,r-precision,AP,nDCG@10,nDCG@20\\n\")\n",
    "        for i in range(0,6):\n",
    "            m_prec, m_rec, m_rprec, m_AP, m_nDCG10, m_nDCG20 = [], [], [], [], [], []\n",
    "            for query in range(0,10):\n",
    "                m_prec.append(self.prec(sys[i],10)[query][1])\n",
    "                m_rec.append(self.recall(sys[i],50,self.rel)[query][1])\n",
    "                m_rprec.append(self.rprec(sys[i],self.rel)[query][1])\n",
    "                m_AP.append(self.AP(sys[i],self.rel)[query][1])\n",
    "                m_nDCG10.append(self.nDCG(sys[i],self.rel,10)[query][1])\n",
    "                m_nDCG20.append(self.nDCG(sys[i],self.rel,20)[query][1])\n",
    "                \n",
    "                f.write(str(i+1)+','+str(query+1)+','+str(m_prec[query])+','+\n",
    "                        str(m_rec[query])+','+str(m_rprec[query])+\n",
    "                        ','+str(m_AP[query])+','+str(m_nDCG10[query])+\n",
    "                        ','+str(m_nDCG20[query])+'\\n')\n",
    "            \n",
    "            f.write(str(i+1)+','+'mean'+','+str(round(mean(m_prec),3))+','+str(round(mean(m_rec),3))+\n",
    "                    ','+str(round(mean(m_rprec),3))+','+str(round(mean(m_AP),3))+','+str(round(mean(m_nDCG10),3))+\n",
    "            ','+str(round(mean(m_nDCG20),3))+'\\n')"
   ]
  },
  {
   "cell_type": "code",
   "execution_count": 42,
   "metadata": {},
   "outputs": [],
   "source": [
    "test = EVAL('system_results.csv', 'qrels.csv')\n",
    "test.write_res('test_results.csv')"
   ]
  },
  {
   "cell_type": "code",
   "execution_count": 43,
   "metadata": {},
   "outputs": [],
   "source": [
    "from scipy import stats"
   ]
  },
  {
   "cell_type": "code",
   "execution_count": 44,
   "metadata": {},
   "outputs": [
    {
     "data": {
      "text/plain": [
       "0.36279999999999996"
      ]
     },
     "execution_count": 44,
     "metadata": {},
     "output_type": "execute_result"
    }
   ],
   "source": [
    "P1.mean()"
   ]
  },
  {
   "cell_type": "code",
   "execution_count": 45,
   "metadata": {},
   "outputs": [
    {
     "data": {
      "text/plain": [
       "Ttest_indResult(statistic=0.16879803537044438, pvalue=0.8678378460308467)"
      ]
     },
     "execution_count": 45,
     "metadata": {},
     "output_type": "execute_result"
    }
   ],
   "source": [
    "P1 = [i[1] for i in test.nDCG1]\n",
    "P2 = [i[1] for i in test.nDCG2]\n",
    "P3 = [i[1] for i in test.nDCG3]\n",
    "P4 = [i[1] for i in test.nDCG4]\n",
    "P5 = [i[1] for i in test.nDCG5]\n",
    "P6 = [i[1] for i in test.nDCG6]\n",
    "\n",
    "P1 = np.array(P1)\n",
    "P2 = np.array(P2)\n",
    "P3 = np.array(P3)\n",
    "P4 = np.array(P4)\n",
    "P5 = np.array(P5)\n",
    "P6 = np.array(P6)\n",
    "\n",
    "stats.ttest_ind(P3, P6)"
   ]
  },
  {
   "cell_type": "markdown",
   "metadata": {},
   "source": [
    "## Text analysis"
   ]
  },
  {
   "cell_type": "code",
   "execution_count": 14,
   "metadata": {},
   "outputs": [
    {
     "name": "stdout",
     "output_type": "stream",
     "text": [
      "OT\tIn the beginning God created the heavens and the earth.\r\n",
      "OT\tThe earth was without form, and void; and darkness was on the face of the deep. And the Spirit of God was hovering over the face of the waters.\r\n",
      "OT\tThen God said, \"Let there be light\"; and there was light.\r\n",
      "OT\tAnd God saw the light, that it was good; and God divided the light from the darkness.\r\n",
      "OT\tGod called the light Day, and the darkness He called Night. So the evening and the morning were the first day.\r\n",
      "OT\tThus God made the firmament, and divided the waters which were under the firmament from the waters which were above the firmament; and it was so.\r\n",
      "OT\tAnd God called the firmament Heaven. So the evening and the morning were the second day.\r\n",
      "OT\tThen God said, \"Let the waters under the heavens be gathered together into one place, and let the dry land appear\"; and it was so.\r\n",
      "OT\tAnd God called the dry land Earth, and the gathering together of the waters He called Seas. And God saw that it was good.\r\n",
      "OT\tThen God said, \"Let the earth bring forth grass, the herb that yields seed, and the fruit tree that yields fruit according to its kind, whose seed is in itself, on the earth\"; and it was so.\r\n",
      "cat: write error: Broken pipe\r\n"
     ]
    }
   ],
   "source": [
    "!cat train_and_dev.tsv | head -10"
   ]
  },
  {
   "cell_type": "code",
   "execution_count": 15,
   "metadata": {},
   "outputs": [],
   "source": [
    "f = open('train_and_dev.tsv', 'r')\n",
    "data = f.read()\n",
    "\n",
    "f = open('englishST.txt', 'r')\n",
    "STwords = [word.rstrip() for word in f.readlines()]"
   ]
  },
  {
   "cell_type": "code",
   "execution_count": 16,
   "metadata": {},
   "outputs": [],
   "source": [
    "ps = PorterStemmer()"
   ]
  },
  {
   "cell_type": "code",
   "execution_count": 17,
   "metadata": {},
   "outputs": [],
   "source": [
    "OT = re.findall(r'OT\\t(.+)', data)\n",
    "OT = [re.findall(r'\\w+', verse) for verse in OT]\n",
    "OT_pro = {ID:[ps.stem(word) for word in verse if word.lower() not in STwords] for ID,verse in enumerate(OT)}\n",
    "\n",
    "NT = re.findall(r'NT\\t(.+)', data)\n",
    "NT = [re.findall(r'\\w+', verse) for verse in NT]\n",
    "NT_pro = {ID+len(OT):[ps.stem(word) for word in verse if word.lower() not in STwords] for ID,verse in enumerate(NT)}\n",
    "\n",
    "quran = re.findall(r'Quran\\t(.+)', data)\n",
    "quran = [re.findall(r'\\w+', verse) for verse in quran]\n",
    "quran_pro = {ID+len(OT)+len(NT):[ps.stem(word) for word in verse if word.lower() not in STwords] for ID,verse in enumerate(quran)}\n",
    "\n",
    "vocab = set(list(chain.from_iterable(list(OT_pro.values()) + list(NT_pro.values()) + list(quran_pro.values()))))\n",
    "labels = re.findall(r'(OT|NT|Quran)\\t', data)"
   ]
  },
  {
   "cell_type": "code",
   "execution_count": 18,
   "metadata": {},
   "outputs": [],
   "source": [
    "def inv_index(OT_pro, NT_pro, quran_pro):\n",
    "    inv_index = defaultdict(list)\n",
    "    combined = {docid:verse for docid,verse in enumerate(list(OT_pro.values())+list(NT_pro.values())+list(quran_pro.values()))}\n",
    "    for word in vocab:\n",
    "        for docid,verse in combined.items():\n",
    "            if word in verse:\n",
    "                if word in inv_index:     \n",
    "                    if docid in OT_pro.keys():\n",
    "                        inv_index[word][0][1] += 1\n",
    "\n",
    "                    if docid in NT_pro.keys():\n",
    "                        inv_index[word][0][2] += 1\n",
    "\n",
    "                    if docid in quran_pro.keys():\n",
    "                        inv_index[word][0][3] += 1\n",
    "                else:\n",
    "                    inv_index[word].append({})\n",
    "                    inv_index[word][0][1] = 0\n",
    "                    inv_index[word][0][2] = 0\n",
    "                    inv_index[word][0][3] = 0\n",
    "                    if docid in OT_pro.keys():\n",
    "                        inv_index[word][0][1] = 1\n",
    "                    if docid in NT_pro.keys():\n",
    "                        inv_index[word][0][2] = 1\n",
    "                    if docid in quran_pro.keys():\n",
    "                        inv_index[word][0][3] = 1\n",
    "    \n",
    "    return inv_index"
   ]
  },
  {
   "cell_type": "code",
   "execution_count": 19,
   "metadata": {},
   "outputs": [
    {
     "name": "stdout",
     "output_type": "stream",
     "text": [
      "51.04818820953369\n"
     ]
    }
   ],
   "source": [
    "start = time.time()\n",
    "inv_index = inv_index(OT_pro,NT_pro,quran_pro)\n",
    "end = time.time()\n",
    "print(end-start)"
   ]
  },
  {
   "cell_type": "code",
   "execution_count": 20,
   "metadata": {},
   "outputs": [],
   "source": [
    "def calculate_nterms(inv_index):\n",
    "    \n",
    "    N11_1, N11_2, N11_3 = defaultdict(int),defaultdict(int),defaultdict(int)\n",
    "    N10_1, N10_2, N10_3 = defaultdict(int),defaultdict(int),defaultdict(int)\n",
    "    N01_1, N01_2, N01_3 = defaultdict(int),defaultdict(int),defaultdict(int)\n",
    "    N00_1, N00_2, N00_3 = defaultdict(int),defaultdict(int),defaultdict(int)\n",
    "    \n",
    "    for word,val in inv_index.items():\n",
    "        N11_1[word] = val[0][1]\n",
    "        N01_1[word] = len(OT_pro) - val[0][1]\n",
    "        N10_1[word] = val[0][2] + val[0][3]\n",
    "        N00_1[word] = len(NT_pro)+len(quran_pro) - (val[0][2] + val[0][3])\n",
    "        \n",
    "        N11_2[word] = val[0][2]\n",
    "        N01_2[word] = len(NT) - val[0][2]\n",
    "        N10_2[word] = val[0][1] + val[0][3]\n",
    "        N00_2[word] = len(OT_pro)+len(quran_pro) - (val[0][1] + val[0][3])\n",
    "        \n",
    "        N11_3[word] = val[0][3]\n",
    "        N01_3[word] = len(quran) - val[0][3]\n",
    "        N10_3[word] = val[0][1] + val[0][2]\n",
    "        N00_3[word] = len(OT_pro)+len(NT_pro) - (val[0][1] + val[0][2])\n",
    "    \n",
    "    return N11_1,N01_1,N10_1,N00_1, N11_2,N01_2,N10_2,N00_2, N11_3,N01_3,N10_3,N00_3"
   ]
  },
  {
   "cell_type": "code",
   "execution_count": 21,
   "metadata": {},
   "outputs": [],
   "source": [
    "def MI(N,N11,N01,N10,N00,vocab):\n",
    "    \n",
    "        N1X = {key:N11.get(key,0)+N10.get(key,0) for key in set(N11)|set(N10)}\n",
    "        NX1 = {key:N11.get(key,0)+N01.get(key,0) for key in set(N11)|set(N01)}\n",
    "        N0X = {key:N01.get(key,0)+N00.get(key,0) for key in set(N01)|set(N00)}\n",
    "        NX0 = {key:N10.get(key,0)+N00.get(key,0) for key in set(N10)|set(N00)}\n",
    "        \n",
    "        MI = {}\n",
    "    \n",
    "        for key in vocab:\n",
    "            try:\n",
    "                first = (N11.get(key,0)/N)*math.log((N*N11.get(key,0))/(N1X.get(key,0)*NX1.get(key,0)),2)\n",
    "            except (ValueError,ZeroDivisionError):\n",
    "                first = 0\n",
    "            try:\n",
    "                second = (N01.get(key,0)/N)*math.log((N*N01.get(key,0))/(N0X.get(key,0)*NX1.get(key,0)),2)\n",
    "            except (ValueError,ZeroDivisionError):\n",
    "                second = 0\n",
    "            try:\n",
    "                third = (N10.get(key,0)/N)*math.log((N*N10.get(key,0))/(N1X.get(key,0)*NX0.get(key,0)),2)\n",
    "            except (ValueError,ZeroDivisionError):\n",
    "                third = 0\n",
    "            try:\n",
    "                fourth = (N00.get(key,0)/N)*math.log((N*N00.get(key,0))/(N0X.get(key,0)*NX0.get(key,0)),2)\n",
    "            except (ValueError,ZeroDivisionError):\n",
    "                fourth = 0\n",
    "\n",
    "            MI[key] = first+second+third+fourth\n",
    "    \n",
    "        return {k: v for k, v in sorted(MI.items(), key=lambda item: item[1], reverse=True)}"
   ]
  },
  {
   "cell_type": "code",
   "execution_count": 22,
   "metadata": {},
   "outputs": [],
   "source": [
    "def Chi(N11,N01,N10,N00,vocab):\n",
    "    \n",
    "    Chi = {}\n",
    "    \n",
    "    for key in vocab:\n",
    "        try:\n",
    "            Chi[key] = (((N11.get(key,0)+N10.get(key,0)+N01.get(key,0)+N00.get(key,0)) * \n",
    "                                     (N11.get(key,0)*N00.get(key,0)-N10.get(key,0)*N01.get(key,0))**2) / \n",
    "                                ((N11.get(key,0)+N01.get(key,0)) * (N11.get(key,0)+N10.get(key,0)) * \n",
    "                                 (N10.get(key,0)+N00.get(key,0)) * (N01.get(key,0)+N00.get(key,0))))\n",
    "        except ZeroDivisionError:\n",
    "            Chi[key] = 0\n",
    "    \n",
    "    return {k: v for k, v in sorted(Chi.items(), key=lambda item: item[1], reverse=True)}"
   ]
  },
  {
   "cell_type": "code",
   "execution_count": 23,
   "metadata": {},
   "outputs": [
    {
     "name": "stdout",
     "output_type": "stream",
     "text": [
      "0.24220919609069824\n"
     ]
    }
   ],
   "source": [
    "start = time.time()\n",
    "N = len(OT+NT+quran)\n",
    "N11_1,N01_1,N10_1,N00_1, N11_2,N01_2,N10_2,N00_2, N11_3,N01_3,N10_3,N00_3 = calculate_nterms(inv_index)\n",
    "MI_OT = MI(N,N11_1,N01_1,N10_1,N00_1,vocab)\n",
    "Chi_OT = Chi(N11_1,N01_1,N10_1,N00_1,vocab)\n",
    "\n",
    "MI_NT = MI(N,N11_2,N01_2,N10_2,N00_2,vocab)\n",
    "Chi_NT = Chi(N11_2,N01_2,N10_2,N00_2,vocab)\n",
    "\n",
    "MI_quran = MI(N,N11_3,N01_3,N10_3,N00_3,vocab)\n",
    "Chi_quran = Chi(N11_3,N01_3,N10_3,N00_3,vocab)\n",
    "\n",
    "end = time.time()\n",
    "print(end-start)"
   ]
  },
  {
   "cell_type": "code",
   "execution_count": null,
   "metadata": {},
   "outputs": [],
   "source": [
    "MI_OT"
   ]
  },
  {
   "cell_type": "code",
   "execution_count": null,
   "metadata": {},
   "outputs": [],
   "source": [
    "MI_NT"
   ]
  },
  {
   "cell_type": "code",
   "execution_count": null,
   "metadata": {},
   "outputs": [],
   "source": [
    "MI_quran"
   ]
  },
  {
   "cell_type": "code",
   "execution_count": null,
   "metadata": {},
   "outputs": [],
   "source": [
    "Chi_OT"
   ]
  },
  {
   "cell_type": "code",
   "execution_count": null,
   "metadata": {},
   "outputs": [],
   "source": [
    "Chi_NT"
   ]
  },
  {
   "cell_type": "code",
   "execution_count": null,
   "metadata": {},
   "outputs": [],
   "source": [
    "Chi_quran"
   ]
  },
  {
   "cell_type": "markdown",
   "metadata": {},
   "source": [
    "## Topic analysis"
   ]
  },
  {
   "cell_type": "code",
   "execution_count": 30,
   "metadata": {},
   "outputs": [],
   "source": [
    "def topic_analysis(corpus1,corpus2,corpus3):\n",
    "    \n",
    "    combined_corpus = list(list(corpus1.values())+list(corpus2.values()) + list(corpus3.values()))\n",
    "    common_texts = [list(x) for x in combined_corpus]\n",
    "    common_dictionary = Dictionary(common_texts)\n",
    "    common_corpus = [common_dictionary.doc2bow(text) for text in common_texts]\n",
    "    \n",
    "    c1 = [common_dictionary.doc2bow(text) for text in corpus1.values()]\n",
    "    c2 = [common_dictionary.doc2bow(text) for text in corpus2.values()]\n",
    "    c3 = [common_dictionary.doc2bow(text) for text in corpus3.values()]\n",
    "\n",
    "    num_topics = 20\n",
    "\n",
    "    lda = LdaModel(common_corpus, num_topics=num_topics, id2word=common_dictionary, random_state=25, iterations=50000)\n",
    "    \n",
    "    topics_scores1 = defaultdict(float)\n",
    "    topics_scores2 = defaultdict(float)\n",
    "    topics_scores3 = defaultdict(float)\n",
    "\n",
    "    for doc in c1:\n",
    "        for docid, prob in lda.get_document_topics(doc):\n",
    "            topics_scores1[docid] += prob\n",
    "        \n",
    "    for doc in c2:\n",
    "        for docid, prob in lda.get_document_topics(doc):\n",
    "            topics_scores2[docid] += prob\n",
    "            \n",
    "    for doc in c3:\n",
    "        for docid, prob in lda.get_document_topics(doc):\n",
    "            topics_scores3[docid] += prob\n",
    "    \n",
    "    topics_scores1 = {key:val/len(c1) for key,val in topics_scores1.items()}\n",
    "    max_c1 = {key:val for key,val in topics_scores1.items() if val == max(topics_scores1.values())}\n",
    "    top_c1 = lda.print_topic(list(max_c1.keys())[0])\n",
    "    print(f'Top topic for corpus 1: Topic {list(max_c1.keys())[0]}')\n",
    "\n",
    "    topics_scores2 = {key:val/len(c2) for key,val in topics_scores2.items()}\n",
    "    max_c2 = {key:val for key,val in topics_scores2.items() if val == max(topics_scores2.values())}\n",
    "    top_c2 = lda.print_topic(list(max_c2.keys())[0])\n",
    "    print(f'Top topic for corpus 2: Topic {list(max_c2.keys())[0]}')\n",
    "    \n",
    "    topics_scores3 = {key:val/len(c3) for key,val in topics_scores3.items()}\n",
    "    max_c3 = {key:val for key,val in topics_scores3.items() if val == max(topics_scores3.values())}\n",
    "    top_c3 = lda.print_topic(list(max_c3.keys())[0])\n",
    "    print(f'Top topic for corpus 3: Topic {list(max_c3.keys())[0]}')\n",
    "    \n",
    "    print(lda.print_topic(17))\n",
    "    \n",
    "    \n",
    "    lda_display = gensimvis.prepare(lda, common_corpus, common_dictionary)\n",
    "\n",
    "    return lda_display, top_c1, top_c2, top_c3"
   ]
  },
  {
   "cell_type": "code",
   "execution_count": null,
   "metadata": {},
   "outputs": [],
   "source": [
    "disp,t1,t2,t3 = topic_analysis(OT_pro,NT_pro,quran_pro)"
   ]
  },
  {
   "cell_type": "code",
   "execution_count": 32,
   "metadata": {},
   "outputs": [
    {
     "data": {
      "text/plain": [
       "'0.129*\"god\" + 0.103*\"believ\" + 0.052*\"lord\" + 0.047*\"king\" + 0.044*\"command\" + 0.041*\"judgment\" + 0.039*\"peopl\" + 0.034*\"law\" + 0.033*\"mose\" + 0.031*\"day\"'"
      ]
     },
     "execution_count": 32,
     "metadata": {},
     "output_type": "execute_result"
    }
   ],
   "source": [
    "t1"
   ]
  },
  {
   "cell_type": "code",
   "execution_count": 33,
   "metadata": {},
   "outputs": [
    {
     "data": {
      "text/plain": [
       "'0.122*\"god\" + 0.058*\"lord\" + 0.037*\"heart\" + 0.034*\"peopl\" + 0.033*\"forgiv\" + 0.032*\"word\" + 0.030*\"thing\" + 0.029*\"reward\" + 0.024*\"power\" + 0.021*\"hear\"'"
      ]
     },
     "execution_count": 33,
     "metadata": {},
     "output_type": "execute_result"
    }
   ],
   "source": [
    "t2"
   ]
  },
  {
   "cell_type": "code",
   "execution_count": 34,
   "metadata": {},
   "outputs": [
    {
     "data": {
      "text/plain": [
       "'0.122*\"god\" + 0.058*\"lord\" + 0.037*\"heart\" + 0.034*\"peopl\" + 0.033*\"forgiv\" + 0.032*\"word\" + 0.030*\"thing\" + 0.029*\"reward\" + 0.024*\"power\" + 0.021*\"hear\"'"
      ]
     },
     "execution_count": 34,
     "metadata": {},
     "output_type": "execute_result"
    }
   ],
   "source": [
    "t3"
   ]
  },
  {
   "cell_type": "code",
   "execution_count": 35,
   "metadata": {},
   "outputs": [
    {
     "data": {
      "text/html": [
       "\n",
       "<link rel=\"stylesheet\" type=\"text/css\" href=\"https://cdn.jsdelivr.net/gh/bmabey/pyLDAvis@3.3.1/pyLDAvis/js/ldavis.v1.0.0.css\">\n",
       "\n",
       "\n",
       "<div id=\"ldavis_el37211398984494351047934559465\"></div>\n",
       "<script type=\"text/javascript\">\n",
       "\n",
       "var ldavis_el37211398984494351047934559465_data = {\"mdsDat\": {\"x\": [-0.15308786974001762, -0.19766430496878235, 0.0932516401590673, -0.14485995623937092, 0.11077816307177886, -0.1842279776246661, 0.10566909719304036, -0.14000668194242935, 0.011760924428098724, -0.06372874303905599, -0.00993962426874436, -0.0750215719034107, -0.06457302619003859, 0.08426404960712651, 0.08793847269303302, 0.019514381963321958, 0.1591287086640857, -0.0222409947432476, 0.18966046179008508, 0.19338485109012526], \"y\": [-0.07298641875935331, -0.014593844261654006, -0.12094820403681339, 0.010633312873905246, -0.030820286049596832, 0.07175472537861191, -0.13857581581260103, -0.05204085137917031, -0.04076658665367522, 0.1092193637506186, 0.08456087279007249, -0.021473779991492064, -0.016601470075370224, 0.08369302722739319, -0.07544589931816555, -0.06661124978466156, 0.33200676725862155, 0.07475505797817296, -0.12024173706429826, 0.004483015929455109], \"topics\": [1, 2, 3, 4, 5, 6, 7, 8, 9, 10, 11, 12, 13, 14, 15, 16, 17, 18, 19, 20], \"cluster\": [1, 1, 1, 1, 1, 1, 1, 1, 1, 1, 1, 1, 1, 1, 1, 1, 1, 1, 1, 1], \"Freq\": [8.518373771589529, 7.9584418565410955, 6.443030925595836, 5.885654823620453, 5.373469192140937, 5.35077232464951, 5.3245854741214, 5.305656552508988, 5.008692445123909, 4.94064979158106, 4.669163917797647, 4.540562737099925, 4.4656195681060415, 4.178672087207983, 4.009516772399786, 3.9763552403466225, 3.8047492484222403, 3.7800802150037582, 3.5424666272155814, 2.9234864289277]}, \"tinfo\": {\"Term\": [\"god\", \"believ\", \"son\", \"life\", \"heaven\", \"sin\", \"receiv\", \"book\", \"earth\", \"messeng\", \"truth\", \"fire\", \"deed\", \"merci\", \"men\", \"creat\", \"promis\", \"seek\", \"suffer\", \"favor\", \"turn\", \"king\", \"worship\", \"love\", \"hand\", \"glori\", \"judgment\", \"light\", \"night\", \"prophet\", \"believ\", \"evid\", \"strive\", \"glad\", \"watch\", \"battl\", \"form\", \"king\", \"terror\", \"suppos\", \"front\", \"execut\", \"beg\", \"rank\", \"levit\", \"lament\", \"golden\", \"inquir\", \"veil\", \"accomplish\", \"aveng\", \"teeth\", \"spoil\", \"sharp\", \"enmiti\", \"assist\", \"sprinkl\", \"understood\", \"offend\", \"sodom\", \"journey\", \"command\", \"law\", \"judgment\", \"mose\", \"statut\", \"aaron\", \"establish\", \"coven\", \"charg\", \"israel\", \"god\", \"told\", \"lord\", \"servant\", \"peopl\", \"day\", \"made\", \"gave\", \"judah\", \"live\", \"brought\", \"give\", \"children\", \"hous\", \"fear\", \"thing\", \"forgiv\", \"reward\", \"punish\", \"spend\", \"consid\", \"doubt\", \"mind\", \"lead\", \"gain\", \"sick\", \"understand\", \"subject\", \"account\", \"obedi\", \"power\", \"disgrac\", \"gloriou\", \"explain\", \"vision\", \"desir\", \"devour\", \"rescu\", \"intent\", \"save\", \"oppress\", \"preserv\", \"open\", \"tempt\", \"vine\", \"sworn\", \"heart\", \"fulfil\", \"afraid\", \"sever\", \"mouth\", \"sign\", \"word\", \"hear\", \"fight\", \"enemi\", \"god\", \"thing\", \"lord\", \"peopl\", \"judgment\", \"great\", \"day\", \"give\", \"time\", \"hand\", \"eye\", \"call\", \"promis\", \"wrong\", \"reach\", \"wive\", \"rock\", \"deal\", \"white\", \"demand\", \"mark\", \"widow\", \"adulteri\", \"preciou\", \"stretch\", \"releas\", \"tast\", \"chamber\", \"vengeanc\", \"interpret\", \"reckon\", \"calam\", \"hunger\", \"hair\", \"ishmael\", \"wild\", \"reduc\", \"addit\", \"korah\", \"redeem\", \"leaven\", \"firstborn\", \"chief\", \"laid\", \"perish\", \"son\", \"deliv\", \"brother\", \"hand\", \"struck\", \"destroy\", \"elder\", \"marri\", \"man\", \"commit\", \"father\", \"priest\", \"daughter\", \"peopl\", \"lord\", \"god\", \"call\", \"mankind\", \"astray\", \"throne\", \"home\", \"order\", \"test\", \"palm\", \"determin\", \"loss\", \"salvat\", \"circumcis\", \"love\", \"broken\", \"presenc\", \"success\", \"embrac\", \"unit\", \"cut\", \"violenc\", \"amount\", \"middl\", \"slew\", \"forsaken\", \"relief\", \"belli\", \"gener\", \"custom\", \"belong\", \"isaac\", \"afar\", \"abraham\", \"forev\", \"strength\", \"pure\", \"honor\", \"walk\", \"number\", \"righteous\", \"garden\", \"sit\", \"born\", \"valley\", \"hous\", \"god\", \"lord\", \"bless\", \"father\", \"high\", \"live\", \"peopl\", \"tree\", \"priest\", \"day\", \"made\", \"prostrat\", \"tongu\", \"differ\", \"israelit\", \"free\", \"slave\", \"past\", \"confus\", \"femal\", \"barren\", \"cup\", \"woman\", \"camel\", \"birth\", \"marriag\", \"maiden\", \"exchang\", \"speech\", \"profan\", \"owner\", \"crop\", \"compet\", \"attack\", \"bitter\", \"load\", \"womb\", \"wheat\", \"husband\", \"magician\", \"reed\", \"mother\", \"wall\", \"appoint\", \"kingdom\", \"wine\", \"pour\", \"turn\", \"lie\", \"dead\", \"pharaoh\", \"master\", \"back\", \"wife\", \"drink\", \"daughter\", \"male\", \"time\", \"servant\", \"man\", \"call\", \"father\", \"water\", \"give\", \"prais\", \"town\", \"exalt\", \"clear\", \"whomev\", \"creatur\", \"everlast\", \"mention\", \"choos\", \"perfect\", \"yield\", \"heat\", \"unclean\", \"nobl\", \"fish\", \"step\", \"slaughter\", \"corrupt\", \"desert\", \"kind\", \"see\", \"grass\", \"dominion\", \"expos\", \"graciou\", \"touch\", \"almighti\", \"astonish\", \"snare\", \"fault\", \"worship\", \"cover\", \"look\", \"accept\", \"fear\", \"show\", \"adam\", \"seed\", \"god\", \"eye\", \"rememb\", \"cloth\", \"live\", \"thing\", \"find\", \"lord\", \"merci\", \"teach\", \"make\", \"earth\", \"good\", \"made\", \"wealth\", \"spring\", \"began\", \"chain\", \"seek\", \"doubl\", \"slain\", \"carnal\", \"strike\", \"grave\", \"advic\", \"crown\", \"upright\", \"dawn\", \"hide\", \"chose\", \"wander\", \"shut\", \"suddenli\", \"heavi\", \"interced\", \"urg\", \"covet\", \"leg\", \"separ\", \"cow\", \"intend\", \"shed\", \"fed\", \"thousand\", \"ruler\", \"death\", \"plain\", \"men\", \"side\", \"kill\", \"surround\", \"ten\", \"door\", \"stood\", \"die\", \"sword\", \"put\", \"left\", \"peopl\", \"head\", \"face\", \"live\", \"man\", \"day\", \"lord\", \"messeng\", \"warn\", \"miracl\", \"moon\", \"ship\", \"triumph\", \"flame\", \"hidden\", \"safe\", \"appear\", \"spirit\", \"forward\", \"rel\", \"threw\", \"swallow\", \"talk\", \"sing\", \"ascend\", \"color\", \"smoke\", \"sanctifi\", \"greatli\", \"prevail\", \"serpent\", \"complain\", \"point\", \"dream\", \"pray\", \"vow\", \"met\", \"complet\", \"angel\", \"famili\", \"speak\", \"holi\", \"face\", \"sake\", \"children\", \"god\", \"lord\", \"sun\", \"word\", \"peopl\", \"heard\", \"call\", \"day\", \"turn\", \"gather\", \"mose\", \"israel\", \"man\", \"send\", \"father\", \"grant\", \"testifi\", \"act\", \"disput\", \"learn\", \"favor\", \"shame\", \"justifi\", \"matter\", \"shepherd\", \"couch\", \"begin\", \"excel\", \"practic\", \"beauti\", \"fought\", \"forgotten\", \"longer\", \"kindl\", \"thorn\", \"buy\", \"mine\", \"part\", \"beat\", \"increas\", \"inherit\", \"plunder\", \"yoke\", \"thirst\", \"request\", \"quickli\", \"draw\", \"sight\", \"found\", \"justic\", \"troubl\", \"feed\", \"evil\", \"land\", \"even\", \"give\", \"peopl\", \"day\", \"pass\", \"lord\", \"citi\", \"god\", \"father\", \"fact\", \"author\", \"reason\", \"flow\", \"record\", \"run\", \"host\", \"star\", \"abund\", \"throw\", \"heir\", \"breast\", \"shadow\", \"cast\", \"heaven\", \"small\", \"strong\", \"abound\", \"dust\", \"regard\", \"dispers\", \"feel\", \"deep\", \"lower\", \"dog\", \"milk\", \"distanc\", \"offspr\", \"hire\", \"larg\", \"multipli\", \"earth\", \"half\", \"dealt\", \"river\", \"sea\", \"cubit\", \"full\", \"rain\", \"dwell\", \"water\", \"great\", \"mountain\", \"god\", \"made\", \"make\", \"peopl\", \"thing\", \"lord\", \"knowledg\", \"happi\", \"friend\", \"measur\", \"submit\", \"joy\", \"greater\", \"help\", \"sow\", \"vineyard\", \"oliv\", \"afflict\", \"grow\", \"behav\", \"sixth\", \"loos\", \"pleasant\", \"reap\", \"rich\", \"reviv\", \"continu\", \"steal\", \"secretli\", \"poor\", \"harvest\", \"cave\", \"reserv\", \"provid\", \"firstfruit\", \"roll\", \"leav\", \"refus\", \"famin\", \"answer\", \"month\", \"soul\", \"wise\", \"fruit\", \"commit\", \"hate\", \"field\", \"good\", \"tree\", \"time\", \"money\", \"god\", \"call\", \"evil\", \"day\", \"man\", \"give\", \"make\", \"ear\", \"deceiv\", \"companion\", \"purifi\", \"chang\", \"sacr\", \"strengthen\", \"pleas\", \"obtain\", \"driven\", \"lion\", \"twelv\", \"rebel\", \"case\", \"harm\", \"build\", \"task\", \"hard\", \"pit\", \"lip\", \"wrote\", \"inhabit\", \"arriv\", \"rightli\", \"suppli\", \"finger\", \"burden\", \"corner\", \"arrow\", \"bad\", \"consum\", \"heed\", \"ask\", \"spoke\", \"earli\", \"stone\", \"set\", \"built\", \"long\", \"tribe\", \"spoken\", \"lord\", \"god\", \"peopl\", \"hear\", \"word\", \"truth\", \"prophet\", \"path\", \"multitud\", \"stream\", \"mock\", \"murder\", \"treasur\", \"obey\", \"loud\", \"asham\", \"gift\", \"worthi\", \"take\", \"vain\", \"voic\", \"dowri\", \"escap\", \"compass\", \"recogn\", \"broke\", \"drunk\", \"silent\", \"rise\", \"bowl\", \"treat\", \"risen\", \"repay\", \"nake\", \"pluck\", \"flee\", \"readi\", \"lot\", \"follow\", \"bound\", \"drive\", \"distress\", \"pursu\", \"knew\", \"hold\", \"cri\", \"nation\", \"send\", \"mighti\", \"peopl\", \"lord\", \"god\", \"great\", \"heard\", \"call\", \"book\", \"write\", \"produc\", \"read\", \"peac\", \"offer\", \"testimoni\", \"respect\", \"lamb\", \"remembr\", \"plainli\", \"carv\", \"quarrel\", \"held\", \"fire\", \"burnt\", \"present\", \"willingli\", \"like\", \"spot\", \"sustain\", \"burn\", \"farmer\", \"slow\", \"fourth\", \"plenti\", \"counten\", \"roast\", \"horror\", \"memori\", \"sin\", \"clean\", \"altar\", \"fell\", \"fat\", \"feast\", \"skin\", \"blood\", \"grain\", \"made\", \"flesh\", \"lord\", \"make\", \"thing\", \"give\", \"peopl\", \"day\", \"receiv\", \"wait\", \"pleasur\", \"messag\", \"desol\", \"life\", \"profit\", \"conceal\", \"lack\", \"branch\", \"plead\", \"guilti\", \"anymor\", \"impos\", \"stronger\", \"seat\", \"provis\", \"pledg\", \"attain\", \"idl\", \"feebl\", \"cherubim\", \"anguish\", \"furnac\", \"weari\", \"pilgrimag\", \"end\", \"countri\", \"hail\", \"refresh\", \"swear\", \"pay\", \"merci\", \"till\", \"work\", \"enter\", \"listen\", \"saul\", \"year\", \"manner\", \"fall\", \"reign\", \"find\", \"day\", \"die\", \"soul\", \"lord\", \"make\", \"peopl\", \"land\", \"great\", \"deni\", \"gentil\", \"wind\", \"sound\", \"chosen\", \"trumpet\", \"plant\", \"heal\", \"blast\", \"caus\", \"hors\", \"close\", \"spare\", \"wither\", \"ride\", \"dilig\", \"laugh\", \"interest\", \"fli\", \"proceed\", \"wound\", \"guard\", \"wing\", \"endur\", \"furi\", \"boil\", \"locust\", \"breath\", \"sabbath\", \"captain\", \"comfort\", \"armi\", \"stay\", \"bodi\", \"trembl\", \"remain\", \"bone\", \"languag\", \"rebuk\", \"rest\", \"lay\", \"flesh\", \"place\", \"princ\", \"day\", \"peopl\", \"god\", \"lord\", \"deed\", \"suffer\", \"idol\", \"creat\", \"pain\", \"women\", \"properti\", \"seiz\", \"guid\", \"blind\", \"labor\", \"wash\", \"tabernacl\", \"sat\", \"daili\", \"feet\", \"horn\", \"household\", \"poverti\", \"nurs\", \"conceiv\", \"empti\", \"sown\", \"restrain\", \"person\", \"habit\", \"piec\", \"straw\", \"carri\", \"imag\", \"torn\", \"moab\", \"forc\", \"fill\", \"sorrow\", \"shown\", \"led\", \"eat\", \"bread\", \"break\", \"food\", \"child\", \"water\", \"drink\", \"bear\", \"god\", \"rais\", \"righteou\", \"condemn\", \"transgress\", \"purpos\", \"lost\", \"fals\", \"wick\", \"declar\", \"helper\", \"parti\", \"move\", \"claim\", \"wrath\", \"spread\", \"permit\", \"pardon\", \"fierc\", \"north\", \"concern\", \"keeper\", \"torch\", \"unright\", \"weight\", \"compar\", \"provok\", \"slay\", \"acknowledg\", \"hunt\", \"befal\", \"judg\", \"wit\", \"anger\", \"depart\", \"staff\", \"report\", \"west\", \"captiv\", \"curs\", \"bless\", \"bear\", \"evil\", \"god\", \"thing\", \"bow\", \"lord\", \"sin\", \"rejoic\", \"weep\", \"care\", \"divin\", \"deaf\", \"calf\", \"rule\", \"silver\", \"weigh\", \"grief\", \"wors\", \"light\", \"lodg\", \"merchant\", \"abundantli\", \"hang\", \"twenti\", \"thick\", \"cloud\", \"passov\", \"advanc\", \"assembl\", \"mute\", \"gold\", \"defeat\", \"confin\", \"reproach\", \"levi\", \"dark\", \"benjamin\", \"age\", \"today\", \"night\", \"name\", \"garment\", \"hundr\", \"mourn\", \"day\", \"gave\", \"year\", \"made\", \"peopl\", \"son\", \"prison\", \"come\", \"gate\", \"support\", \"thrown\", \"abomin\", \"duti\", \"flood\", \"join\", \"bewar\", \"possess\", \"governor\", \"incens\", \"glori\", \"exceedingli\", \"envi\", \"anoint\", \"damascu\", \"war\", \"event\", \"begot\", \"sweet\", \"prepar\", \"nose\", \"princip\", \"medit\", \"ahead\", \"genealog\", \"spice\", \"kiss\", \"brethren\", \"noah\", \"ceas\", \"oil\", \"thunder\", \"citi\", \"land\", \"lord\", \"told\"], \"Freq\": [14791.0, 2485.0, 2868.0, 1623.0, 1706.0, 1786.0, 1442.0, 1446.0, 2063.0, 1484.0, 1372.0, 1291.0, 1154.0, 1155.0, 1544.0, 949.0, 1073.0, 1022.0, 885.0, 955.0, 1365.0, 1149.0, 957.0, 945.0, 1826.0, 718.0, 1304.0, 749.0, 959.0, 778.0, 2484.3892296622075, 696.7131785030687, 447.08751297850574, 412.0428092462257, 234.8240626429449, 194.37029212888356, 165.29344521104042, 1133.6831526971973, 96.31290714196723, 97.03243326048623, 77.99312331535526, 63.03162386262401, 61.93581483754631, 57.01577948357345, 56.006012268900314, 55.59681362294121, 50.92823829112508, 50.81041324108382, 62.19856041704966, 39.46106122493335, 35.79385796028838, 35.276978870380184, 34.738210419367824, 32.717044852302195, 26.740415390442113, 26.66077699288051, 26.184284760216755, 24.373857115596053, 23.536225639258465, 31.561706343377377, 159.4262850920099, 1060.5362437810693, 817.9043559016487, 999.5638988917372, 796.7026982360757, 44.672692730747755, 102.91060285483144, 271.5839682561335, 196.77820073092226, 88.33550556027872, 366.5518375444306, 3112.4528192062508, 418.25602974080783, 1252.75018874796, 318.5522830824992, 939.2416201354177, 758.4378638324308, 444.844059118271, 227.21445303675102, 127.73154946668916, 237.90362811975976, 171.1506438396122, 167.4757102780728, 145.96770297493072, 142.6177123306627, 142.47016057040636, 145.38956466273035, 754.9043593480436, 650.5674175106994, 461.3677388069928, 217.48357989868086, 184.7597093828517, 166.14219449833723, 159.31504629706555, 154.603814066303, 147.41463105381098, 135.82645346413244, 382.6857030233327, 106.32334308621682, 108.1732180052098, 101.59719276404158, 544.5023353281132, 93.55695211314588, 94.86016373178367, 83.78999238894914, 87.21634740911568, 348.09221770043797, 71.82649372738494, 61.614975931884445, 60.19321970540843, 422.57051008781457, 68.15534830320861, 56.39712868568823, 230.63822025433242, 46.57477093960476, 40.401328871742884, 38.756730364808654, 838.2036128555395, 142.3342365962414, 308.65792225750255, 141.6434352651657, 199.74795898972448, 121.98611782845326, 713.8363802402855, 465.1142537558151, 210.60422364143494, 245.6412089776327, 2752.69085976107, 676.9209576830464, 1300.8637195026556, 776.9156715973303, 303.1489248221619, 256.5635680385801, 336.2238389795326, 231.76858414903703, 196.5127861015329, 207.61079331853477, 164.86844005667382, 164.6871489246157, 1072.1380387060372, 491.81678059537336, 259.8630075281568, 497.26999449347244, 191.22603743597628, 207.49253697817932, 185.5189498059706, 145.1323490114264, 130.0894056225791, 164.20685260667778, 108.44722825087146, 106.01350598084923, 147.38076715181117, 126.89664470369688, 91.25815432845505, 90.37127534840366, 86.55891626457982, 135.76447137617393, 82.81944807430547, 83.01832975228535, 67.17835529666449, 84.57893810225181, 76.89550321738447, 68.64932029152023, 50.90694635845063, 43.76981815189816, 44.16585128669439, 126.92722614968093, 40.8169443002459, 54.01513526011525, 278.49266529598356, 272.84674055794596, 230.23020004411327, 2496.4286897333477, 427.2524613314166, 699.4352401719274, 1253.9021528894286, 269.81730228899306, 534.2468492933647, 185.8035584024866, 164.2624753816198, 455.0169708891213, 212.62682764722842, 289.750131953469, 169.4884081095375, 145.69844669240987, 287.8980282153603, 226.60266778753697, 236.40456671387076, 148.29921627565435, 382.35837611587004, 339.16795648874023, 268.4714872024703, 255.85445981330074, 216.9915345478675, 225.5165450577089, 118.63195015966497, 115.63967945906855, 108.89738080043567, 119.7732186705443, 103.7010551909715, 928.1357580745072, 106.01619187609072, 267.47977850374593, 51.85473588735257, 56.495559184472654, 46.48060702679382, 195.3348782229003, 41.62273163620979, 40.78573703126073, 38.45943143830997, 33.97371542412208, 33.81482418217551, 33.393780882586356, 32.54008741735725, 238.7300209330017, 40.83825698091407, 424.46300193989305, 93.34399343018052, 33.82728166041216, 442.38324010179736, 444.7734564510641, 128.28655808046275, 184.45012546992857, 343.8171496540506, 348.6066763116968, 138.56465500108115, 443.819244761832, 348.69802077086706, 161.408540145697, 106.89315162840774, 95.8088845755521, 407.8179112502927, 1503.904145163541, 918.2650751936947, 227.079039837389, 336.48623514873583, 170.66248442270842, 281.8645843420879, 348.38312686474006, 168.79697705676952, 169.92683918913843, 200.5422287006039, 170.47470351013865, 272.13132928767476, 229.1527065179346, 159.97738826253448, 137.39211523697452, 224.2385185592095, 211.33511791031526, 122.95450050682813, 110.3501419470782, 170.9086138328541, 106.2855039239825, 116.9343067781978, 386.04978142047855, 135.18121260314965, 132.2945170715865, 77.05813994630087, 62.59723819045772, 58.0579848513566, 55.86815143125735, 51.38984882531766, 49.45051797819353, 45.597027028143145, 44.560711734407334, 88.62265035157894, 65.94153515035681, 42.62976521170607, 114.69674775048927, 35.52973162940671, 187.9884671917213, 144.67880755180474, 25.376062406115555, 387.58049818285315, 158.9566403028267, 471.0823699689229, 452.41447793827365, 234.71284642999169, 129.90101458547278, 1011.5930593588744, 451.75240419792084, 452.80879353334393, 364.96367820367834, 146.37944283135127, 403.06480642942074, 266.5363583542764, 261.0197216770374, 180.9480515228892, 125.71082850137097, 221.25128221828896, 193.73723485527077, 218.75517749502413, 196.28200349120957, 176.85689927334388, 158.55356719381913, 155.79546210635073, 266.39426215827103, 254.63913833782334, 209.5669438620287, 198.61396661681025, 211.6390874240183, 190.04589676624775, 222.71200017778466, 148.94718890562325, 122.03127963159943, 93.74297092734483, 100.49136769035628, 88.14885433725159, 82.65338866681323, 77.4780695447763, 77.9815311191677, 71.81912945448937, 71.32722682045792, 98.57971148585646, 68.91265407427197, 308.70173930564766, 62.969185676790715, 53.590432764731936, 55.996118646483154, 50.45057721145425, 54.116768016877856, 91.79525054578814, 44.78144430174399, 39.78662656283537, 32.686372257661, 33.591823765580436, 905.1680625993068, 207.96031485711902, 102.71226978915203, 275.1405506251118, 768.3125304354252, 382.22512232441244, 99.35453564235372, 98.99673936720734, 2610.5017825997093, 281.3726103008631, 156.40012184119186, 139.0669351212427, 285.88805761878814, 315.91100723022396, 166.4182618216603, 467.8326873506749, 199.42313491208668, 114.97025352451125, 199.09588878182302, 188.5220844191527, 138.39303403373012, 100.79711688132225, 356.3179128458762, 219.79419905029494, 239.92555921330566, 169.7676918462047, 1012.6706743067979, 167.01860415676828, 139.6295651517013, 134.48558953083148, 304.365459425518, 227.19475240794864, 116.70598869251965, 107.23446627292476, 104.39082388533312, 97.83416275626843, 237.4334118009331, 85.01550686007472, 94.07639535587253, 81.1368201730854, 188.62971998856932, 73.78106478029069, 67.3513241746213, 66.43303633206364, 62.47411479952262, 51.10091877166354, 127.03936478887815, 55.53778739642539, 56.96514846433466, 42.435132829770666, 41.205548437379186, 352.32923165900667, 168.30110790607574, 803.7251336043173, 124.57523723565797, 1267.3018557681737, 333.9837606787331, 415.80279187201546, 103.87580225096839, 133.6945250909913, 145.1323048515221, 211.21386733948214, 381.18320637719364, 195.17557607390862, 242.02201944424445, 227.92577630494952, 438.82996010308096, 167.17373471935545, 159.33423174313532, 170.74797838163798, 157.04814088170377, 167.93387729351466, 146.23440522410493, 1483.187046208095, 438.465533431711, 309.6525965898486, 133.52254512506738, 120.63484480368103, 116.3708515465869, 103.30423844160329, 98.79658521842846, 94.96979160838852, 144.1825914357856, 743.5431958779201, 83.35781081387147, 99.30665966176724, 73.22684549068335, 66.45895059632329, 89.46352978070867, 61.46015226868858, 60.40102171789039, 57.70226790933939, 50.72709780705516, 53.88655677096788, 81.2639325536786, 47.20596353832272, 48.593525488267716, 43.320683394772274, 33.29621227210675, 94.81314904809963, 446.855813743154, 31.061062327466587, 38.138136423515235, 108.84916609348923, 803.90084926621, 159.56827666003858, 503.95910880120505, 367.8041713429667, 323.7192079949612, 108.42813745006018, 276.6734349519676, 1327.1996361632957, 783.4376794636099, 107.4649941586271, 194.5123275370089, 328.30888133461315, 141.92091093832298, 160.17731427660405, 193.7530764570819, 144.80156748166235, 114.47411354239343, 133.5432782607916, 120.87180896357322, 126.40392053359305, 110.84471987894928, 113.90640182398107, 742.0766348351876, 289.0320620418053, 292.7861729874785, 268.71726685398335, 163.48199447661491, 946.5745050802411, 127.57332841499795, 97.89675102599224, 327.0751967410972, 100.13694127134175, 91.28831569281945, 220.3280179131377, 82.82023754568253, 87.86095050804296, 193.34116625420788, 75.1084372890941, 68.43860709400646, 169.83707164770055, 58.43382204644607, 56.94351577390837, 59.41628560515632, 75.45776384962447, 350.1355203275734, 60.709652585583626, 264.36715001375336, 256.7689759698756, 75.97567781211482, 38.78438191379308, 37.82392602115774, 34.3800360375883, 83.58795822994209, 95.57565287444348, 240.66587095974054, 394.01330042329477, 148.14369478928435, 174.17702447776682, 157.21649841205735, 669.6230648293171, 477.8555179270465, 113.90579587427291, 354.4791438627444, 454.46679212430143, 339.14444862230374, 157.65886475793286, 328.1999166871711, 141.04408730914983, 227.43967113673878, 121.35698269424398, 404.24096365251376, 336.25546515049757, 304.5635041197037, 269.9916036484244, 267.00991471354575, 239.00666043016213, 212.7984795109946, 159.26725222721856, 135.57240407847533, 131.17247045671496, 100.28750552826092, 85.67340760550547, 77.74503837594898, 327.05333185604417, 1671.3351034455009, 129.01809745832756, 246.24465202015242, 51.75690184928448, 153.7879687530628, 41.12841946320578, 39.30670286839524, 92.81627047691309, 40.8767286773412, 36.153778972162655, 40.45689763628887, 38.1176298330685, 30.800339256986614, 121.45362907337741, 28.61780345211536, 87.52163671470493, 59.13256047904568, 1633.7357895106447, 61.25901249592945, 43.687261080589245, 97.46958439149465, 324.5666913347914, 97.25349743211437, 212.98234492570896, 118.81191991749105, 294.26277954739913, 315.0990211404014, 415.80683809177003, 178.13922139955213, 536.4603009845471, 232.52880971863547, 171.4079250371015, 199.40567616823182, 139.85636628267946, 128.11028648246398, 707.8791873776062, 305.756246009013, 272.8509440770946, 224.81371173237181, 184.51056123210762, 175.57535154321815, 196.59145076139345, 112.45082141213658, 77.1816332731554, 69.60561862263103, 70.1832485644988, 256.5140439303424, 219.0652320409998, 60.942645719043, 55.77073358208392, 55.76072119798923, 50.01837185283188, 47.449509722034065, 270.11067623080027, 46.50335177842792, 245.88354799041377, 35.51438345755435, 35.08083981424857, 171.37559804748804, 53.15929874470209, 39.366711548868416, 24.392348019627075, 199.86107168707304, 22.74587445730128, 21.53178023575082, 445.32742259464163, 107.97275946326722, 57.26054051068124, 553.1403298059837, 197.4716758277517, 574.3335759555814, 342.94909664179534, 277.2682028741884, 400.6335235702845, 119.60338201184048, 118.9531267694265, 586.3580724763635, 203.0515818073949, 352.94915210067694, 88.66533751939899, 582.267386641549, 210.61762113385208, 199.13265684667368, 269.45021712748286, 178.97568318586994, 158.1354955648673, 135.7141048107953, 326.15017363257374, 268.87304084512266, 189.74702487394862, 182.08993587796562, 232.80625901035486, 172.71211466160653, 171.44801233294018, 213.03267465282772, 128.48968822495627, 127.87402893369241, 121.47495162537457, 190.4192418335235, 114.93437202839165, 118.51329034357339, 302.13952133877604, 173.69660010675406, 82.71829885857241, 230.2096998218646, 78.53333773757348, 83.52708072327884, 72.57359145895009, 221.5841268280982, 67.56772725673544, 63.29866243228593, 62.43206753046253, 53.8200393053921, 198.0906023906691, 46.044723399323566, 44.99535220524555, 139.7135623065131, 206.31689602554582, 282.93925009987123, 627.956091222625, 303.6450989628373, 93.04924532612705, 289.5480881232227, 404.7626176245712, 92.93387152696417, 201.93699234666315, 178.6330466185832, 153.7460267672333, 463.37159460381645, 485.4092876585768, 273.5073339004186, 172.475072199603, 178.8413056962891, 1370.3335938952434, 776.7876960587427, 389.4248327915033, 231.22707245606097, 220.99690397612906, 181.366668250456, 138.65361535335, 118.56296408951785, 354.33316538302347, 104.90122860192864, 88.42396850743735, 155.90895809535505, 82.6045615368744, 113.22108257818653, 72.76479603862423, 349.0334391469699, 62.90649308888559, 145.3245577030416, 50.627091459899724, 60.88904180376018, 45.8409938171669, 45.44622525975225, 45.18073150146045, 155.7371588078512, 41.02864659964474, 43.7072226822858, 37.419287237391444, 36.43779179962033, 37.121654216887116, 34.83430815327906, 60.54586856224742, 81.40384508061679, 186.18889856432622, 656.1290902099435, 90.76994856554784, 69.54506874109303, 69.16069722466617, 65.77655490169631, 239.1280438287041, 148.1556955936543, 214.44364904152764, 266.8011861960127, 224.77131341035863, 99.80251970151845, 433.3889332751033, 322.3756859803117, 324.3124893088659, 153.4698359092591, 126.46137164637197, 92.75333772661895, 1444.773780847442, 244.6877587295108, 236.93638837898447, 211.01804641739363, 713.4084331414313, 544.2700128635246, 202.58858980954457, 95.44085630304535, 138.39998771568858, 70.39883917248935, 68.39273357256704, 65.738861791637, 64.1742795199759, 54.701906259778056, 1252.0116375612142, 70.86833878265216, 226.83781847976277, 36.85092954434015, 37.91773742181811, 43.15219871353984, 29.886385903503392, 319.35368568866966, 23.22019513029701, 19.258868868009234, 73.29455294772816, 18.905670381932385, 17.26449605969654, 17.093306476582242, 14.682213654944677, 24.965141779359378, 1562.2884487134988, 57.125201737471315, 118.45919490339544, 152.0835570047398, 48.72607626157132, 102.09949884212078, 50.33106687559581, 230.8735892357158, 83.33649588947105, 281.88852999304675, 134.6198453296742, 282.26395721328623, 152.69156159797464, 152.60548243145175, 88.53614851746335, 85.58447665060423, 83.83946090382919, 1438.1782935830736, 298.234367573734, 152.60775619735318, 145.88818578041236, 123.87170008603265, 1597.147809156408, 81.88026186472682, 72.9362057716484, 70.89036041361817, 70.97279061503463, 50.0668080311602, 44.408373303086165, 52.9187200882228, 38.98416796241652, 38.610863798856144, 45.48509758740776, 40.87273240141952, 52.41013089040928, 29.51066185290475, 26.912415865126114, 21.806176234961807, 21.568633143913196, 18.978576605396963, 19.48567006182966, 35.330148677742784, 16.41722557167874, 363.17411184943785, 103.22639552217073, 15.985116760054925, 14.199360672770297, 211.82095381965712, 279.38622279917365, 953.3208043282284, 100.86844940410272, 433.54210314996806, 347.2379527733559, 195.88282163792388, 68.70239310417207, 254.86834832749508, 100.91978197532133, 134.82132260080795, 68.126527368506, 182.767185266097, 623.3192236065946, 146.49284718968306, 122.40474907476228, 194.82865281538233, 90.03544167655747, 106.86225640040028, 85.70562575024078, 83.72544449963837, 486.63588743459195, 259.5403785619864, 256.588176608394, 352.52658682233255, 217.6215894174298, 167.16613955393512, 167.14765528410047, 182.33735913942317, 113.64882352013973, 257.1694053732347, 136.80979246905954, 97.71192172472783, 68.92481761037706, 67.81695548098413, 61.89796509677836, 59.88677764739799, 60.02389473953801, 57.530727587138294, 59.840493330302046, 53.09012109751707, 52.094427030148694, 175.95877111484643, 65.08994706065623, 136.99602385472437, 49.93988391605463, 88.23874395482436, 47.52326289189451, 63.366438813682635, 140.83156770738736, 62.228577882107864, 167.93509359534363, 253.41153332716777, 279.48788297502927, 423.502542943386, 75.60307804601823, 315.0241389605823, 119.31842354659624, 92.55504188874478, 85.21522975133196, 238.24071351530165, 122.1420035975145, 257.1973684860523, 366.47104844716057, 109.48625432438602, 314.9246163694407, 280.96233225554545, 287.74657478242983, 172.71965794501565, 1152.8639866422695, 883.7062810278603, 502.96433336069083, 946.2103325875752, 278.4358269286761, 374.2361958179143, 208.74761290380613, 127.16541948429169, 525.7350688132151, 205.14970326296364, 166.0090225267241, 67.72741266199039, 52.684195300043854, 150.83717249636086, 47.664813387537286, 228.74696539219966, 55.102003262272746, 58.24429545806739, 29.374729703267395, 26.531515885464078, 39.09701800593024, 35.88365244821077, 21.574150149500003, 27.139605598019116, 349.1668327825264, 18.811230456955986, 97.85716282761739, 19.184241036159243, 207.63878591382772, 87.51513051245354, 25.063371049170776, 46.48393660108882, 99.69874857895734, 158.89226424419752, 95.68540127128713, 76.63592330187507, 103.12032622053104, 341.5865197493961, 129.1546481786741, 106.66447156337189, 148.97540374230732, 87.19563508944783, 155.910988118181, 116.89666002536335, 106.26558295213574, 109.15656404855584, 428.3919448157359, 538.3643679595873, 333.7940234015136, 272.303437275409, 267.59417440796545, 250.03915983745478, 276.4018549151966, 210.85809598066626, 171.66615096195872, 159.17771741426162, 115.26098787066724, 151.65368397823232, 96.27733074595663, 312.827824575799, 241.76259604425974, 72.42271848787813, 68.76056743378108, 66.23120734207481, 72.64011670222979, 56.20046623322397, 72.56363853569053, 51.733999292166416, 46.88373136783298, 46.68600525411983, 46.56935779819847, 41.98042778021228, 69.90938510754616, 39.328192067524846, 39.7972096504528, 39.85338314880632, 457.7327979090037, 534.0817506504758, 138.66522703672544, 232.3340692414324, 87.70349520930492, 89.22209736962759, 74.69853150516262, 147.2045588889832, 85.21060901237684, 229.75515385808205, 158.96536473868582, 216.47175542194861, 522.3163743127244, 173.66904483622113, 82.83426025962277, 125.2368031143901, 106.30036103142551, 442.5775694232779, 207.15388315887427, 210.9997190650602, 131.99657197966226, 129.00779581096262, 126.77053670706259, 163.44457696720892, 226.8148682147147, 123.4593497453231, 106.17363248313595, 86.01545999272639, 733.5742293536542, 60.98325171094383, 51.69708982366803, 53.508630780857246, 80.1823833057547, 158.68521257272087, 45.079247458864494, 311.5477237127693, 78.76994286003696, 33.58948512351727, 166.63010807132383, 27.61349563494762, 301.65383622542697, 172.083592911525, 20.25693656989663, 118.38472570416408, 42.53340654812027, 515.590680125453, 65.52741158728118, 227.45369146045877, 125.94935454270876, 731.466937414495, 255.00433104937377, 138.7302338611806, 156.8779032571903, 77.46230935307412, 372.8304050753421, 182.74281239125244, 123.77221942826658, 177.7415649227303, 135.7501271687473, 94.38966795603817, 270.06483772848134, 570.5815213729521, 382.52520566120967, 299.6461526752919, 142.74540616771668, 144.2904694676358, 112.06500603834036, 121.20054589058196, 153.19646505811957, 100.25409250616408, 324.5855330178179, 84.06391657812382, 78.60626719844946, 704.8265114531515, 105.29860552929057, 67.63713455892973, 83.92886005776955, 67.0106041046753, 174.75302028163625, 42.99592507325023, 92.76725390792366, 58.24555504887772, 478.1176554127048, 32.03432995042972, 29.809936839285296, 23.487679377463785, 23.22247017009266, 24.2207811908369, 22.480767311496823, 43.9637747033934, 518.8788440764976, 365.8028864685309, 111.98183424042675, 111.99297228460006, 48.33803271413231, 156.84604633507965, 71.04052638589519, 83.79148311154584, 64.84691526796362], \"Total\": [14791.0, 2485.0, 2868.0, 1623.0, 1706.0, 1786.0, 1442.0, 1446.0, 2063.0, 1484.0, 1372.0, 1291.0, 1154.0, 1155.0, 1544.0, 949.0, 1073.0, 1022.0, 885.0, 955.0, 1365.0, 1149.0, 957.0, 945.0, 1826.0, 718.0, 1304.0, 749.0, 959.0, 778.0, 2485.9563817123985, 698.2458469283285, 448.62018127432503, 413.57547753686526, 236.36936374449445, 195.90296041952305, 166.97778431767694, 1149.2574093897533, 97.84557543260674, 98.61292333148303, 79.52579160599477, 64.56429215326351, 63.468483133365545, 58.54844777421295, 57.53868055953981, 57.12948191358071, 52.460906601713845, 52.34308153172332, 64.23280670546266, 40.99372951557285, 37.32652625092788, 36.80964716101968, 36.270878710007324, 34.249713160616835, 28.273083689678444, 28.193445310397554, 27.716953061652784, 25.906525406235566, 25.080612740117306, 34.08817636883394, 172.5480788706805, 1197.6533800810348, 1013.1902823909562, 1304.774071819483, 1058.6411811342305, 49.22328330420687, 122.16190106540253, 370.79503630973494, 269.30770190066016, 108.24514962498885, 816.4754814390802, 14791.979069262881, 1085.9349993989906, 7441.747268300497, 895.8133319571131, 5287.439819366626, 4020.9944168105685, 2070.752785314911, 787.129492949935, 313.9928156697041, 1596.6140360400645, 907.443156858871, 1577.4271094486392, 822.5838308105509, 961.208839378419, 996.7304057192317, 2245.244589056833, 756.6406916481544, 652.1326801050125, 464.3918449701878, 219.04884250671947, 186.34011636479772, 167.7074571244021, 160.91457319179133, 156.2715195096217, 149.0957757336809, 137.40079017433308, 387.6091630924402, 107.88860567958763, 109.78193376100283, 103.17533606936605, 553.5255755780554, 95.12221471428118, 96.51255219394201, 85.35525500978018, 89.00298966048378, 355.4397691186719, 73.55417125639643, 63.180238521017706, 61.758482293082714, 434.0535363734019, 70.07939499926502, 58.01370267968233, 238.38346345646426, 48.14794571490702, 41.98464059617572, 40.32199294902671, 948.1046041599122, 154.9927035783375, 349.7875250321327, 155.47157279473865, 226.40299782789998, 140.70234139306794, 1157.3993293517865, 702.950538304642, 276.7242200204717, 347.18758400973235, 14791.979069262881, 2245.244589056833, 7441.747268300497, 5287.439819366626, 1304.774071819483, 1240.7639843285492, 4020.9944168105685, 1577.4271094486392, 1155.0084946971153, 1826.4930652746234, 580.2157951849078, 1222.4976474457792, 1073.6328039012628, 493.3425598308028, 261.37377159779834, 500.38065419115446, 192.72080262359825, 209.13369318730886, 187.26802412070822, 146.62711422641968, 131.58417081020107, 166.37886351062897, 109.94199343849343, 107.5082711684712, 149.51840665858546, 128.90987569272662, 92.75291951607701, 91.86604053602562, 88.05368145220179, 138.15526724271334, 84.3142133387238, 84.54940917603611, 68.67312048774268, 86.46876055788692, 78.85522199757351, 70.42221526381692, 52.40171157566468, 45.264583437193274, 45.80584204162226, 131.72978505260264, 42.48296638887553, 56.32781169577013, 292.36236667032426, 286.89417509408133, 244.01892434986547, 2868.4439549895483, 476.68863797200623, 929.6130278235748, 1826.4930652746234, 350.2980093735477, 885.213005308561, 236.45481498533016, 264.0819514230896, 1725.3103503180348, 652.5587238327831, 1456.9992077603554, 469.5255852946207, 338.95436435837763, 5287.439819366626, 7441.747268300497, 14791.979069262881, 1222.4976474457792, 383.90879539221805, 340.7183757506379, 270.04533726355436, 257.54147889358813, 218.86207842785183, 228.3156012775729, 120.18236940218479, 117.19693567261814, 110.44780006989744, 121.87247600858043, 105.615488796428, 945.4610128382146, 108.0191998457138, 273.65159577734295, 53.42051244091741, 58.34088783837166, 48.03102633184077, 202.10989314921346, 43.185500399109856, 42.33615976996963, 40.009850674797896, 35.52413471823497, 35.36524341866343, 34.94420015136821, 34.09050665876038, 250.38078458547906, 42.84824682855038, 447.634932594175, 98.71324219018994, 35.86477618409491, 476.27508531168996, 487.17581614409187, 137.97886594956026, 204.89094871916748, 395.07249807871176, 403.04006208865934, 157.50089541167216, 568.0141118696055, 445.2227227526788, 196.4723563170385, 128.60738984359446, 119.70592888060695, 961.208839378419, 14791.979069262881, 7441.747268300497, 530.7936310111164, 1456.9992077603554, 356.88083185029535, 1596.6140360400645, 5287.439819366626, 432.60744764765883, 469.5255852946207, 4020.9944168105685, 2070.752785314911, 273.6644683975499, 230.83187391366968, 161.57556545036508, 138.92525430647254, 226.8679689950848, 213.88246054419608, 124.61846300320705, 111.89197730755434, 173.31463381369633, 107.86509333339284, 118.72665123273447, 392.34392640619495, 137.74288108846656, 134.95444041923034, 78.60782845742385, 64.13037726190579, 59.591123929854234, 57.43721819560283, 52.922987868229825, 51.02939774823877, 47.13016608183629, 46.09385121667566, 91.79881503481471, 68.3644316275396, 44.196469207067594, 118.97617153559125, 37.09030145397043, 197.63045979496243, 152.47772795294844, 26.92186363726216, 421.94098027996006, 172.4907463133229, 530.5795315643178, 520.5949057241618, 261.94867454793564, 141.52698573620515, 1365.3211204865688, 580.546906458797, 595.6596654860193, 497.4730499249393, 176.95851689528342, 713.3852822904286, 411.33974700077556, 432.42531119622265, 338.95436435837763, 161.20812765078097, 1155.0084946971153, 895.8133319571131, 1725.3103503180348, 1222.4976474457792, 1456.9992077603554, 728.5305708023484, 1577.4271094486392, 267.9824135785839, 256.19655839310207, 211.12436389935922, 200.21524215171598, 213.35043792627215, 191.63354274394976, 225.0078489423548, 150.5597895125624, 123.58869966892998, 95.30039096467537, 102.20846429983489, 89.70627439029387, 84.21080870414377, 79.03548958210685, 79.67136106016139, 73.37654949181992, 72.88464685778847, 100.76849444896911, 70.49758225787352, 316.7975996702839, 64.67797276728784, 55.14785280206248, 57.6467729274554, 52.0079972487848, 55.81757611117665, 94.92929301404331, 46.4062824480187, 41.34404660016592, 34.25952060599768, 35.276116010891165, 957.9220809774564, 224.75622909615748, 109.82829997130335, 320.9383762498934, 996.7304057192317, 478.8229668639213, 112.68539747727925, 119.8589609580004, 14791.979069262881, 580.2157951849078, 243.09183428699907, 219.4711826529024, 1596.6140360400645, 2245.244589056833, 503.9604957674149, 7441.747268300497, 1155.2174544176198, 201.3777498899033, 1509.0404110894528, 2063.4155070294473, 1183.755439182819, 2070.752785314911, 357.8541638842819, 221.30752719989704, 241.61509643017766, 171.28101999580682, 1022.4682841531785, 168.65522671567655, 141.14289330130342, 135.99891792035422, 308.0547559006524, 229.96347666604265, 118.2193168757611, 108.74779442252685, 105.91263192539107, 99.34749091502326, 241.3728276343542, 86.57602810595576, 95.82597851039675, 82.65014832268749, 192.1582279269198, 75.34822971089832, 68.87596960977177, 67.94636448166573, 63.987442949124706, 52.614246921265625, 131.14066048161803, 57.42904501126494, 58.97892107448955, 43.979025855927944, 42.820909125376325, 366.7105596446491, 175.80317004982598, 891.2792621953721, 133.2640395828417, 1544.7181703843894, 392.6742004539878, 501.4729551412105, 114.22077190216577, 154.93027603870286, 173.06687292817847, 286.3633767993204, 808.9805883784619, 302.3659587962736, 597.8352566580386, 571.7669598552748, 5287.439819366626, 445.8973514462484, 775.2286437235176, 1596.6140360400645, 1725.3103503180348, 4020.9944168105685, 7441.747268300497, 1484.762158197455, 440.0362594338545, 311.20595819138236, 135.075906014938, 122.18820569355162, 117.93928776520691, 104.89221533845472, 100.34994610829905, 96.52315249825911, 146.6230835890819, 756.94587320877, 84.91117170374206, 101.23907297284126, 74.78020638055393, 68.03830913425362, 91.6751310435991, 63.04718173725696, 62.00897020957103, 59.26338326981936, 52.33193024172265, 55.668770597844684, 83.98144114863504, 49.128578344636594, 50.5937328332774, 45.1658552919323, 34.84957316197735, 99.40465998842035, 469.1800473488514, 32.61442321733718, 40.16310144364282, 115.31767944030311, 887.2619540303724, 176.61853046637822, 679.6977173790443, 502.7313384482529, 775.2286437235176, 159.54519317175854, 822.5838308105509, 14791.979069262881, 7441.747268300497, 199.12738108490714, 1157.3993293517865, 5287.439819366626, 566.9491702893473, 1222.4976474457792, 4020.9944168105685, 1365.3211204865688, 316.9700991795856, 1058.6411811342305, 816.4754814390802, 1725.3103503180348, 491.6317487649785, 1456.9992077603554, 743.6524852791723, 290.564561314222, 294.37573667104186, 270.4125540432981, 165.01449374903157, 955.7176768972167, 129.1058276874146, 99.42925029840889, 332.2455337325775, 101.78227163359746, 92.82081501459031, 224.22890879746208, 84.39832058238142, 89.67484493530982, 197.51820891916543, 76.77884109636898, 69.9711063664231, 173.69713686379055, 60.01114445495205, 58.495726764584845, 61.0609391021126, 77.63836556467028, 362.00181973085205, 62.768751093194034, 274.1138711440019, 266.4437612608768, 78.94311911639419, 40.31688118620973, 39.35642529357439, 35.91253531000495, 88.81784258061856, 102.25107430029844, 271.4744316603637, 541.5231149983023, 179.17118989220504, 225.12518187574383, 201.67781781559535, 1296.4510428021279, 1236.1691627361072, 158.7877917493711, 1577.4271094486392, 5287.439819366626, 4020.9944168105685, 489.70883047688125, 7441.747268300497, 819.4413988723205, 14791.979069262881, 1456.9992077603554, 405.8105460115654, 337.83976388743895, 306.1101800760366, 271.53827962363204, 268.55659070707327, 240.64946539013548, 214.34515546732752, 161.03517067933905, 137.11908003480823, 132.71914641304787, 101.85982081573654, 87.22008356183838, 79.29171433228188, 333.78493083100074, 1706.4321337101876, 131.7713840848606, 252.8205056694612, 53.33777881974307, 158.8684133557679, 42.72387269824613, 40.85337883368664, 96.51938929488087, 42.5227250847232, 37.70045492849555, 42.52084957232021, 40.08260770478681, 32.4486991447677, 128.0626120643873, 30.199160822292303, 92.71558928228788, 62.696421975278234, 2063.4155070294473, 67.37619780111264, 46.724730092551496, 116.3795886788244, 464.41157309628363, 117.68582420422881, 307.7353588748016, 159.655069589664, 592.9235132881661, 728.5305708023484, 1240.7639843285492, 476.2095184973128, 14791.979069262881, 2070.752785314911, 1509.0404110894528, 5287.439819366626, 2245.244589056833, 7441.747268300497, 709.4230434533979, 307.30010209376326, 275.0606550413605, 226.66185690596677, 186.05441734343708, 177.1192076190099, 198.41431400710363, 113.99467749343059, 78.86228834156691, 71.16293493284887, 71.80769256511869, 262.58595429347486, 224.33144798295604, 62.486501801776505, 57.349690895916844, 57.363386240374126, 51.64391414728418, 48.9933657978258, 279.0776964426314, 48.047207861161425, 256.3013572890691, 37.066709663471265, 36.62469589004031, 179.06530146061877, 56.237953928012274, 41.86645062740015, 25.953833444114338, 213.0613250547045, 24.33664099354208, 23.100514037647688, 487.81310735953383, 117.1905721492212, 61.77075953315034, 634.2844633894388, 230.88422061097143, 777.6656309399308, 454.2260408870193, 404.6237864453887, 652.5587238327831, 152.77541789545296, 152.1911995026548, 1183.755439182819, 432.60744764765883, 1155.0084946971153, 121.99640774878324, 14791.979069262881, 1222.4976474457792, 1296.4510428021279, 4020.9944168105685, 1725.3103503180348, 1577.4271094486392, 1509.0404110894528, 327.71127643882227, 270.4063801196556, 191.27091202646912, 183.61382303048615, 234.84087683181397, 174.23600185754134, 172.97189948546068, 215.06820546895526, 130.01357537747677, 129.44103746710945, 122.99883877789507, 192.9168248570559, 116.45825918091215, 120.15767240762122, 306.724797131086, 176.61847785041937, 84.24218601109291, 234.93437689793276, 80.15361870807546, 85.26058415477928, 74.09747861147059, 226.65540991793887, 69.12038221351422, 64.82255056479771, 63.95595468298304, 55.34392645791261, 203.89961152829943, 47.568610551844074, 46.51923935776606, 144.7818621716599, 219.55924608575216, 305.16182777978645, 711.1135666932012, 341.97631520259165, 97.66737012927467, 337.4467000609183, 522.8252807454845, 99.71765820364082, 323.21077636213454, 270.30449345120167, 234.05325390205627, 7441.747268300497, 14791.979069262881, 5287.439819366626, 702.950538304642, 1157.3993293517865, 1372.574713864495, 778.336135644307, 390.97327238198295, 232.82124465361514, 222.57543646981017, 182.9978084323692, 140.20205493891442, 120.27260985394467, 359.4739188355914, 106.46180557334854, 89.97240809300173, 158.67942028337103, 84.15300112735399, 115.36118908844144, 74.31323562418861, 356.71058573916395, 64.4549432265417, 148.97666038671548, 52.175531045464105, 62.839010935837614, 47.38943340273128, 46.99466484531663, 46.72917108702483, 161.08750656980973, 42.57708618520912, 45.36087297513135, 38.97639528460242, 37.98623138518471, 38.75919813544068, 36.38274774644689, 63.30307631543046, 85.76324690078735, 199.77052408402068, 739.4658324560687, 98.31771177249844, 74.62130987913137, 74.55077459070496, 70.9833953897261, 304.609896214243, 177.54492326750625, 321.87139081508417, 544.324759650919, 491.6317487649785, 168.50585645578607, 5287.439819366626, 7441.747268300497, 14791.979069262881, 1240.7639843285492, 566.9491702893473, 1222.4976474457792, 1446.2970401378866, 246.21101801995547, 238.45964766942916, 212.54130570783832, 722.5475604700937, 552.1450733905153, 205.57789740013655, 96.96411559349, 141.0133537434845, 71.922098462934, 69.9159928630117, 67.26212108208166, 65.7252454467302, 56.22516555022272, 1291.749805324486, 73.34615206576609, 236.07593394343598, 38.37418883478481, 39.585453471670924, 45.10881513794119, 31.40964520758341, 337.3019550750628, 24.743454443203404, 20.78212816191013, 79.39661728797957, 20.535054165307496, 18.818726886482956, 18.699025309075054, 16.205472960861083, 27.651494114961128, 1786.9831754336499, 65.00361354199477, 139.58407062446906, 202.31541894326222, 58.31960630367459, 139.04542624335562, 62.03472517850758, 420.12455541398964, 134.68458221312662, 2070.752785314911, 505.31170949776777, 7441.747268300497, 1509.0404110894528, 2245.244589056833, 1577.4271094486392, 5287.439819366626, 4020.9944168105685, 1442.3656798863226, 300.60182538223506, 154.15752364444566, 147.4379532167083, 125.4214675223286, 1623.6735713384492, 83.43002930102277, 74.48597321654117, 72.44874673597822, 72.76328537464414, 51.629891168901096, 45.95814073938212, 54.82683273593187, 40.540768870292716, 40.160631235152096, 47.32936826426482, 42.570132267536536, 54.60213354067999, 31.060429289200705, 28.462183335828488, 23.355943671257762, 23.297567719828795, 20.528344041692918, 21.077680904840566, 38.43593844994768, 17.979606555761993, 400.1355858772031, 113.79947581187065, 17.71606858124306, 15.771125246931046, 235.6347448973612, 318.0515428303782, 1155.2174544176198, 115.6197873598767, 562.1946714397021, 511.2967354718751, 275.45257246622344, 89.08360617192453, 457.8275077842715, 153.59351594884788, 229.5301410158649, 92.94135775077764, 503.9604957674149, 4020.9944168105685, 808.9805883784619, 777.6656309399308, 7441.747268300497, 1509.0404110894528, 5287.439819366626, 1236.1691627361072, 1240.7639843285492, 488.1685447670058, 261.0772901755526, 258.2072722664541, 354.802820600454, 219.1542467498436, 168.74488937075628, 168.99023086050263, 184.80482228347762, 115.19201508016558, 261.3384421693917, 139.4153317982923, 99.75842887555422, 70.45747494279087, 69.34961281339794, 63.430622429192155, 61.41943497981179, 61.619003952484064, 59.06338495890183, 61.51876237212519, 54.62277842993087, 53.65652538162437, 181.2838789805883, 67.08360170845167, 141.19511770613184, 51.47254124846843, 91.0712564823041, 49.064391622453975, 65.56021272512685, 145.97810030726828, 64.5265839425673, 176.22716828306753, 270.55588496169094, 301.3574455648103, 466.32650826108494, 78.91338388627044, 363.6159653549351, 129.80858660604363, 98.50782939688669, 94.58004431932241, 380.4319347820376, 163.48133652427515, 505.31170949776777, 981.6713153368252, 147.96323762421136, 4020.9944168105685, 5287.439819366626, 14791.979069262881, 7441.747268300497, 1154.4453671780316, 885.2582821075025, 504.69605358888373, 949.6595603996245, 280.0049310328891, 376.6019366893091, 210.4598260945172, 128.71742056393393, 535.2361211415205, 208.86340254889762, 170.58445222680336, 69.65659300586515, 54.23619637968609, 155.5537118735445, 49.341509788566476, 236.87821354728842, 57.406816939913334, 61.29130119184081, 30.92673081075321, 28.116738612380075, 41.70854084243202, 38.36557583922157, 23.126151229142245, 29.233131103143666, 377.909445607142, 20.363231536598228, 106.00944845110388, 20.824239318643933, 226.09746184486872, 95.44856522900484, 27.349001939186394, 51.435124754076774, 116.10344152711812, 191.7085238509609, 114.98918623014752, 90.77113292342663, 127.09675581975634, 527.2936944345666, 172.42707216897207, 139.62807525906263, 269.1085675231079, 148.78011192024962, 728.5305708023484, 432.42531119622265, 371.8317213116684, 14791.979069262881, 430.2038562144949, 540.8172474377434, 335.3307248946043, 273.84013876849974, 269.1308759010562, 251.5758613305455, 278.2670453185692, 212.58113606779182, 173.20285245504945, 160.96201607550955, 116.79768942516748, 153.8554393759723, 97.81403226191517, 318.0920853732712, 246.71927129229775, 73.95941998096886, 70.29726892687181, 67.76790883516554, 74.33935352815196, 57.75008297297055, 74.60583284713213, 53.270700808044715, 48.4204328609237, 48.222706747210545, 48.11736966598328, 43.517129273303, 72.47200052694186, 40.876208417563994, 41.38192162951234, 41.46244644528873, 483.30114561705415, 583.8274560543414, 148.93098123363185, 256.40767783917994, 94.3154433355326, 96.71804193757434, 79.9972969499877, 173.72572251944084, 96.20030710209913, 530.7936310111164, 371.8317213116684, 1296.4510428021279, 14791.979069262881, 2245.244589056833, 137.99883081533088, 7441.747268300497, 1786.9831754336499, 444.06595435957666, 208.76280683345811, 212.85380235027284, 133.50488573054383, 130.49618075217657, 128.25892164336133, 165.380905876804, 229.6354254480477, 125.06357924915164, 107.66201741943472, 87.50384492902516, 749.353349757903, 62.59416698123989, 53.185474759966795, 55.05199854386877, 82.54327983729209, 165.4639113496568, 47.139277244405996, 325.8363559017598, 82.38993396304356, 35.13365256897448, 175.1965411732256, 29.101880604406453, 320.56560406640824, 183.1848541787782, 21.82399747415763, 127.58968850257641, 45.89105906770061, 556.3431138900668, 71.36848968492909, 249.0748454141163, 141.3017824478452, 959.1544437928465, 327.7415521969653, 186.67214667840406, 284.56272078652546, 111.91447293971407, 4020.9944168105685, 787.129492949935, 457.8275077842715, 2070.752785314911, 5287.439819366626, 2868.4439549895483, 271.7901038583449, 574.2936019923491, 385.4474167195673, 301.95601369374947, 144.26914241982536, 145.83820109743166, 113.57030702718649, 122.94875913359283, 155.51362447571103, 101.91549007843447, 330.05205377057104, 85.58159782674635, 80.11156818044142, 718.3272492471947, 107.49457348648028, 69.16368819115743, 85.97804048441309, 68.90540751072253, 180.68994371193767, 44.501226071747126, 96.07519283287672, 60.384314803619965, 496.95132227628034, 33.559414149759434, 31.315237841839643, 24.992980359455746, 24.740961315603034, 25.84484800890048, 24.016179727390014, 47.01842687900786, 646.796478699584, 447.94119109809293, 132.1300541911292, 133.87134734874428, 71.18680942678048, 819.4413988723205, 1236.1691627361072, 7441.747268300497, 1085.9349993989906], \"Category\": [\"Default\", \"Default\", \"Default\", \"Default\", \"Default\", \"Default\", \"Default\", \"Default\", \"Default\", \"Default\", \"Default\", \"Default\", \"Default\", \"Default\", \"Default\", \"Default\", \"Default\", \"Default\", \"Default\", \"Default\", \"Default\", \"Default\", \"Default\", \"Default\", \"Default\", \"Default\", \"Default\", \"Default\", \"Default\", \"Default\", \"Topic1\", \"Topic1\", \"Topic1\", \"Topic1\", \"Topic1\", \"Topic1\", \"Topic1\", \"Topic1\", \"Topic1\", \"Topic1\", \"Topic1\", \"Topic1\", \"Topic1\", \"Topic1\", \"Topic1\", \"Topic1\", \"Topic1\", \"Topic1\", \"Topic1\", \"Topic1\", \"Topic1\", \"Topic1\", \"Topic1\", \"Topic1\", \"Topic1\", \"Topic1\", \"Topic1\", \"Topic1\", \"Topic1\", \"Topic1\", \"Topic1\", \"Topic1\", \"Topic1\", \"Topic1\", \"Topic1\", \"Topic1\", \"Topic1\", \"Topic1\", \"Topic1\", \"Topic1\", \"Topic1\", \"Topic1\", \"Topic1\", \"Topic1\", \"Topic1\", \"Topic1\", \"Topic1\", \"Topic1\", \"Topic1\", \"Topic1\", \"Topic1\", \"Topic1\", \"Topic1\", \"Topic1\", \"Topic1\", \"Topic1\", \"Topic1\", \"Topic2\", \"Topic2\", \"Topic2\", \"Topic2\", \"Topic2\", \"Topic2\", \"Topic2\", \"Topic2\", \"Topic2\", \"Topic2\", \"Topic2\", \"Topic2\", \"Topic2\", \"Topic2\", \"Topic2\", \"Topic2\", \"Topic2\", \"Topic2\", \"Topic2\", \"Topic2\", \"Topic2\", \"Topic2\", \"Topic2\", \"Topic2\", \"Topic2\", \"Topic2\", \"Topic2\", \"Topic2\", \"Topic2\", \"Topic2\", \"Topic2\", \"Topic2\", \"Topic2\", \"Topic2\", \"Topic2\", \"Topic2\", \"Topic2\", \"Topic2\", \"Topic2\", \"Topic2\", \"Topic2\", \"Topic2\", \"Topic2\", \"Topic2\", \"Topic2\", \"Topic2\", \"Topic2\", \"Topic2\", \"Topic2\", \"Topic2\", \"Topic2\", \"Topic2\", \"Topic3\", \"Topic3\", \"Topic3\", \"Topic3\", \"Topic3\", \"Topic3\", \"Topic3\", \"Topic3\", \"Topic3\", \"Topic3\", \"Topic3\", \"Topic3\", \"Topic3\", \"Topic3\", \"Topic3\", \"Topic3\", \"Topic3\", \"Topic3\", \"Topic3\", \"Topic3\", \"Topic3\", \"Topic3\", \"Topic3\", \"Topic3\", \"Topic3\", \"Topic3\", \"Topic3\", \"Topic3\", \"Topic3\", \"Topic3\", \"Topic3\", \"Topic3\", \"Topic3\", \"Topic3\", \"Topic3\", \"Topic3\", \"Topic3\", \"Topic3\", \"Topic3\", \"Topic3\", \"Topic3\", \"Topic3\", \"Topic3\", \"Topic3\", \"Topic3\", \"Topic3\", \"Topic3\", \"Topic3\", \"Topic3\", \"Topic3\", \"Topic4\", \"Topic4\", \"Topic4\", \"Topic4\", \"Topic4\", \"Topic4\", \"Topic4\", \"Topic4\", \"Topic4\", \"Topic4\", \"Topic4\", \"Topic4\", \"Topic4\", \"Topic4\", \"Topic4\", \"Topic4\", \"Topic4\", \"Topic4\", \"Topic4\", \"Topic4\", \"Topic4\", \"Topic4\", \"Topic4\", \"Topic4\", \"Topic4\", \"Topic4\", \"Topic4\", \"Topic4\", \"Topic4\", \"Topic4\", \"Topic4\", \"Topic4\", \"Topic4\", \"Topic4\", \"Topic4\", \"Topic4\", \"Topic4\", \"Topic4\", \"Topic4\", \"Topic4\", \"Topic4\", \"Topic4\", \"Topic4\", \"Topic4\", \"Topic4\", \"Topic4\", \"Topic4\", \"Topic4\", \"Topic4\", \"Topic4\", \"Topic4\", \"Topic4\", \"Topic4\", \"Topic4\", \"Topic5\", \"Topic5\", \"Topic5\", \"Topic5\", \"Topic5\", \"Topic5\", \"Topic5\", \"Topic5\", \"Topic5\", \"Topic5\", \"Topic5\", \"Topic5\", \"Topic5\", \"Topic5\", \"Topic5\", \"Topic5\", \"Topic5\", \"Topic5\", \"Topic5\", \"Topic5\", \"Topic5\", \"Topic5\", \"Topic5\", \"Topic5\", \"Topic5\", \"Topic5\", \"Topic5\", \"Topic5\", \"Topic5\", \"Topic5\", \"Topic5\", \"Topic5\", \"Topic5\", \"Topic5\", \"Topic5\", \"Topic5\", \"Topic5\", \"Topic5\", \"Topic5\", \"Topic5\", \"Topic5\", \"Topic5\", \"Topic5\", \"Topic5\", \"Topic5\", \"Topic5\", \"Topic5\", \"Topic5\", \"Topic5\", \"Topic5\", \"Topic5\", \"Topic5\", \"Topic5\", \"Topic6\", \"Topic6\", \"Topic6\", \"Topic6\", \"Topic6\", \"Topic6\", \"Topic6\", \"Topic6\", \"Topic6\", \"Topic6\", \"Topic6\", \"Topic6\", \"Topic6\", \"Topic6\", \"Topic6\", \"Topic6\", \"Topic6\", \"Topic6\", \"Topic6\", \"Topic6\", \"Topic6\", \"Topic6\", \"Topic6\", \"Topic6\", \"Topic6\", \"Topic6\", \"Topic6\", \"Topic6\", \"Topic6\", \"Topic6\", \"Topic6\", \"Topic6\", \"Topic6\", \"Topic6\", \"Topic6\", \"Topic6\", \"Topic6\", \"Topic6\", \"Topic6\", \"Topic6\", \"Topic6\", \"Topic6\", \"Topic6\", \"Topic6\", \"Topic6\", \"Topic6\", \"Topic6\", \"Topic6\", \"Topic6\", \"Topic6\", \"Topic6\", \"Topic6\", \"Topic7\", \"Topic7\", \"Topic7\", \"Topic7\", \"Topic7\", \"Topic7\", \"Topic7\", \"Topic7\", \"Topic7\", \"Topic7\", \"Topic7\", \"Topic7\", \"Topic7\", \"Topic7\", \"Topic7\", \"Topic7\", \"Topic7\", \"Topic7\", \"Topic7\", \"Topic7\", \"Topic7\", \"Topic7\", \"Topic7\", \"Topic7\", \"Topic7\", \"Topic7\", \"Topic7\", \"Topic7\", \"Topic7\", \"Topic7\", \"Topic7\", \"Topic7\", \"Topic7\", \"Topic7\", \"Topic7\", \"Topic7\", \"Topic7\", \"Topic7\", \"Topic7\", \"Topic7\", \"Topic7\", \"Topic7\", \"Topic7\", \"Topic7\", \"Topic7\", \"Topic7\", \"Topic7\", \"Topic7\", \"Topic7\", \"Topic7\", \"Topic7\", \"Topic8\", \"Topic8\", \"Topic8\", \"Topic8\", \"Topic8\", \"Topic8\", \"Topic8\", \"Topic8\", \"Topic8\", \"Topic8\", \"Topic8\", \"Topic8\", \"Topic8\", \"Topic8\", \"Topic8\", \"Topic8\", \"Topic8\", \"Topic8\", \"Topic8\", \"Topic8\", \"Topic8\", \"Topic8\", \"Topic8\", \"Topic8\", \"Topic8\", \"Topic8\", \"Topic8\", \"Topic8\", \"Topic8\", \"Topic8\", \"Topic8\", \"Topic8\", \"Topic8\", \"Topic8\", \"Topic8\", \"Topic8\", \"Topic8\", \"Topic8\", \"Topic8\", \"Topic8\", \"Topic8\", \"Topic8\", \"Topic8\", \"Topic8\", \"Topic8\", \"Topic8\", \"Topic8\", \"Topic8\", \"Topic8\", \"Topic8\", \"Topic8\", \"Topic8\", \"Topic8\", \"Topic9\", \"Topic9\", \"Topic9\", \"Topic9\", \"Topic9\", \"Topic9\", \"Topic9\", \"Topic9\", \"Topic9\", \"Topic9\", \"Topic9\", \"Topic9\", \"Topic9\", \"Topic9\", \"Topic9\", \"Topic9\", \"Topic9\", \"Topic9\", \"Topic9\", \"Topic9\", \"Topic9\", \"Topic9\", \"Topic9\", \"Topic9\", \"Topic9\", \"Topic9\", \"Topic9\", \"Topic9\", \"Topic9\", \"Topic9\", \"Topic9\", \"Topic9\", \"Topic9\", \"Topic9\", \"Topic9\", \"Topic9\", \"Topic9\", \"Topic9\", \"Topic9\", \"Topic9\", \"Topic9\", \"Topic9\", \"Topic9\", \"Topic9\", \"Topic9\", \"Topic9\", \"Topic9\", \"Topic9\", \"Topic10\", \"Topic10\", \"Topic10\", \"Topic10\", \"Topic10\", \"Topic10\", \"Topic10\", \"Topic10\", \"Topic10\", \"Topic10\", \"Topic10\", \"Topic10\", \"Topic10\", \"Topic10\", \"Topic10\", \"Topic10\", \"Topic10\", \"Topic10\", \"Topic10\", \"Topic10\", \"Topic10\", \"Topic10\", \"Topic10\", \"Topic10\", \"Topic10\", \"Topic10\", \"Topic10\", \"Topic10\", \"Topic10\", \"Topic10\", \"Topic10\", \"Topic10\", \"Topic10\", \"Topic10\", \"Topic10\", \"Topic10\", \"Topic10\", \"Topic10\", \"Topic10\", \"Topic10\", \"Topic10\", \"Topic10\", \"Topic10\", \"Topic10\", \"Topic10\", \"Topic10\", \"Topic10\", \"Topic10\", \"Topic10\", \"Topic11\", \"Topic11\", \"Topic11\", \"Topic11\", \"Topic11\", \"Topic11\", \"Topic11\", \"Topic11\", \"Topic11\", \"Topic11\", \"Topic11\", \"Topic11\", \"Topic11\", \"Topic11\", \"Topic11\", \"Topic11\", \"Topic11\", \"Topic11\", \"Topic11\", \"Topic11\", \"Topic11\", \"Topic11\", \"Topic11\", \"Topic11\", \"Topic11\", \"Topic11\", \"Topic11\", \"Topic11\", \"Topic11\", \"Topic11\", \"Topic11\", \"Topic11\", \"Topic11\", \"Topic11\", \"Topic11\", \"Topic11\", \"Topic11\", \"Topic11\", \"Topic11\", \"Topic11\", \"Topic11\", \"Topic11\", \"Topic11\", \"Topic11\", \"Topic11\", \"Topic11\", \"Topic11\", \"Topic11\", \"Topic11\", \"Topic11\", \"Topic11\", \"Topic11\", \"Topic12\", \"Topic12\", \"Topic12\", \"Topic12\", \"Topic12\", \"Topic12\", \"Topic12\", \"Topic12\", \"Topic12\", \"Topic12\", \"Topic12\", \"Topic12\", \"Topic12\", \"Topic12\", \"Topic12\", \"Topic12\", \"Topic12\", \"Topic12\", \"Topic12\", \"Topic12\", \"Topic12\", \"Topic12\", \"Topic12\", \"Topic12\", \"Topic12\", \"Topic12\", \"Topic12\", \"Topic12\", \"Topic12\", \"Topic12\", \"Topic12\", \"Topic12\", \"Topic12\", \"Topic12\", \"Topic12\", \"Topic12\", \"Topic12\", \"Topic12\", \"Topic12\", \"Topic12\", \"Topic12\", \"Topic12\", \"Topic12\", \"Topic12\", \"Topic12\", \"Topic12\", \"Topic13\", \"Topic13\", \"Topic13\", \"Topic13\", \"Topic13\", \"Topic13\", \"Topic13\", \"Topic13\", \"Topic13\", \"Topic13\", \"Topic13\", \"Topic13\", \"Topic13\", \"Topic13\", \"Topic13\", \"Topic13\", \"Topic13\", \"Topic13\", \"Topic13\", \"Topic13\", \"Topic13\", \"Topic13\", \"Topic13\", \"Topic13\", \"Topic13\", \"Topic13\", \"Topic13\", \"Topic13\", \"Topic13\", \"Topic13\", \"Topic13\", \"Topic13\", \"Topic13\", \"Topic13\", \"Topic13\", \"Topic13\", \"Topic13\", \"Topic13\", \"Topic13\", \"Topic13\", \"Topic13\", \"Topic13\", \"Topic13\", \"Topic13\", \"Topic13\", \"Topic13\", \"Topic13\", \"Topic13\", \"Topic13\", \"Topic13\", \"Topic14\", \"Topic14\", \"Topic14\", \"Topic14\", \"Topic14\", \"Topic14\", \"Topic14\", \"Topic14\", \"Topic14\", \"Topic14\", \"Topic14\", \"Topic14\", \"Topic14\", \"Topic14\", \"Topic14\", \"Topic14\", \"Topic14\", \"Topic14\", \"Topic14\", \"Topic14\", \"Topic14\", \"Topic14\", \"Topic14\", \"Topic14\", \"Topic14\", \"Topic14\", \"Topic14\", \"Topic14\", \"Topic14\", \"Topic14\", \"Topic14\", \"Topic14\", \"Topic14\", \"Topic14\", \"Topic14\", \"Topic14\", \"Topic14\", \"Topic14\", \"Topic14\", \"Topic14\", \"Topic14\", \"Topic14\", \"Topic14\", \"Topic14\", \"Topic14\", \"Topic14\", \"Topic14\", \"Topic15\", \"Topic15\", \"Topic15\", \"Topic15\", \"Topic15\", \"Topic15\", \"Topic15\", \"Topic15\", \"Topic15\", \"Topic15\", \"Topic15\", \"Topic15\", \"Topic15\", \"Topic15\", \"Topic15\", \"Topic15\", \"Topic15\", \"Topic15\", \"Topic15\", \"Topic15\", \"Topic15\", \"Topic15\", \"Topic15\", \"Topic15\", \"Topic15\", \"Topic15\", \"Topic15\", \"Topic15\", \"Topic15\", \"Topic15\", \"Topic15\", \"Topic15\", \"Topic15\", \"Topic15\", \"Topic15\", \"Topic15\", \"Topic15\", \"Topic15\", \"Topic15\", \"Topic15\", \"Topic15\", \"Topic15\", \"Topic15\", \"Topic15\", \"Topic15\", \"Topic15\", \"Topic15\", \"Topic15\", \"Topic15\", \"Topic15\", \"Topic15\", \"Topic16\", \"Topic16\", \"Topic16\", \"Topic16\", \"Topic16\", \"Topic16\", \"Topic16\", \"Topic16\", \"Topic16\", \"Topic16\", \"Topic16\", \"Topic16\", \"Topic16\", \"Topic16\", \"Topic16\", \"Topic16\", \"Topic16\", \"Topic16\", \"Topic16\", \"Topic16\", \"Topic16\", \"Topic16\", \"Topic16\", \"Topic16\", \"Topic16\", \"Topic16\", \"Topic16\", \"Topic16\", \"Topic16\", \"Topic16\", \"Topic16\", \"Topic16\", \"Topic16\", \"Topic16\", \"Topic16\", \"Topic16\", \"Topic16\", \"Topic16\", \"Topic16\", \"Topic16\", \"Topic16\", \"Topic16\", \"Topic16\", \"Topic16\", \"Topic16\", \"Topic16\", \"Topic16\", \"Topic16\", \"Topic17\", \"Topic17\", \"Topic17\", \"Topic17\", \"Topic17\", \"Topic17\", \"Topic17\", \"Topic17\", \"Topic17\", \"Topic17\", \"Topic17\", \"Topic17\", \"Topic17\", \"Topic17\", \"Topic17\", \"Topic17\", \"Topic17\", \"Topic17\", \"Topic17\", \"Topic17\", \"Topic17\", \"Topic17\", \"Topic17\", \"Topic17\", \"Topic17\", \"Topic17\", \"Topic17\", \"Topic17\", \"Topic17\", \"Topic17\", \"Topic17\", \"Topic17\", \"Topic17\", \"Topic17\", \"Topic17\", \"Topic17\", \"Topic17\", \"Topic17\", \"Topic17\", \"Topic17\", \"Topic17\", \"Topic17\", \"Topic17\", \"Topic17\", \"Topic17\", \"Topic17\", \"Topic18\", \"Topic18\", \"Topic18\", \"Topic18\", \"Topic18\", \"Topic18\", \"Topic18\", \"Topic18\", \"Topic18\", \"Topic18\", \"Topic18\", \"Topic18\", \"Topic18\", \"Topic18\", \"Topic18\", \"Topic18\", \"Topic18\", \"Topic18\", \"Topic18\", \"Topic18\", \"Topic18\", \"Topic18\", \"Topic18\", \"Topic18\", \"Topic18\", \"Topic18\", \"Topic18\", \"Topic18\", \"Topic18\", \"Topic18\", \"Topic18\", \"Topic18\", \"Topic18\", \"Topic18\", \"Topic18\", \"Topic18\", \"Topic18\", \"Topic18\", \"Topic18\", \"Topic18\", \"Topic18\", \"Topic18\", \"Topic18\", \"Topic18\", \"Topic18\", \"Topic18\", \"Topic18\", \"Topic19\", \"Topic19\", \"Topic19\", \"Topic19\", \"Topic19\", \"Topic19\", \"Topic19\", \"Topic19\", \"Topic19\", \"Topic19\", \"Topic19\", \"Topic19\", \"Topic19\", \"Topic19\", \"Topic19\", \"Topic19\", \"Topic19\", \"Topic19\", \"Topic19\", \"Topic19\", \"Topic19\", \"Topic19\", \"Topic19\", \"Topic19\", \"Topic19\", \"Topic19\", \"Topic19\", \"Topic19\", \"Topic19\", \"Topic19\", \"Topic19\", \"Topic19\", \"Topic19\", \"Topic19\", \"Topic19\", \"Topic19\", \"Topic19\", \"Topic19\", \"Topic19\", \"Topic19\", \"Topic19\", \"Topic19\", \"Topic19\", \"Topic20\", \"Topic20\", \"Topic20\", \"Topic20\", \"Topic20\", \"Topic20\", \"Topic20\", \"Topic20\", \"Topic20\", \"Topic20\", \"Topic20\", \"Topic20\", \"Topic20\", \"Topic20\", \"Topic20\", \"Topic20\", \"Topic20\", \"Topic20\", \"Topic20\", \"Topic20\", \"Topic20\", \"Topic20\", \"Topic20\", \"Topic20\", \"Topic20\", \"Topic20\", \"Topic20\", \"Topic20\", \"Topic20\", \"Topic20\", \"Topic20\", \"Topic20\", \"Topic20\", \"Topic20\", \"Topic20\", \"Topic20\", \"Topic20\", \"Topic20\", \"Topic20\"], \"logprob\": [30.0, 29.0, 28.0, 27.0, 26.0, 25.0, 24.0, 23.0, 22.0, 21.0, 20.0, 19.0, 18.0, 17.0, 16.0, 15.0, 14.0, 13.0, 12.0, 11.0, 10.0, 9.0, 8.0, 7.0, 6.0, 5.0, 4.0, 3.0, 2.0, 1.0, -2.2763, -3.5477, -3.9913, -4.0729, -4.6352, -4.8243, -4.9864, -3.0608, -5.5265, -5.519, -5.7375, -5.9504, -5.968, -6.0507, -6.0686, -6.076, -6.1637, -6.166, -5.9637, -6.4188, -6.5163, -6.5308, -6.5462, -6.6062, -6.8079, -6.8109, -6.8289, -6.9006, -6.9355, -6.6421, -5.0225, -3.1275, -3.3873, -3.1868, -3.4136, -6.2947, -5.4602, -4.4898, -4.812, -5.6129, -4.1899, -2.0509, -4.058, -2.961, -4.3303, -3.249, -3.4628, -3.9964, -4.6682, -5.2441, -4.6222, -4.9515, -4.9732, -5.1107, -5.1339, -5.1349, -5.1147, -3.3995, -3.5482, -3.8919, -4.644, -4.807, -4.9132, -4.9552, -4.9852, -5.0328, -5.1147, -4.0789, -5.3596, -5.3424, -5.4051, -3.7262, -5.4875, -5.4737, -5.5978, -5.5577, -4.1736, -5.7518, -5.9052, -5.9285, -3.9797, -5.8043, -5.9937, -4.5852, -6.185, -6.3272, -6.3688, -3.2948, -5.0679, -4.2939, -5.0728, -4.729, -5.2222, -3.4554, -3.8838, -4.6761, -4.5222, -2.1058, -3.5085, -2.8553, -3.3708, -4.3119, -4.4787, -4.2083, -4.5803, -4.7454, -4.6904, -4.9209, -4.922, -2.8374, -3.6167, -4.2547, -3.6057, -4.5614, -4.4798, -4.5917, -4.8372, -4.9466, -4.7137, -5.1286, -5.1513, -4.8218, -4.9715, -5.3012, -5.3109, -5.354, -4.9039, -5.3982, -5.3958, -5.6075, -5.3772, -5.4724, -5.5858, -5.8849, -6.0359, -6.0269, -4.9712, -6.1058, -5.8256, -4.1855, -4.2059, -4.3758, -1.9922, -3.7575, -3.2646, -2.6808, -4.2171, -3.534, -4.5902, -4.7134, -3.6945, -4.4553, -4.1458, -4.6821, -4.8333, -4.1522, -4.3917, -4.3493, -4.8156, -3.778, -3.8979, -4.1316, -4.1798, -4.3445, -4.306, -4.9483, -4.9739, -5.034, -4.9388, -5.0829, -2.8912, -5.0608, -4.1353, -5.7759, -5.6902, -5.8853, -4.4497, -5.9957, -6.016, -6.0748, -6.1988, -6.2035, -6.216, -6.2419, -4.249, -6.0148, -3.6735, -5.1881, -6.2031, -3.6322, -3.6268, -4.8701, -4.507, -3.8843, -3.8704, -4.793, -3.629, -3.8702, -4.6404, -5.0525, -5.162, -3.7135, -2.4085, -2.9019, -4.2991, -3.9058, -4.5847, -4.0829, -3.8711, -4.5957, -4.589, -4.4233, -4.5858, -4.027, -4.1989, -4.5583, -4.7105, -4.2206, -4.2799, -4.8215, -4.9297, -4.4922, -4.9672, -4.8717, -3.6774, -4.7267, -4.7483, -5.2888, -5.4966, -5.5719, -5.6103, -5.6939, -5.7324, -5.8135, -5.8365, -5.1489, -5.4446, -5.8808, -4.891, -6.063, -4.3969, -4.6588, -6.3995, -3.6734, -4.5647, -3.4783, -3.5187, -4.175, -4.7666, -2.714, -3.5202, -3.5179, -3.7335, -4.6471, -3.6342, -4.0478, -4.0687, -4.4351, -4.7993, -4.234, -4.3668, -4.2454, -4.3538, -4.458, -4.5672, -4.5848, -4.0441, -4.0892, -4.284, -4.3377, -4.2742, -4.3818, -4.2232, -4.6255, -4.8248, -5.0885, -5.019, -5.1501, -5.2144, -5.2791, -5.2726, -5.3549, -5.3618, -5.0382, -5.3963, -3.8967, -5.4864, -5.6477, -5.6038, -5.7081, -5.6379, -5.1095, -5.8273, -5.9456, -6.1421, -6.1148, -2.821, -4.2917, -4.9972, -4.0118, -2.9849, -3.6831, -5.0304, -5.034, -1.7618, -3.9894, -4.5767, -4.6941, -3.9735, -3.8736, -4.5146, -3.481, -4.3337, -4.8844, -4.3353, -4.3899, -4.699, -5.016, -3.7484, -4.2315, -4.1439, -4.4898, -2.7038, -4.5061, -4.6852, -4.7227, -3.906, -4.1984, -4.8645, -4.9492, -4.976, -5.0409, -4.1543, -5.1814, -5.0801, -5.228, -4.3844, -5.3231, -5.4143, -5.428, -5.4894, -5.6904, -4.7797, -5.6071, -5.5817, -5.8762, -5.9056, -3.7596, -4.4984, -2.9349, -4.7993, -2.4795, -3.8131, -3.594, -4.981, -4.7286, -4.6465, -4.2713, -3.6809, -4.3503, -4.1352, -4.1952, -3.5401, -4.5052, -4.5532, -4.484, -4.5676, -4.5006, -4.639, -2.3187, -3.5373, -3.8852, -4.7264, -4.8279, -4.8638, -4.9829, -5.0276, -5.0671, -4.6495, -3.0092, -5.1975, -5.0224, -5.3271, -5.424, -5.1268, -5.5022, -5.5196, -5.5653, -5.6942, -5.6337, -5.2229, -5.7661, -5.7371, -5.852, -6.1152, -5.0687, -3.5184, -6.1847, -5.9794, -4.9307, -2.9311, -4.5482, -3.3981, -3.7131, -3.8407, -4.9345, -3.9978, -2.4298, -2.9569, -4.9435, -4.3501, -3.8267, -4.6654, -4.5443, -4.354, -4.6453, -4.8803, -4.7262, -4.8259, -4.7811, -4.9125, -4.8852, -2.9536, -3.8965, -3.8836, -3.9694, -4.4663, -2.7102, -4.7143, -4.9791, -3.7728, -4.9565, -5.049, -4.1679, -5.1464, -5.0873, -4.2986, -5.2441, -5.3371, -4.4282, -5.4951, -5.521, -5.4785, -5.2395, -3.7047, -5.4569, -3.9857, -4.0148, -5.2326, -5.905, -5.9301, -6.0256, -5.1371, -5.0031, -4.0796, -3.5866, -4.5648, -4.403, -4.5054, -3.0563, -3.3937, -4.8277, -3.6924, -3.4439, -3.7366, -4.5026, -3.7694, -4.614, -4.1361, -4.7643, -3.5473, -3.7315, -3.8305, -3.951, -3.9621, -4.0729, -4.189, -4.4788, -4.6398, -4.6728, -4.9413, -5.0988, -5.1959, -3.7592, -2.128, -4.6894, -4.043, -5.6028, -4.5138, -5.8326, -5.878, -5.0187, -5.8388, -5.9616, -5.8491, -5.9087, -6.1218, -4.7498, -6.1953, -5.0775, -5.4696, -2.1507, -5.4342, -5.7723, -4.9698, -3.7669, -4.972, -4.1881, -4.7718, -3.8649, -3.7965, -3.5191, -4.3668, -3.2644, -4.1003, -4.4053, -4.254, -4.6087, -4.6965, -2.9306, -3.77, -3.8839, -4.0776, -4.2751, -4.3248, -4.2117, -4.7703, -5.1467, -5.25, -5.2417, -3.9456, -4.1035, -5.3829, -5.4716, -5.4718, -5.5804, -5.6332, -3.894, -5.6533, -3.988, -5.9229, -5.9352, -4.349, -5.5195, -5.8199, -6.2986, -4.1952, -6.3684, -6.4233, -3.394, -4.811, -5.4452, -3.1772, -4.2072, -3.1396, -3.6552, -3.8678, -3.4998, -4.7087, -4.7141, -3.1189, -4.1794, -3.6265, -5.008, -3.1259, -4.1428, -4.1989, -3.8964, -4.3056, -4.4294, -4.5823, -3.6775, -3.8707, -4.2192, -4.2604, -4.0147, -4.3133, -4.3206, -4.1035, -4.6091, -4.6139, -4.6652, -4.2157, -4.7205, -4.6899, -3.754, -4.3076, -5.0495, -4.0259, -5.1014, -5.0397, -5.1803, -4.0641, -5.2518, -5.317, -5.3308, -5.4793, -4.1762, -5.6353, -5.6583, -4.5253, -4.1355, -3.8197, -3.0224, -3.749, -4.9318, -3.7966, -3.4616, -4.933, -4.1569, -4.2796, -4.4296, -3.3264, -3.2799, -3.8536, -4.3146, -4.2784, -2.2254, -2.7931, -3.4836, -4.0049, -4.0501, -4.2477, -4.5163, -4.6728, -3.578, -4.7952, -4.9661, -4.399, -5.0342, -4.7189, -5.161, -3.5931, -5.3066, -4.4693, -5.5238, -5.3392, -5.6231, -5.6317, -5.6376, -4.4001, -5.734, -5.6707, -5.8261, -5.8527, -5.8341, -5.8977, -5.3449, -5.0488, -4.2215, -2.9619, -4.9399, -5.2063, -5.2118, -5.262, -3.9713, -4.45, -4.0802, -3.8618, -4.0332, -4.8451, -3.3766, -3.6725, -3.6666, -4.4148, -4.6083, -4.9183, -2.1061, -3.8819, -3.9141, -4.0299, -2.8118, -3.0824, -4.0707, -4.8233, -4.4517, -5.1277, -5.1566, -5.1962, -5.2202, -5.3799, -2.2493, -5.121, -3.9576, -5.775, -5.7464, -5.6171, -5.9844, -3.6155, -6.2368, -6.4239, -5.0874, -6.4424, -6.5332, -6.5432, -6.6952, -6.1644, -2.0279, -5.3366, -4.6073, -4.3574, -5.4956, -4.7559, -5.4632, -3.94, -4.959, -3.7403, -4.4794, -3.739, -4.3534, -4.354, -4.8984, -4.9323, -4.9529, -2.0694, -3.6426, -4.3127, -4.3577, -4.5213, -1.9645, -4.9353, -5.0509, -5.0794, -5.0782, -5.4272, -5.5471, -5.3718, -5.6774, -5.687, -5.5231, -5.6301, -5.3814, -5.9558, -6.0479, -6.2583, -6.2693, -6.3972, -6.3708, -5.7758, -6.5422, -3.4456, -4.7036, -6.5689, -6.6873, -3.9848, -3.7079, -2.4806, -4.7267, -3.2685, -3.4905, -4.063, -5.1107, -3.7998, -4.7262, -4.4366, -5.1192, -4.1323, -2.9055, -4.3535, -4.5332, -4.0684, -4.8403, -4.669, -4.8896, -4.913, -3.1447, -3.7733, -3.7847, -3.4671, -3.9495, -4.2132, -4.2133, -4.1264, -4.5991, -3.7825, -4.4136, -4.7502, -5.0992, -5.1154, -5.2067, -5.2398, -5.2375, -5.2799, -5.2405, -5.3602, -5.3792, -4.162, -5.1564, -4.4123, -5.4214, -4.8522, -5.471, -5.1833, -4.3847, -5.2014, -4.2086, -3.7972, -3.6993, -3.2837, -5.0067, -3.5796, -4.5504, -4.8044, -4.887, -3.8589, -4.527, -3.7824, -3.4283, -4.6364, -3.5799, -3.694, -3.6701, -4.1805, -2.2381, -2.504, -3.0676, -2.4356, -3.6589, -3.3632, -3.947, -4.4426, -3.0233, -3.9644, -4.1761, -5.0726, -5.3238, -4.2719, -5.4239, -3.8555, -5.2789, -5.2235, -5.908, -6.0098, -5.6221, -5.7078, -6.2166, -5.9871, -3.4326, -6.3536, -4.7046, -6.334, -3.9523, -4.8163, -6.0667, -5.449, -4.6859, -4.2199, -4.727, -4.949, -4.6522, -3.4545, -4.4271, -4.6184, -4.2843, -4.8199, -4.2388, -4.5268, -4.6222, -4.5953, -3.2216, -2.9931, -3.4711, -3.6747, -3.6921, -3.76, -3.6597, -3.9304, -4.136, -4.2116, -4.5344, -4.26, -4.7144, -3.5359, -3.7936, -4.9991, -5.051, -5.0884, -4.9961, -5.2527, -4.9971, -5.3355, -5.4339, -5.4382, -5.4407, -5.5444, -5.0344, -5.6097, -5.5978, -5.5964, -3.1553, -3.001, -4.3495, -3.8334, -4.8076, -4.7905, -4.9681, -4.2898, -4.8365, -3.8446, -4.2129, -3.9041, -3.0233, -4.1244, -4.8648, -4.4514, -4.6153, -3.1241, -3.8832, -3.8648, -4.3339, -4.3568, -4.3743, -4.1202, -3.7925, -4.4008, -4.5516, -4.7621, -2.6187, -5.1061, -5.2713, -5.2368, -4.8324, -4.1498, -5.4083, -3.4751, -4.8501, -5.7025, -4.1009, -5.8984, -3.5074, -4.0687, -6.2082, -4.4427, -5.4664, -2.9714, -5.0342, -3.7897, -4.3808, -2.6216, -3.6754, -4.2841, -4.1612, -4.8669, -3.2956, -4.0086, -4.3982, -4.0363, -4.3059, -4.6692, -3.426, -2.678, -3.0778, -3.322, -4.0636, -4.0528, -4.3055, -4.2272, -3.9929, -4.4169, -3.2421, -4.5931, -4.6602, -2.4667, -4.3678, -4.8105, -4.5947, -4.8198, -3.8613, -5.2635, -4.4945, -4.96, -2.8548, -5.5578, -5.6298, -5.8682, -5.8795, -5.8374, -5.912, -5.2413, -2.773, -3.1225, -4.3063, -4.3062, -5.1464, -3.9694, -4.7614, -4.5963, -4.8526], \"loglift\": [30.0, 29.0, 28.0, 27.0, 26.0, 25.0, 24.0, 23.0, 22.0, 21.0, 20.0, 19.0, 18.0, 17.0, 16.0, 15.0, 14.0, 13.0, 12.0, 11.0, 10.0, 9.0, 8.0, 7.0, 6.0, 5.0, 4.0, 3.0, 2.0, 1.0, 2.4623, 2.4607, 2.4595, 2.4592, 2.4564, 2.4551, 2.4528, 2.4493, 2.4472, 2.4468, 2.4435, 2.4389, 2.4385, 2.4364, 2.4359, 2.4358, 2.4333, 2.4332, 2.4308, 2.4248, 2.421, 2.4204, 2.4198, 2.4172, 2.4072, 2.407, 2.4061, 2.402, 2.3994, 2.3859, 2.3839, 2.3414, 2.2488, 2.1965, 2.1787, 2.3659, 2.2915, 2.1516, 2.1492, 2.2597, 1.6621, 0.9043, 1.5088, 0.6812, 1.429, 0.7349, 0.7949, 0.925, 1.2204, 1.5635, 0.5592, 0.7949, 0.2202, 0.7339, 0.5549, 0.5176, -0.2742, 2.5286, 2.5285, 2.5244, 2.5238, 2.5224, 2.5216, 2.5209, 2.5202, 2.5196, 2.5194, 2.5182, 2.5163, 2.5162, 2.5155, 2.5145, 2.5143, 2.5137, 2.5124, 2.5107, 2.51, 2.5072, 2.5059, 2.5053, 2.5041, 2.5031, 2.5027, 2.4979, 2.4977, 2.4925, 2.4913, 2.4077, 2.4457, 2.4058, 2.4378, 2.4057, 2.3882, 2.0477, 2.1179, 2.2579, 2.1849, 0.8494, 1.3319, 0.7869, 0.6132, 1.0714, 0.9548, 0.0494, 0.6131, 0.7598, 0.3564, 1.2727, 0.5263, 2.7408, 2.7391, 2.7364, 2.7359, 2.7344, 2.7343, 2.7328, 2.7319, 2.7307, 2.729, 2.7285, 2.7282, 2.7278, 2.7264, 2.7259, 2.7258, 2.725, 2.7247, 2.7243, 2.7239, 2.7202, 2.7201, 2.717, 2.7167, 2.7132, 2.7086, 2.7057, 2.705, 2.7022, 2.7002, 2.6936, 2.692, 2.684, 2.6033, 2.6327, 2.4577, 2.366, 2.4811, 2.2372, 2.5011, 2.2674, 1.4093, 1.6208, 1.1271, 1.7232, 1.8978, -0.1683, -0.7495, -1.3941, 0.6328, 2.8286, 2.8281, 2.8268, 2.8261, 2.8241, 2.8203, 2.8197, 2.8193, 2.8185, 2.8153, 2.8144, 2.8142, 2.8139, 2.8098, 2.8029, 2.8005, 2.7998, 2.7986, 2.7958, 2.7953, 2.7931, 2.788, 2.7878, 2.7873, 2.7861, 2.785, 2.7846, 2.7795, 2.7767, 2.7742, 2.7588, 2.7416, 2.7598, 2.7276, 2.6937, 2.6876, 2.7046, 2.5859, 2.5883, 2.6361, 2.6477, 2.61, 1.9753, 0.5466, 0.7403, 1.9836, 1.3671, 2.0949, 1.0984, 0.1129, 1.8915, 1.8163, -0.1656, 0.3356, 2.9181, 2.9164, 2.9138, 2.9126, 2.912, 2.9117, 2.9103, 2.9098, 2.9097, 2.9089, 2.9085, 2.9075, 2.9049, 2.9038, 2.9038, 2.8995, 2.8976, 2.896, 2.8943, 2.8923, 2.8906, 2.8899, 2.8885, 2.8876, 2.8876, 2.8871, 2.8807, 2.8737, 2.8712, 2.8646, 2.8388, 2.842, 2.8048, 2.7833, 2.8139, 2.838, 2.6238, 2.6729, 2.6495, 2.614, 2.734, 2.3528, 2.4898, 2.4189, 2.296, 2.675, 1.2711, 1.3925, 0.8585, 1.0946, 0.8149, 1.3988, 0.6087, 2.922, 2.9218, 2.9205, 2.9199, 2.9199, 2.9196, 2.9177, 2.9172, 2.9152, 2.9115, 2.911, 2.9104, 2.9093, 2.908, 2.9065, 2.9065, 2.9063, 2.906, 2.9052, 2.902, 2.9012, 2.8993, 2.8989, 2.8975, 2.897, 2.8944, 2.8923, 2.8895, 2.8809, 2.879, 2.8713, 2.8503, 2.8609, 2.774, 2.6676, 2.7026, 2.802, 2.7367, 1.1934, 2.2042, 2.4869, 2.4717, 1.2079, 0.9668, 1.8199, 0.1612, 1.1713, 2.3674, 0.9025, 0.535, 0.7816, -0.0946, 2.9285, 2.926, 2.9258, 2.924, 2.9232, 2.9231, 2.9221, 2.9216, 2.9208, 2.9207, 2.92, 2.9188, 2.9184, 2.9175, 2.9164, 2.9146, 2.9144, 2.9144, 2.9143, 2.9118, 2.9105, 2.9103, 2.9089, 2.9037, 2.9011, 2.8993, 2.8981, 2.8971, 2.8944, 2.8928, 2.8892, 2.8294, 2.8654, 2.7349, 2.7709, 2.7455, 2.8379, 2.7854, 2.7568, 2.6284, 2.1803, 2.4951, 2.0285, 2.0131, 0.4439, 1.9518, 1.3507, 0.6974, 0.5362, -0.2429, -0.9968, 2.9353, 2.9328, 2.9314, 2.9248, 2.9236, 2.923, 2.9211, 2.9208, 2.9202, 2.9196, 2.9185, 2.9179, 2.9171, 2.9154, 2.9129, 2.912, 2.9109, 2.9101, 2.9097, 2.9053, 2.9039, 2.9035, 2.8965, 2.8961, 2.8947, 2.8908, 2.8891, 2.8876, 2.8876, 2.8847, 2.8787, 2.8377, 2.8349, 2.6372, 2.6239, 2.0631, 2.5502, 1.8468, 0.5254, 0.6852, 2.3196, 1.153, 0.1573, 1.5514, 0.904, -0.0963, 0.6926, 1.9179, 0.8661, 1.0261, 0.3227, 1.4468, 0.3876, 2.9919, 2.9887, 2.9886, 2.9877, 2.9847, 2.9844, 2.9821, 2.9785, 2.9783, 2.9777, 2.9773, 2.9764, 2.9751, 2.9736, 2.9726, 2.972, 2.9718, 2.9715, 2.9674, 2.9671, 2.9667, 2.9655, 2.9607, 2.9606, 2.9578, 2.957, 2.9557, 2.9552, 2.9543, 2.9504, 2.9333, 2.9265, 2.8735, 2.676, 2.8038, 2.7374, 2.7449, 2.3333, 2.0435, 2.6618, 1.5011, 0.54, 0.5211, 1.8606, -0.1272, 1.2344, -1.181, 0.5086, 3.0038, 3.003, 3.0026, 3.002, 3.0019, 3.0008, 3.0004, 2.9966, 2.9963, 2.996, 2.9921, 2.9898, 2.988, 2.9873, 2.9869, 2.9866, 2.9813, 2.9776, 2.9752, 2.9696, 2.9691, 2.9686, 2.9682, 2.9658, 2.9579, 2.9574, 2.9555, 2.9547, 2.9539, 2.95, 2.9492, 2.7742, 2.9125, 2.9405, 2.8304, 2.6494, 2.817, 2.6396, 2.7122, 2.3071, 2.1695, 1.9144, 2.0244, -0.3092, 0.821, 0.8325, -0.2701, 0.2317, -1.0543, 3.062, 3.0592, 3.0561, 3.056, 3.0559, 3.0554, 3.055, 3.0506, 3.0426, 3.0421, 3.0413, 3.0408, 3.0404, 3.0392, 3.0363, 3.0359, 3.0322, 3.0322, 3.0315, 3.0315, 3.0227, 3.0214, 3.0211, 3.0203, 3.0079, 3.0026, 3.0021, 3.0002, 2.9966, 2.9939, 2.9731, 2.9823, 2.9884, 2.9273, 2.9079, 2.7611, 2.7832, 2.6862, 2.5763, 2.8194, 2.8178, 2.3617, 2.3078, 1.8787, 2.7451, -0.1707, 1.3056, 1.1908, 0.3613, 0.7983, 0.7641, 0.6555, 3.0873, 3.0864, 3.0841, 3.0838, 3.0834, 3.0833, 3.0833, 3.0826, 3.0803, 3.0799, 3.0797, 3.0791, 3.0789, 3.0783, 3.0771, 3.0754, 3.0739, 3.0718, 3.0717, 3.0716, 3.0713, 3.0695, 3.0694, 3.0683, 3.068, 3.0642, 3.0632, 3.0596, 3.0588, 3.0565, 3.0299, 3.0165, 2.9678, 2.9732, 3.0437, 2.939, 2.8362, 3.0217, 2.6218, 2.6779, 2.6719, 0.3158, -0.3247, 0.1304, 1.6871, 1.2247, 3.1071, 3.1068, 3.1048, 3.1019, 3.1016, 3.0998, 3.0977, 3.0944, 3.0944, 3.094, 3.0914, 3.0911, 3.0902, 3.09, 3.0877, 3.087, 3.0844, 3.0839, 3.0786, 3.0772, 3.0755, 3.0753, 3.0751, 3.075, 3.0717, 3.0716, 3.068, 3.0671, 3.0656, 3.0653, 3.0642, 3.0566, 3.0384, 2.9892, 3.0289, 3.0383, 3.0337, 3.0326, 2.8667, 2.9278, 2.7027, 2.3957, 2.3261, 2.585, 0.6073, -0.0304, -0.7114, 1.0188, 1.6084, 0.5301, 3.1741, 3.169, 3.1688, 3.168, 3.1624, 3.1608, 3.1605, 3.1593, 3.1565, 3.1538, 3.1531, 3.1523, 3.1513, 3.1477, 3.1439, 3.1408, 3.1353, 3.1347, 3.1321, 3.1308, 3.1255, 3.1205, 3.1116, 3.0991, 3.0952, 3.0925, 3.089, 3.0854, 3.0765, 3.073, 3.0408, 3.046, 3.0111, 2.8898, 2.9955, 2.8663, 2.9661, 2.5765, 2.6951, 1.181, 1.8525, -0.0968, 0.8844, 0.4865, 0.295, -0.9484, -0.6952, 3.2136, 3.2086, 3.2064, 3.2059, 3.2041, 3.2, 3.1977, 3.1955, 3.1948, 3.1916, 3.1858, 3.1822, 3.1811, 3.1773, 3.1771, 3.1768, 3.1758, 3.1755, 3.1653, 3.1605, 3.1478, 3.1394, 3.138, 3.138, 3.1322, 3.1256, 3.1196, 3.119, 3.1137, 3.1115, 3.11, 3.0869, 3.0244, 3.08, 2.9566, 2.8296, 2.8756, 2.9567, 2.6308, 2.7965, 2.6844, 2.9059, 2.2022, 1.3523, 1.5077, 1.3675, -0.4262, 0.3975, -0.685, 0.5476, 0.5206, 3.2217, 3.2189, 3.2185, 3.2184, 3.2178, 3.2154, 3.2138, 3.2114, 3.2113, 3.2087, 3.2059, 3.2041, 3.2028, 3.2025, 3.2003, 3.1995, 3.1986, 3.1985, 3.1971, 3.1963, 3.1953, 3.195, 3.1946, 3.1946, 3.1946, 3.1932, 3.1929, 3.1908, 3.1889, 3.1885, 3.1766, 3.1593, 3.1495, 3.1285, 3.182, 3.0814, 3.1405, 3.1625, 3.1205, 2.7568, 2.9333, 2.5495, 2.2395, 2.9236, 0.6779, 0.2899, -0.715, -0.5384, 3.2675, 3.2672, 3.2655, 3.2653, 3.2633, 3.2626, 3.2608, 3.2568, 3.251, 3.251, 3.2417, 3.2408, 3.2399, 3.2381, 3.2343, 3.234, 3.2279, 3.2179, 3.2174, 3.2109, 3.2043, 3.202, 3.1995, 3.1946, 3.1898, 3.1896, 3.1889, 3.1869, 3.1838, 3.1821, 3.1816, 3.1677, 3.1166, 3.0812, 3.0851, 3.0996, 3.0599, 2.8348, 2.98, 2.9996, 2.6776, 2.7346, 1.7272, 1.9608, 2.0164, -1.6401, 3.2712, 3.2709, 3.2708, 3.2698, 3.2697, 3.2693, 3.2687, 3.2673, 3.2665, 3.2643, 3.2622, 3.261, 3.2596, 3.2587, 3.2551, 3.2544, 3.2533, 3.2525, 3.2523, 3.2482, 3.2477, 3.2462, 3.2432, 3.243, 3.2427, 3.2395, 3.2394, 3.2368, 3.2364, 3.2358, 3.2211, 3.1864, 3.204, 3.1768, 3.2027, 3.1948, 3.2069, 3.1098, 3.1541, 2.4381, 2.4257, 1.4855, -0.0681, 0.716, 2.765, -0.8092, 0.4534, 3.337, 3.3326, 3.3316, 3.329, 3.3289, 3.3287, 3.3286, 3.328, 3.3274, 3.3264, 3.3232, 3.3191, 3.3143, 3.312, 3.3119, 3.3113, 3.2985, 3.2957, 3.2955, 3.2954, 3.2954, 3.2902, 3.2878, 3.2795, 3.2778, 3.2658, 3.2655, 3.2644, 3.2643, 3.255, 3.2495, 3.2253, 3.0693, 3.0894, 3.0435, 2.7449, 2.9724, 0.9622, 1.88, 2.0323, 0.885, -0.3219, -0.0737, 3.526, 3.5259, 3.5248, 3.5247, 3.5218, 3.5217, 3.5191, 3.5181, 3.5174, 3.516, 3.5157, 3.5145, 3.5134, 3.5134, 3.5118, 3.5101, 3.5083, 3.5045, 3.499, 3.498, 3.4974, 3.4963, 3.4938, 3.4859, 3.4831, 3.4703, 3.4691, 3.4675, 3.4663, 3.4652, 3.312, 3.3298, 3.3669, 3.354, 3.1453, 1.879, 0.6759, -0.9541, 0.7142]}, \"token.table\": {\"Topic\": [1, 3, 5, 8, 12, 14, 19, 20, 20, 10, 1, 3, 4, 6, 9, 11, 16, 20, 10, 19, 4, 6, 1, 2, 18, 9, 6, 14, 3, 3, 19, 7, 4, 7, 2, 4, 11, 16, 1, 2, 5, 13, 16, 20, 2, 4, 10, 11, 19, 20, 6, 1, 2, 5, 6, 8, 10, 12, 14, 4, 1, 2, 5, 6, 7, 8, 11, 12, 13, 18, 2, 12, 15, 18, 15, 8, 20, 1, 2, 5, 8, 11, 12, 13, 14, 16, 17, 20, 15, 6, 8, 1, 5, 1, 13, 16, 20, 12, 12, 8, 13, 1, 12, 13, 3, 4, 16, 19, 1, 6, 4, 5, 8, 20, 15, 10, 1, 1, 2, 3, 5, 6, 7, 8, 9, 11, 17, 18, 19, 12, 19, 5, 1, 2, 3, 5, 7, 12, 14, 17, 18, 3, 9, 2, 9, 10, 18, 1, 7, 1, 3, 9, 9, 14, 20, 11, 1, 4, 1, 4, 5, 7, 19, 20, 2, 5, 4, 5, 16, 1, 2, 4, 5, 6, 7, 8, 10, 11, 12, 13, 18, 19, 10, 17, 1, 2, 5, 7, 14, 15, 16, 18, 7, 8, 12, 16, 11, 16, 1, 2, 16, 14, 3, 4, 5, 3, 8, 12, 13, 5, 6, 8, 18, 13, 15, 3, 5, 7, 9, 11, 12, 14, 17, 3, 6, 7, 8, 12, 17, 19, 10, 16, 3, 4, 6, 7, 9, 14, 18, 19, 20, 13, 4, 14, 1, 2, 3, 5, 6, 7, 8, 9, 10, 11, 12, 13, 15, 16, 18, 19, 20, 1, 2, 3, 4, 5, 6, 7, 8, 9, 10, 11, 12, 13, 14, 16, 17, 18, 19, 20, 5, 12, 2, 8, 12, 14, 12, 18, 6, 8, 14, 16, 18, 14, 9, 3, 19, 1, 2, 3, 4, 5, 6, 7, 8, 9, 10, 11, 12, 13, 14, 15, 16, 17, 19, 5, 17, 16, 3, 4, 8, 18, 19, 7, 6, 11, 17, 19, 14, 12, 1, 8, 10, 12, 16, 1, 16, 1, 11, 3, 14, 20, 7, 3, 5, 12, 1, 4, 5, 16, 15, 3, 7, 13, 3, 4, 5, 6, 17, 1, 2, 3, 4, 5, 6, 7, 8, 9, 12, 13, 14, 17, 18, 19, 20, 6, 7, 16, 4, 1, 2, 3, 5, 7, 8, 9, 10, 11, 12, 13, 14, 15, 16, 17, 18, 19, 20, 18, 6, 14, 6, 16, 20, 2, 3, 5, 6, 7, 14, 18, 1, 16, 19, 20, 8, 4, 20, 3, 16, 1, 2, 4, 5, 6, 8, 10, 12, 13, 14, 15, 16, 20, 3, 11, 20, 12, 18, 13, 5, 8, 8, 12, 15, 11, 17, 18, 18, 19, 5, 2, 7, 8, 12, 20, 2, 6, 11, 12, 3, 6, 9, 14, 4, 15, 16, 19, 20, 1, 2, 3, 4, 6, 12, 13, 14, 1, 3, 5, 6, 12, 13, 14, 7, 7, 2, 8, 17, 6, 1, 2, 3, 4, 8, 9, 12, 13, 16, 5, 7, 10, 20, 5, 4, 5, 13, 18, 3, 4, 1, 3, 4, 10, 17, 20, 9, 18, 19, 1, 3, 4, 5, 6, 10, 11, 20, 7, 1, 2, 3, 4, 5, 6, 7, 8, 9, 10, 11, 12, 13, 14, 15, 16, 17, 18, 19, 20, 2, 3, 5, 7, 8, 16, 19, 3, 1, 5, 10, 1, 2, 3, 5, 7, 10, 16, 18, 12, 18, 17, 10, 1, 19, 2, 3, 6, 8, 10, 3, 16, 2, 5, 12, 18, 19, 6, 2, 6, 12, 17, 15, 1, 2, 3, 4, 5, 7, 8, 13, 15, 16, 17, 18, 20, 4, 2, 1, 2, 3, 4, 5, 6, 7, 8, 9, 10, 11, 14, 15, 17, 19, 5, 16, 2, 10, 9, 10, 13, 15, 19, 5, 10, 6, 2, 4, 6, 7, 8, 10, 19, 7, 2, 13, 5, 9, 2, 8, 5, 9, 14, 17, 13, 15, 12, 13, 4, 8, 10, 18, 20, 1, 2, 3, 4, 5, 6, 8, 10, 12, 13, 19, 20, 12, 5, 12, 1, 2, 3, 4, 5, 6, 8, 10, 12, 13, 14, 16, 18, 20, 1, 3, 4, 9, 10, 11, 12, 13, 14, 16, 17, 19, 20, 1, 2, 3, 5, 7, 8, 11, 12, 4, 17, 4, 7, 9, 15, 1, 16, 2, 4, 6, 8, 10, 20, 1, 1, 4, 15, 20, 20, 13, 15, 1, 2, 12, 16, 4, 5, 7, 9, 11, 14, 16, 20, 20, 6, 1, 1, 2, 4, 5, 9, 11, 13, 15, 18, 6, 20, 9, 5, 1, 2, 6, 1, 2, 4, 6, 7, 9, 12, 13, 16, 17, 18, 20, 1, 2, 3, 4, 5, 6, 7, 8, 10, 12, 13, 14, 17, 20, 10, 2, 12, 13, 15, 16, 18, 3, 4, 7, 8, 9, 13, 18, 2, 9, 11, 15, 14, 7, 14, 1, 2, 3, 4, 5, 6, 7, 8, 9, 10, 11, 12, 13, 14, 15, 16, 18, 19, 20, 6, 3, 9, 18, 20, 1, 3, 6, 7, 8, 9, 15, 16, 1, 8, 9, 14, 17, 7, 15, 9, 11, 17, 7, 10, 6, 17, 2, 6, 8, 14, 5, 2, 5, 7, 9, 10, 11, 15, 16, 17, 20, 18, 1, 2, 20, 2, 4, 17, 2, 3, 5, 6, 15, 16, 12, 1, 7, 8, 9, 12, 14, 19, 3, 11, 6, 8, 11, 13, 1, 3, 4, 5, 6, 14, 16, 20, 16, 20, 10, 1, 2, 9, 13, 5, 9, 11, 14, 17, 17, 20, 1, 4, 2, 9, 1, 4, 8, 9, 1, 2, 3, 4, 6, 7, 9, 10, 12, 18, 6, 14, 5, 14, 10, 11, 1, 2, 4, 6, 10, 11, 14, 16, 17, 2, 5, 14, 17, 1, 3, 10, 11, 16, 18, 16, 15, 2, 1, 4, 5, 11, 2, 4, 6, 7, 12, 19, 20, 10, 20, 1, 2, 5, 7, 8, 9, 10, 11, 12, 14, 15, 16, 17, 20, 1, 2, 3, 4, 5, 8, 9, 10, 11, 12, 16, 17, 18, 19, 20, 20, 1, 2, 4, 6, 20, 16, 13, 16, 1, 2, 3, 4, 5, 6, 7, 8, 9, 10, 11, 12, 13, 14, 15, 16, 17, 18, 19, 20, 1, 1, 7, 18, 20, 2, 1, 2, 3, 4, 5, 6, 7, 8, 9, 10, 11, 12, 13, 14, 15, 16, 17, 18, 19, 20, 1, 4, 7, 12, 15, 18, 19, 20, 1, 1, 2, 3, 4, 5, 6, 7, 8, 9, 10, 11, 12, 13, 15, 16, 19, 20, 6, 5, 9, 10, 11, 14, 19, 9, 6, 3, 7, 1, 2, 4, 5, 9, 10, 11, 12, 13, 14, 15, 16, 19, 20, 11, 8, 13, 19, 11, 18, 5, 16, 3, 17, 15, 17, 15, 3, 1, 10, 20, 1, 2, 3, 4, 5, 6, 7, 8, 9, 10, 11, 12, 13, 14, 15, 16, 17, 18, 19, 20, 4, 19, 11, 2, 3, 8, 12, 2, 12, 11, 17, 6, 11, 13, 1, 2, 3, 4, 5, 6, 7, 8, 16, 20, 4, 16, 1, 2, 3, 5, 8, 9, 11, 12, 13, 15, 16, 2, 4, 5, 6, 7, 8, 12, 13, 14, 15, 17, 18, 19, 20, 1, 2, 4, 5, 6, 7, 8, 12, 13, 20, 6, 2, 3, 4, 6, 9, 10, 14, 7, 1, 2, 12, 13, 16, 10, 14, 11, 18, 8, 7, 14, 1, 2, 4, 6, 10, 10, 1, 5, 13, 2, 4, 6, 8, 10, 16, 17, 4, 4, 7, 11, 5, 17, 14, 13, 16, 10, 1, 2, 3, 4, 5, 6, 7, 8, 9, 10, 11, 12, 13, 14, 16, 17, 18, 19, 20, 17, 4, 7, 16, 19, 20, 3, 18, 2, 5, 17, 15, 17, 14, 17, 15, 20, 4, 6, 9, 5, 12, 13, 1, 9, 12, 1, 7, 9, 2, 7, 16, 3, 8, 1, 3, 4, 20, 3, 1, 2, 3, 4, 5, 7, 8, 9, 10, 12, 13, 14, 15, 17, 18, 19, 20, 5, 4, 20, 1, 2, 7, 13, 11, 1, 2, 5, 7, 8, 9, 11, 12, 15, 18, 2, 4, 9, 12, 13, 18, 19, 1, 2, 12, 4, 9, 9, 13, 18, 1, 2, 3, 5, 7, 9, 11, 13, 14, 15, 17, 18, 19, 6, 18, 9, 1, 2, 5, 9, 16, 19, 20, 4, 5, 20, 18, 20, 1, 2, 13, 11, 3, 3, 4, 17, 15, 3, 10, 12, 11, 14, 1, 1, 2, 3, 4, 5, 6, 7, 8, 9, 10, 11, 12, 13, 14, 15, 16, 17, 18, 19, 20, 5, 16, 5, 9, 10, 16, 1, 3, 4, 5, 6, 19, 20, 1, 2, 5, 7, 14, 15, 16, 2, 9, 2, 3, 11, 18, 3, 1, 4, 17, 3, 4, 5, 6, 7, 8, 11, 12, 13, 16, 19, 20, 7, 12, 19, 1, 3, 5, 6, 9, 10, 11, 12, 13, 20, 2, 3, 4, 14, 15, 9, 12, 19, 14, 12, 12, 1, 2, 5, 11, 12, 15, 1, 2, 3, 4, 5, 6, 7, 8, 9, 10, 11, 12, 13, 14, 15, 16, 18, 20, 5, 16, 19, 2, 5, 11, 12, 16, 6, 8, 9, 14, 2, 6, 8, 12, 20, 11, 1, 2, 3, 4, 5, 6, 7, 8, 9, 10, 11, 12, 13, 14, 15, 16, 17, 18, 19, 20, 4, 18, 3, 7, 8, 9, 13, 14, 19, 13, 1, 3, 4, 6, 11, 10, 1, 2, 3, 4, 5, 6, 7, 8, 9, 10, 11, 13, 14, 15, 16, 18, 19, 20, 5, 9, 5, 1, 2, 4, 5, 6, 7, 8, 9, 10, 11, 12, 13, 14, 15, 16, 17, 18, 19, 20, 3, 4, 5, 14, 17, 19, 1, 2, 3, 4, 5, 6, 7, 8, 9, 10, 11, 12, 13, 14, 16, 17, 18, 19, 4, 8, 11, 15, 17, 3, 3, 5, 5, 4, 5, 11, 6, 9, 12, 11, 20, 4, 14, 1, 2, 3, 5, 6, 7, 8, 9, 10, 11, 12, 13, 14, 16, 17, 19, 20, 6, 19, 6, 15, 15, 8, 8, 4, 2, 3, 4, 13, 10, 2, 9, 19, 8, 5, 17, 13, 2, 4, 5, 7, 11, 18, 3, 9, 11, 14, 19, 8, 1, 2, 3, 4, 5, 7, 8, 12, 14, 19, 20, 3, 4, 5, 6, 8, 11, 13, 18, 19, 1, 2, 3, 5, 6, 7, 8, 9, 10, 11, 12, 13, 14, 16, 18, 19, 1, 2, 5, 6, 7, 19, 2, 6, 9, 11, 18, 5, 18, 10, 16, 13, 13, 19, 13, 3, 8, 9, 12, 18, 19, 1, 2, 4, 6, 7, 9, 10, 13, 15, 16, 18, 19, 1, 2, 3, 4, 5, 7, 8, 9, 11, 12, 14, 16, 19, 20, 3, 20, 6, 18, 20, 4, 8, 13, 20, 17, 2, 2, 13, 12, 1, 1, 3, 5, 7, 10, 14, 16, 17, 3, 10, 5, 20, 11, 2, 4, 5, 14, 2, 4, 5, 17, 4, 18, 8, 9, 18, 1, 2, 3, 5, 6, 7, 8, 9, 10, 12, 13, 14, 15, 16, 17, 18, 19, 20, 1, 19, 5, 13, 5, 15, 1, 13, 14, 19, 1, 2, 3, 4, 5, 6, 7, 8, 9, 10, 11, 12, 13, 14, 15, 16, 17, 18, 19, 6, 3, 11, 18, 3, 4, 8, 15, 17, 1, 2, 3, 5, 7, 16, 17, 4, 15, 16, 17, 15, 12, 1, 2, 3, 4, 5, 6, 7, 8, 9, 10, 11, 12, 13, 14, 15, 16, 17, 18, 19, 20, 7, 9, 12, 13, 14, 16, 15, 5, 12, 11, 15, 15, 18, 14, 13, 8, 9, 8, 11, 20, 1, 2, 10, 12, 20, 5, 20, 17, 2, 9, 12, 9, 6, 1, 8, 13, 14, 3, 8, 12, 20, 1, 3, 4, 5, 12, 14, 19, 2, 8, 1, 3, 4, 5, 6, 9, 12, 14, 9, 10, 15, 16, 20, 20, 16, 14, 5, 15, 3, 17, 13, 5, 8, 11, 17, 15, 18, 2, 3, 4, 20, 12, 18, 13, 16, 20, 1, 2, 3, 4, 5, 6, 7, 8, 10, 11, 12, 13, 14, 15, 16, 18, 20, 14, 5, 9, 9, 10, 18, 1, 3, 14, 9, 13, 14, 11, 10, 12, 6, 16, 7, 15, 3, 3, 13, 10, 2, 3, 3, 5, 15, 2, 3, 11, 10, 1, 5, 15, 18, 19, 8, 3, 14, 4, 1, 7, 10, 11, 13, 14, 16, 1, 2, 6, 13, 17, 14, 13, 8, 18, 9, 19, 9, 2, 11, 14, 1, 2, 8, 11, 14, 15, 16, 17, 11, 2, 1, 9, 11, 16, 9, 18, 2, 4, 12, 2, 5, 8, 13, 13, 1, 5, 7, 10, 13, 16, 14, 3, 11, 19, 1, 7, 10, 2, 11, 16, 20, 12, 8, 2, 5, 8, 9, 4, 8, 6, 7, 12, 17, 9, 15, 1, 2, 4, 9, 10, 12, 5, 6, 8, 10, 12, 13, 16, 19, 15, 11, 6, 6, 11, 16, 7, 20, 17, 1, 2, 5, 7, 8, 13, 14, 18, 19, 7, 13, 14, 8, 1, 2, 3, 4, 5, 6, 7, 8, 9, 10, 13, 14, 15, 16, 17, 20, 1, 2, 4, 5, 11, 12, 14, 16, 19, 2, 6, 15, 17, 10, 9, 1, 7, 9, 8, 2, 6, 7, 8, 14, 18, 13, 17, 7, 2, 7, 10, 12, 2, 3, 5, 7, 8, 9, 11, 12, 14, 18, 19, 2, 7, 9, 12, 15, 13, 6, 19, 1, 2, 6, 7, 8, 11, 14, 18, 20, 8, 4, 6, 11, 6, 14, 20, 7, 6, 1, 5, 13, 18, 4, 14, 10, 12, 8, 6, 1, 5, 1, 2, 3, 4, 5, 6, 7, 8, 9, 10, 11, 12, 13, 14, 15, 16, 17, 18, 19, 20, 5, 17, 1, 4, 11, 13, 15, 7, 16, 11, 17, 16, 1, 2, 5, 6, 8, 12, 14, 19, 5, 2, 20, 8, 9, 11, 1, 1, 5, 7, 8, 12, 2, 4, 8, 11, 12, 14, 14, 18, 7, 1, 4, 18, 10, 1, 11, 7, 16, 11, 6, 1, 5, 7, 10, 11, 12, 19, 20, 1, 5, 7, 8, 16, 19, 17, 13, 4, 6, 7, 9, 17, 12, 3, 3, 7, 1, 7, 10, 16, 15, 3, 4, 7, 10, 13, 18, 2, 11, 4, 3, 7, 17, 8, 13, 17, 18, 12, 7, 20, 1, 7, 9, 14, 8, 3, 7, 10, 15, 8, 20, 2, 3, 4, 7, 9, 18, 19, 2, 17, 13, 2, 8, 12, 3, 2, 6, 11, 1, 2, 1, 5, 7, 10, 16, 1, 4, 7, 9, 12, 14, 7, 19, 1, 2, 3, 4, 5, 6, 8, 9, 10, 11, 12, 13, 14, 16, 17, 18, 20, 9, 9, 7, 16, 8, 4, 10, 20, 14, 16, 20, 10, 15, 1, 2, 3, 4, 5, 6, 7, 8, 9, 10, 11, 12, 14, 17, 1, 2, 12, 16, 19, 1, 2, 3, 4, 5, 6, 7, 8, 9, 11, 12, 13, 16, 19, 20, 5, 18, 1, 17, 6, 6, 18, 13, 13, 2, 4, 6, 11, 16, 19, 20, 16, 17, 12, 13, 18, 8, 2, 9, 16, 4, 13, 1, 2, 5, 8, 9, 13, 14, 16, 19, 12, 18, 10, 11, 19, 6, 2, 5, 1, 4, 18, 7, 7, 13, 1, 4, 8, 10, 1, 7, 3, 2, 11, 4, 2, 2, 12, 13, 15, 8, 12, 15, 1, 4, 6, 2, 5, 13, 7, 1, 2, 7, 20, 8, 17, 1, 3, 4, 5, 6, 7, 8, 9, 10, 11, 12, 13, 14, 17, 20, 7, 7, 15, 19, 19, 18, 16, 18, 5, 3, 6, 18, 3, 13, 1, 2, 3, 4, 5, 11, 13, 3, 14, 16, 5, 11, 14, 3, 16, 2, 9, 11, 13, 2, 7, 8, 14, 18, 16, 3, 9, 19, 1, 3, 5, 9, 13, 2, 5, 17, 1, 2, 4, 6, 7, 8, 11, 12, 14, 15, 19, 1, 2, 4, 8, 10, 11, 12, 15, 16, 17, 20, 19, 6, 8, 13, 16, 12, 18, 14, 3, 12, 1, 3, 4, 7, 9, 10, 11, 12, 14, 15, 17, 19, 20, 6, 9], \"Freq\": [0.8431433949677674, 0.008185858203570557, 0.008185858203570557, 0.07367272383213501, 0.016371716407141114, 0.016371716407141114, 0.008185858203570557, 0.024557574610711667, 0.9873956131959993, 0.9749187377250158, 0.004199253880120844, 0.050391046561450124, 0.9280351075067065, 0.004199253880120844, 0.002099626940060422, 0.002099626940060422, 0.002099626940060422, 0.004199253880120844, 0.9918386264367866, 0.9808908201029165, 0.13709797037715465, 0.8568623148572166, 0.951365012670646, 0.9837684243667802, 0.9541002336029334, 0.9953265962521252, 0.8785521657316899, 0.09761690730352111, 0.9720624085948357, 0.9823361995016048, 0.96773314227011, 0.9896859759641269, 0.9480053583905569, 0.02788251054089873, 0.007616553617200458, 0.003808276808600229, 0.9787271398102588, 0.007616553617200458, 0.09148410880879862, 0.8833934256849617, 0.002858878400274957, 0.002858878400274957, 0.011435513601099827, 0.005717756800549914, 0.008029714910290375, 0.012044572365435562, 0.01605942982058075, 0.044163432006597066, 0.9113726423179576, 0.9296324304704731, 0.96969629166926, 0.014328282525738294, 0.007164141262869147, 0.007164141262869147, 0.007164141262869147, 0.03582070631434574, 0.007164141262869147, 0.07164141262869148, 0.8453686690185593, 0.968439277978221, 0.003381188595287503, 0.0011270628650958345, 0.004508251460383338, 0.014651817246245846, 0.032684823087779195, 0.9061585435370508, 0.006762377190575006, 0.0011270628650958345, 0.0011270628650958345, 0.02817657162739586, 0.0067145196500872735, 0.0067145196500872735, 0.05371615720069819, 0.933318231362131, 0.9255495699707262, 0.011630876842108184, 0.9769936547370874, 0.029955014030249635, 0.0630631874321045, 0.0015765796858026124, 0.0015765796858026124, 0.8718485662488447, 0.011036057800618287, 0.007882898429013062, 0.00630631874321045, 0.0015765796858026124, 0.003153159371605225, 0.0015765796858026124, 0.9666799513163448, 0.00682020849324481, 0.9821100230272526, 0.10931443176670892, 0.8877085752089638, 0.03326484656312076, 0.011088282187706919, 0.9351117978299502, 0.011088282187706919, 0.9837908562187441, 0.967341698214753, 0.967601942061264, 0.9780776336344925, 0.11109336637657388, 0.8831219504365619, 0.0028124902880145284, 0.011415750485750172, 0.017123625728625257, 0.011415750485750172, 0.9532151655601393, 0.9576694051664052, 0.9674911695711826, 0.9949566097019212, 0.9695114252427631, 0.010893386800480484, 0.010893386800480484, 0.9658591554119504, 0.9945543299395274, 0.9644615670365281, 0.01682120489151701, 0.00981236952005159, 0.0014017670742930842, 0.5649121309401129, 0.0014017670742930842, 0.04625831345167178, 0.12756080376067067, 0.08410602445758505, 0.06588305249177495, 0.06588305249177495, 0.014017670742930841, 0.0014017670742930842, 0.9669719528404027, 0.027627770081154364, 0.9827090184993569, 0.9902862089707685, 0.0026893886204017612, 0.0026893886204017612, 0.048408995167231704, 0.016136331722410566, 0.20708292377093562, 0.0026893886204017612, 0.28507519376258666, 0.42761279064388, 0.015931494295868334, 0.9718211520479684, 0.00506282436172379, 0.9771251018126915, 0.00506282436172379, 0.9647284091830307, 0.9768627977089064, 0.9933154159071994, 0.0044597282543227465, 0.0044597282543227465, 0.9811402159510043, 0.01040851410768964, 0.01040851410768964, 0.9679918120151365, 0.9762108333973939, 0.9992130265330517, 0.9680114270616113, 0.03797737567414599, 0.9472004285786999, 0.01116981637474882, 0.05604714374171045, 0.9247778717382223, 0.9812051134036611, 0.007409908091156851, 0.9781078680327043, 0.014627489415082986, 0.965414301395477, 0.9896519296121696, 0.0056519140862433806, 0.009419856810405634, 0.42766149919241575, 0.0018839713620811267, 0.0056519140862433806, 0.0018839713620811267, 0.0018839713620811267, 0.08854665401781296, 0.009419856810405634, 0.0018839713620811267, 0.0018839713620811267, 0.43331341327865913, 0.009419856810405634, 0.009575636399640545, 0.9815027309631559, 0.030943204419912648, 0.0023802464938394345, 0.026182711432233777, 0.32371352316216306, 0.5498369400769093, 0.007140739481518303, 0.004760492987678869, 0.052365422864467555, 0.0578993463199895, 0.02144420234073685, 0.010722101170368425, 0.9092341792472425, 0.010980412905517652, 0.9662763356855534, 0.007703650630099704, 0.06933285567089734, 0.9167344249818647, 0.9991031993415661, 0.06998042655982153, 0.8319895157667672, 0.0855316324620041, 0.010171107341411106, 0.030513322024233316, 0.020342214682822213, 0.9255707680684107, 0.00724643820597432, 0.3550754720927417, 0.021739314617922962, 0.6014543710958685, 0.9629592739543322, 0.9757668257340866, 0.04639642661310342, 0.017398659979913782, 0.0057995533266379275, 0.034797319959827565, 0.09279285322620684, 0.034797319959827565, 0.011599106653275855, 0.7481423791362927, 0.028647533761233152, 0.014323766880616576, 0.014323766880616576, 0.014323766880616576, 0.11459013504493261, 0.7663215281129868, 0.03580941720154144, 0.9860114378247145, 0.9609486818497524, 0.013914732526211246, 0.013914732526211246, 0.0030921627836024987, 0.07885015098186372, 0.05102068592944123, 0.0030921627836024987, 0.009276488350807497, 0.02319122087701874, 0.8024162423448484, 0.970680522999222, 0.9813070283005441, 0.009257613474533435, 0.011832880640403007, 0.006454298531128912, 0.7519257788765183, 0.09036017943580478, 0.04195294045233793, 0.016135746327822283, 0.04625580613975721, 0.0010757164218548187, 0.0010757164218548187, 0.0021514328437096373, 0.0010757164218548187, 0.020438612015241556, 0.0010757164218548187, 0.0010757164218548187, 0.0021514328437096373, 0.003227149265564456, 0.0010757164218548187, 0.18844155549303962, 0.04738588822339593, 0.03967190641958729, 0.07383382583645412, 0.13444368286637914, 0.03305992201632274, 0.05840586222883684, 0.0385699090190432, 0.08485379984189503, 0.019835953209793644, 0.020937950610337736, 0.053997872626660476, 0.014325966207073187, 0.0022039948010881827, 0.08485379984189503, 0.04077390382013138, 0.012121971405985005, 0.044079896021763654, 0.00881597920435273, 0.005661921743244293, 0.985174383324507, 0.02005662824447453, 0.010028314122237265, 0.9326332133680657, 0.02005662824447453, 0.9710660972618841, 0.019617496914381496, 0.002964702649818502, 0.005929405299637004, 0.9457401452921022, 0.032611729148003525, 0.008894107949455507, 0.968012608709692, 0.9662478315529004, 0.98167451208547, 0.9901845296433888, 0.03271989936632913, 0.13496958488610766, 0.12106362765541777, 0.0319019018821709, 0.16032750689501274, 0.019631939619797478, 0.009815969809898739, 0.13087959746531652, 0.05480583143860129, 0.0008179974841582282, 0.17259746915738614, 0.022903929556430388, 0.07607376602671523, 0.0032719899366329126, 0.0024539924524746848, 0.0008179974841582282, 0.0008179974841582282, 0.025357922008905073, 0.9800869484739112, 0.007259903322028972, 0.9608442941158001, 0.12088019952054013, 0.017268599931505733, 0.005756199977168578, 0.8461613966437809, 0.9912907247612978, 0.9853019571705354, 0.0353829712846976, 0.013268614231761598, 0.9199572534021375, 0.022114357052935997, 0.9812357823128791, 0.9903653892054937, 0.0029959411214591706, 0.0029959411214591706, 0.9796727467171488, 0.008987823364377511, 0.0029959411214591706, 0.007652911616820843, 0.9833991427614783, 0.02388547357166061, 0.9315334692947638, 0.11352451258592651, 0.030273203356247072, 0.847649693974918, 0.9925209460111916, 0.9796873738637528, 0.004258202462411049, 0.9921611737417743, 0.8129694522560373, 0.027714867690546728, 0.12009775999236916, 0.027714867690546728, 0.9443045842624841, 0.9508747762788511, 0.03420412864312414, 0.003420412864312414, 0.06721328456427217, 0.04704929919499052, 0.28229579516994313, 0.006721328456427217, 0.5847555757091679, 0.17748950870592206, 0.07050953085577726, 0.11184270411606048, 0.004862726265915673, 0.0534899889250724, 0.0012156815664789182, 0.008509770965352428, 0.33674379391466036, 0.018235223497183775, 0.018235223497183775, 0.017019541930704856, 0.01458817879774702, 0.006078407832394591, 0.05592135205803024, 0.04862726265915673, 0.05592135205803024, 0.9871452675431832, 0.9817960220578964, 0.9947331764409698, 0.9847040541606371, 0.017084809260633143, 0.0036610305558499594, 0.05125442778189943, 0.05247477130051609, 0.07322061111699919, 0.018305152779249798, 0.1720684361249481, 0.09152576389624899, 0.0024406870372333063, 0.12935641297336523, 0.043932366670199514, 0.0012203435186166531, 0.036610305558499597, 0.07077992407976588, 0.012203435186166532, 0.03172893148403298, 0.0024406870372333063, 0.19159393242281456, 0.9814542737890841, 0.09230256093568975, 0.8768743288890527, 0.9939303214947286, 0.9823731298159496, 0.010024215610366833, 0.009112813699842478, 0.022782034249606196, 0.009112813699842478, 0.6333405521390523, 0.305279258944723, 0.004556406849921239, 0.009112813699842478, 0.0030690252388579425, 0.009207075716573828, 0.957535874523678, 0.027621227149721483, 0.9786818909061044, 0.0017412696163265325, 0.99426495092245, 0.03404696369155981, 0.9533149833636746, 0.8858990569777471, 0.02671891595031848, 0.004174830617237262, 0.001669932246894905, 0.0008349661234474525, 0.03423361106134555, 0.0008349661234474525, 0.001669932246894905, 0.01669932246894905, 0.0050097967406847145, 0.0008349661234474525, 0.017534288592396502, 0.00333986449378981, 0.32640740552658803, 0.6145040827049849, 0.058232307089250444, 0.9933554349011875, 0.9767782471539959, 0.9774696869986855, 0.9762690426639827, 0.9520466228762156, 0.9452149967726883, 0.043358486090490284, 0.98005029467466, 0.02397590469006899, 0.9350602829126906, 0.9696955764758006, 0.996031604634432, 0.9164223934539274, 0.9830910369708284, 0.9928082240639252, 0.02277289656044444, 0.009109158624177776, 0.9382433382903109, 0.018218317248355553, 0.031213256475178214, 0.003901657059397277, 0.9598076366117301, 0.9670242512100605, 0.00992373663483101, 0.98244992684827, 0.9803835485143704, 0.903355476836783, 0.008787386698100133, 0.9051008299043137, 0.0263621600943004, 0.008787386698100133, 0.03514954679240053, 0.7315052581476768, 0.029705797285184844, 0.0037132246606481054, 0.04455869592777727, 0.048271920588425374, 0.0631248192310178, 0.014852898642592422, 0.05569836990972158, 0.004449264894777043, 0.004449264894777043, 0.022246324473885214, 0.9254470981136249, 0.008898529789554086, 0.01779705957910817, 0.004449264894777043, 0.9689401098477262, 0.9751163368468929, 0.0010530089325686267, 0.0010530089325686267, 0.996146450209921, 0.9914756951180911, 0.031068309534055552, 0.16466204053049444, 0.003106830953405555, 0.009320492860216665, 0.09320492860216666, 0.021747816673838887, 0.003106830953405555, 0.6648618240287888, 0.003106830953405555, 0.9760203246499517, 0.9839280011902034, 0.8242284120105138, 0.16144680235257486, 0.985456919614874, 0.01039497721081786, 0.01039497721081786, 0.07276484047572503, 0.8835730629195181, 0.023338177732249388, 0.956865287022225, 0.00989560663674906, 0.01484340995512359, 0.9648216470830333, 0.00494780331837453, 0.972811740169383, 0.9723474894125541, 0.014379615385301232, 0.05572100961804228, 0.9274851923519295, 0.00295024966529918, 0.4307364511336803, 0.014751248326495901, 0.5339951894191516, 0.00295024966529918, 0.00295024966529918, 0.00295024966529918, 0.00590049933059836, 0.9864365883565612, 0.1885105825641115, 0.08356141918409164, 0.02636163819498129, 0.04998763469048339, 0.013926903197348605, 0.017159934296733105, 0.04178070959204582, 0.04824677179081481, 0.08430750328394959, 0.0027356416994791903, 0.06689887428726383, 0.0236259964955021, 0.00024869469995265366, 0.02089035479602291, 0.15493679807050323, 0.07833883048508591, 0.00472519929910042, 0.0004973893999053073, 0.09276312308233982, 0.0004973893999053073, 0.0016788110022256844, 0.05036433006677053, 0.7605013840082351, 0.09401341612463833, 0.005036433006677053, 0.0856193611135099, 0.9885346778461054, 0.9897974680464432, 0.021401942783173238, 0.021401942783173238, 0.9416854824596226, 0.01907370755842127, 0.004487931190216769, 0.006731896785325153, 0.02468362154619223, 0.9020741692335705, 0.0011219827975541923, 0.004487931190216769, 0.03590344952173415, 0.9947990128079328, 0.993055238767724, 0.9987479986328286, 0.9641903221938555, 0.054589665967911066, 0.9389422546480704, 0.0902056323031664, 0.8957629068244664, 0.0020978054023992184, 0.004195610804798437, 0.004195610804798437, 0.9889030467863733, 0.9976062677951454, 0.011700117661381472, 0.06240062752736785, 0.007800078440920981, 0.9048090991468338, 0.0039000392204604907, 0.978756969956849, 0.979068833132772, 0.002813416187163138, 0.011253664748652551, 0.002813416187163138, 0.9886664735279426, 0.004518686435933812, 0.055353908840189196, 0.6032446391971639, 0.002259343217966906, 0.020334088961702152, 0.002259343217966906, 0.027112118615602872, 0.10054077319952731, 0.0768176694108748, 0.04405719275035466, 0.004518686435933812, 0.0576132520581561, 0.002259343217966906, 0.9897869712569815, 0.9788703858686835, 0.06675067458446532, 0.0012361236034160246, 0.11248724791085823, 0.0012361236034160246, 0.07787578701520954, 0.0012361236034160246, 0.47096309290150534, 0.0024722472068320492, 0.011125112430744221, 0.0037083708102480734, 0.06304230377421725, 0.0012361236034160246, 0.18047404609873957, 0.0012361236034160246, 0.0024722472068320492, 0.990248739368645, 0.9768894816391855, 0.9882023908121569, 0.9546334015300983, 0.9947763000564245, 0.9553541687972011, 0.9255437033192538, 0.05365470743879732, 0.9887278602404022, 0.023517874408863406, 0.9407149763545363, 0.9714333891763941, 0.005778113298522433, 0.09822792607488136, 0.017334339895567298, 0.8378264282857527, 0.023112453194089732, 0.005778113298522433, 0.005778113298522433, 0.9901857372112933, 0.9898188360036039, 0.9774269721807377, 0.039119393388987844, 0.9388654413357084, 0.020119781107173246, 0.9556896025907292, 0.6035724395456709, 0.013875228495302778, 0.10868928987987177, 0.27056695565840416, 0.9380698370664253, 0.04020299301713251, 0.9888672286988149, 0.9575555043985933, 0.006294517449233994, 0.006294517449233994, 0.9693556871820351, 0.012589034898467988, 0.9861732607026361, 0.020238698130643867, 0.05734297803682428, 0.005059674532660967, 0.20238698130643865, 0.07758167616746815, 0.053969861681716975, 0.0016865581775536555, 0.4958481042007747, 0.01855213995309021, 0.026984930840858488, 0.008432790887768278, 0.02867148901841214, 0.9947780971792659, 0.030716502308080314, 0.9522115715504897, 0.0009692667294524978, 0.030531901977753684, 0.0014539000941787468, 0.03295506880138493, 0.0004846333647262489, 0.09159570593326105, 0.005330967011988738, 0.7918909179626907, 0.0019385334589049957, 0.012600467482882472, 0.0004846333647262489, 0.008723400565072481, 0.020354601318502454, 0.0004846333647262489, 0.0018964763101753587, 0.005689428930526076, 0.07396257609683898, 0.005689428930526076, 0.007585905240701435, 0.12516743647157366, 0.007585905240701435, 0.0018964763101753587, 0.11568505492069688, 0.0018964763101753587, 0.6485948980799726, 0.0037929526203507175, 0.0018964763101753587, 0.03806224035048035, 0.004229137816720039, 0.7866196339099273, 0.012687413450160117, 0.021145689083600195, 0.0972701697845609, 0.012687413450160117, 0.029603964717040274, 0.9598756905301667, 0.9383411877060056, 0.0399864460066049, 0.012495764377064032, 0.03498814025577929, 0.9071924937748487, 0.021247193590955983, 0.9702885073203232, 0.7085506836359221, 0.11233120594228034, 0.07776775796004023, 0.04896488464150681, 0.034563447982240106, 0.017281723991120053, 0.9549718840841119, 0.02738136003759034, 0.28750428039469855, 0.6786665666459891, 0.003911622862512906, 0.983174867888173, 0.9733068228513593, 0.013424921694501508, 0.7335589028025477, 0.09978558604299362, 0.15642064839171974, 0.010787630923566879, 0.0062977133757133475, 0.044083993629993434, 0.0062977133757133475, 0.7179393248313216, 0.0062977133757133475, 0.03778628025428009, 0.144847407641407, 0.031488566878566736, 0.9662655121158511, 0.9910765382105884, 0.9982157474565596, 0.0007713364924591495, 0.08330434118558815, 0.006942028432132346, 0.03162479619082513, 0.5167954499476302, 0.15349596199937074, 0.006942028432132346, 0.03162479619082513, 0.1666086823711763, 0.994674400061685, 0.9767934937962797, 0.9834318909104771, 0.9732993133049953, 0.9757715588432353, 0.984122184279985, 0.9613906061566, 0.0017234966857138246, 0.28437695314278105, 0.0051704900571414745, 0.48430256868558474, 0.017234966857138247, 0.017234966857138247, 0.07238686079998063, 0.01895846354285207, 0.0051704900571414745, 0.08445133759997742, 0.0034469933714276492, 0.0034469933714276492, 0.06191721679613146, 0.050307738646856816, 0.027088782348307517, 0.005159768066344289, 0.010319536132688578, 0.08900599914443898, 0.20510078063718548, 0.4179412133738874, 0.005159768066344289, 0.06449710082930361, 0.054177564696615034, 0.0025798840331721445, 0.0012899420165860722, 0.0012899420165860722, 0.9955384451454995, 0.1350585150290014, 0.00435672629125811, 0.15684214648529196, 0.5881580493198448, 0.10891815728145274, 0.9918529867021306, 0.016985760169548527, 0.005661920056516175, 0.01132384011303235, 0.905907209042588, 0.033971520339097054, 0.005661920056516175, 0.01132384011303235, 0.016188889493310064, 0.016188889493310064, 0.9227667011186736, 0.016188889493310064, 0.9295387615659987, 0.13717513726590327, 0.8401977157536575, 0.04598492548461292, 0.018531238628127594, 0.1990392297095186, 0.23061096959447674, 0.12148256433994756, 0.03706247725625519, 0.03157173988495812, 0.07824300754098318, 0.08304740274086811, 0.01098147474259413, 0.004118053028472799, 0.014413185599654797, 0.02814002902789746, 0.0006863421714121331, 0.006177079542709198, 0.02608100251366106, 0.046671267656025056, 0.007549763885533464, 0.009608790399769864, 0.9638249287280614, 0.002092668209813902, 0.9908783973468828, 0.005231670524534756, 0.001046334104906951, 0.1424658053824836, 0.00200656063918991, 0.7705192854489255, 0.023075447350683967, 0.047154175020962884, 0.00601968191756973, 0.00401312127837982, 0.003009840958784865, 0.057535153914365346, 0.04315136543577401, 0.14383788478591336, 0.7335732124081581, 0.014383788478591336, 0.9574761684754324, 0.9419443851062884, 0.7784693512677402, 0.18841933342786069, 0.02479201755629746, 0.020721225181913525, 0.9635369709589788, 0.02532947167301314, 0.9667415021866682, 0.029656662014884063, 0.04448499302232609, 0.16805441808434302, 0.7513021043770629, 0.9866449026099872, 0.0065706821634095615, 0.013141364326819123, 0.05256545730727649, 0.05256545730727649, 0.0065706821634095615, 0.7819111774457378, 0.019712046490228684, 0.0065706821634095615, 0.03942409298045737, 0.0065706821634095615, 0.9739123005925165, 0.18068530465566426, 0.7624919856469032, 0.05420559139669928, 0.005216252151508013, 0.15127131239373237, 0.8293840920897741, 0.10715125580978431, 0.001984282514996006, 0.1706482962896565, 0.329390897489337, 0.3631237002442691, 0.02381139017995207, 0.9757168212679196, 0.0015482874406144017, 0.0007741437203072009, 0.018579449287372818, 0.0030965748812288034, 0.0046448623218432045, 0.9692279378246154, 0.0007741437203072009, 0.9586738482165297, 0.9450770139602763, 0.9790218086157796, 0.9819603835008239, 0.015797020590549795, 0.9636182560235375, 0.00197897650342183, 0.02176874153764013, 0.12665449621899713, 0.00791590601368732, 0.05541134209581124, 0.26716182796194704, 0.5085969613794104, 0.00989488251710915, 0.9753122086081928, 0.9841498267463167, 0.9943349437664399, 0.0013523275263153008, 0.006761637631576504, 0.10277689199996286, 0.8871268572628372, 0.0037159723646261527, 0.09661528148027997, 0.33443751281635375, 0.0037159723646261527, 0.5536798823292968, 0.8613009113656905, 0.12919513670485358, 0.08415852889518934, 0.9134279355697379, 0.9978316106095476, 0.9718297098790913, 0.9881554044703684, 0.9613958992872944, 0.9774921053920891, 0.9768316235180436, 0.0018466432407102974, 0.0018466432407102974, 0.02031307564781327, 0.003693286481420595, 0.0018466432407102974, 0.2271371186073666, 0.7275774368398572, 0.005539929722130892, 0.0018466432407102974, 0.005539929722130892, 0.05037998011290072, 0.9194346370604382, 0.9873584225759656, 0.004407850100785561, 0.0036355617630941485, 0.9925083613247025, 0.9808138771688787, 0.0024714315705089375, 0.05190006298068769, 0.04201433669865194, 0.1112144206729022, 0.6845865450309757, 0.004942863141017875, 0.014828589423053627, 0.08402867339730388, 0.916172159860605, 0.006451916618736655, 0.006451916618736655, 0.06451916618736656, 0.0032495453354999025, 0.0032495453354999025, 0.6921531564614792, 0.2729618081819918, 0.019497272012999414, 0.009748636006499707, 0.9713917126927895, 0.9014274428851696, 0.9859434264762508, 0.002246066853500422, 0.7838773318716472, 0.002246066853500422, 0.21113028422903965, 0.010713971182029474, 0.021427942364058948, 0.11249669741130947, 0.021427942364058948, 0.010713971182029474, 0.7446209971510483, 0.06964081268319158, 0.0025943876041788373, 0.9936504524004947, 0.025238973709843352, 0.034703588851034604, 0.04416820399222586, 0.003154871713730419, 0.35965537536526776, 0.29655794109065936, 0.05994256256087796, 0.05678769084714754, 0.003154871713730419, 0.003154871713730419, 0.003154871713730419, 0.050477947419686704, 0.01892923028238251, 0.034703588851034604, 0.2883896513002826, 0.047006242722953555, 0.13212565522127484, 0.05716975466305162, 0.07241502257319872, 0.005081755970049033, 0.07368546156571097, 0.036842730782855486, 0.0012704389925122582, 0.02667921884275742, 0.007622633955073549, 0.011433950932610324, 0.005081755970049033, 0.23249033562974325, 0.0012704389925122582, 0.9286183455880588, 0.011981750136963131, 0.003993916712321043, 0.9545460942447295, 0.01996958356160522, 0.007987833424642087, 0.9958736733676521, 0.9831142546488632, 0.0063020144528773275, 0.10586860020325871, 0.14707494159973666, 0.04437605996543778, 0.048179722248189595, 0.09889521935154706, 0.001901831141375905, 0.02218802998271889, 0.001901831141375905, 0.22441607468235678, 0.018384367699967083, 0.100163106779131, 0.058956765382653056, 0.005705493424127715, 0.05642099052748518, 0.006339437137919683, 0.012678874275839367, 0.02282197369651086, 0.001901831141375905, 0.020286198841342987, 0.0012678874275839367, 0.9961905924735955, 0.00556849263924206, 0.00278424631962103, 0.00835273895886309, 0.981446827666413, 0.9843279225390026, 0.21038428904125525, 0.18611437909080197, 0.01595459261366846, 0.10167672580914136, 0.0003380210299506029, 0.17651458184020485, 0.0034478145054961497, 0.08971078134889002, 0.015346154759757372, 0.036235854410704635, 0.03934564788625018, 0.03278803990520848, 0.021903762740799068, 0.003380210299506029, 0.0017577093557431351, 0.01947001132515473, 0.007368858452923144, 0.035289395526842945, 0.0004732294419308441, 0.0023661472096542205, 0.003119486268379687, 0.024955890147037495, 0.003119486268379687, 0.00935845880513906, 0.003119486268379687, 0.003119486268379687, 0.9420848530506655, 0.006238972536759374, 0.9721524713096339, 0.033790763426281, 0.08870075399398762, 0.000844769085657025, 0.04561753062547935, 0.019429688970111575, 0.11657813382066945, 0.002534307256971075, 0.0033790763426281, 0.08701121582267357, 0.038014608854566125, 0.49503468419501667, 0.043083223368508276, 0.007602921770913225, 0.00844769085657025, 0.00168953817131405, 0.007602921770913225, 0.9815194169434862, 0.9674372081733462, 0.059398038502585966, 0.007424754812823246, 0.05197328368976272, 0.23759215401034386, 0.6162546494643294, 0.007424754812823246, 0.9977778797060673, 0.9791859021931031, 0.00434851661880299, 0.9871132724682786, 0.09752056114481777, 0.2071304480513898, 0.029820336878993863, 0.012089325761754269, 0.051581123250151545, 0.3352773011259851, 0.0008059550507836179, 0.018536966168023212, 0.12331112276989355, 0.00402977525391809, 0.06770022426582391, 0.04755134799623346, 0.004835730304701707, 0.0008059550507836179, 0.9928719154453091, 0.9644988094053027, 0.011907392708707441, 0.9845626390878432, 0.9762340588852211, 0.01783075906639673, 0.022064841189923547, 0.970853012356636, 0.014946674344283912, 0.9827438381366672, 0.9573929513274639, 0.9330542633104116, 0.9031349097925736, 0.9830139746607833, 0.029684073386031472, 0.90536423827396, 0.044526110079047214, 0.03668231830375232, 0.1138794359280669, 0.6865615992970957, 0.0005474972881157063, 0.01040244847419842, 0.005474972881157063, 0.05146474508287639, 0.005474972881157063, 0.0010949945762314126, 0.012592437626661245, 0.0016424918643471189, 0.003832481016809944, 0.0087599566098513, 0.007117464745504181, 0.0027374864405785315, 0.0027374864405785315, 0.0027374864405785315, 0.039967302032446556, 0.003832481016809944, 0.0032849837286942378, 0.012114856617900125, 0.96918852943201, 0.995769275425211, 0.004256507766994227, 0.008513015533988455, 0.004256507766994227, 0.9789967864086723, 0.009780754696262396, 0.9845959727570811, 0.9424240445846049, 0.03556317149375868, 0.11782000172513181, 0.7854666781675453, 0.08509222346815075, 0.04036803524761426, 0.02018401762380713, 0.1973548389883364, 0.04709604112221664, 0.006728005874602377, 0.14577346061638483, 0.37452566035286566, 0.04709604112221664, 0.07849340187036107, 0.0381253666227468, 0.005411114210353615, 0.9848227862843578, 0.001422575196274512, 0.661497466267648, 0.001422575196274512, 0.001422575196274512, 0.001422575196274512, 0.002845150392549024, 0.001422575196274512, 0.24468293375921607, 0.07681906059882365, 0.001422575196274512, 0.002845150392549024, 0.2628101561978768, 0.0017638265516636024, 0.0017638265516636024, 0.00705530620665441, 0.003527653103327205, 0.25046337033623156, 0.11112107275480695, 0.2222421455096139, 0.0017638265516636024, 0.012346785861645218, 0.029985051378281242, 0.07937219482486212, 0.01411061241330882, 0.0017638265516636024, 0.01793051096409684, 0.8838687169360677, 0.0421894375625808, 0.02003998284222588, 0.00949262345158068, 0.00105473593906452, 0.00105473593906452, 0.01265683126877424, 0.00949262345158068, 0.00105473593906452, 0.9809793194300968, 0.014064432757614752, 0.0005860180315672813, 0.0011720360631345627, 0.0011720360631345627, 0.001758054094701844, 0.9792361307489271, 0.0011720360631345627, 0.9821066836464333, 0.036046448142058964, 0.0032769498310962694, 0.9273768022002442, 0.019661698986577616, 0.0032769498310962694, 0.9817413696505422, 0.9782096586424748, 0.9825020120474875, 0.9878106889852253, 0.9865476150147389, 0.9818835132470735, 0.00828593682065041, 0.002802055786564297, 0.17652951455355073, 0.4791515395024948, 0.16812334719385782, 0.17092540298042214, 0.9602915846122747, 0.011264754650216653, 0.1464418104528165, 0.8335918441160324, 0.02188047403997722, 0.04575008208358873, 0.03779354606905156, 0.7320013133374197, 0.017902206032708635, 0.12133717422169185, 0.01989134003634293, 0.9940146383401601, 0.8707262633387951, 0.005062361996155786, 0.11896550690966096, 0.017419534008420667, 0.9580743704631367, 0.9256132194492255, 0.007172812251717131, 0.982675278485247, 0.9937243486357565, 0.14877099974701982, 0.018726419548575922, 0.04681604887143981, 0.4244655097677209, 0.08114781804382899, 0.009363209774287961, 0.05305818872096511, 0.0894706711765294, 0.0020807132831751024, 0.023928202756513677, 0.013524636340638167, 0.021847489473338574, 0.0020807132831751024, 0.010403566415875512, 0.005201783207937756, 0.013524636340638167, 0.003121069924762654, 0.032251055889214085, 0.0020807132831751024, 0.9463006800665059, 0.0035141637570656505, 0.4111571595766811, 0.021084982542393903, 0.5517237098593072, 0.0035141637570656505, 0.9756364575272022, 0.9666056680043877, 0.025299743800562918, 0.9512703669011657, 0.010119897520225168, 0.9486271548961643, 0.9966394554171305, 0.06286108110273327, 0.921962522840088, 0.961994581917716, 0.9861247482019356, 0.021888713529743205, 0.007296237843247735, 0.963103395308701, 0.013235951443145157, 0.9794604067927416, 0.004411983814381719, 0.018765686148321813, 0.9645562680237413, 0.011259411688993089, 0.9743408012592968, 0.9664469773533124, 0.01695521012900548, 0.9715264652272766, 0.9727630751276477, 0.9819958683431069, 0.9843996737458665, 0.007238232895190194, 0.01013035310980171, 0.01013035310980171, 0.9421228392115589, 0.01013035310980171, 0.9764730610024711, 0.4494929833693763, 0.06001404955067967, 0.02204597738596396, 0.0012247765214424423, 0.018371647821636635, 0.02204597738596396, 0.1481979590945355, 0.030619413036061055, 0.0012247765214424423, 0.06491315563644943, 0.008573435650097095, 0.014697318257309307, 0.006123882607212211, 0.0012247765214424423, 0.07716092085087387, 0.047766284336255245, 0.02572030695029129, 0.9861417975005079, 0.006430304761858248, 0.983836628564312, 0.9214822966482612, 0.040568402997093266, 0.01159097228488379, 0.01159097228488379, 0.9936810488593797, 0.40765263920766265, 0.006369572487619729, 0.02866307619428878, 0.14013059472763403, 0.0796196560952466, 0.09872837355810579, 0.006369572487619729, 0.09235880107048607, 0.02866307619428878, 0.10828273228953539, 0.016552826477963363, 0.014483723168217942, 0.01241461985847252, 0.0020691033097454204, 0.0020691033097454204, 0.9476493158634024, 0.0020691033097454204, 0.7664162107433042, 0.23222411185522118, 0.0007664162107433042, 0.1674376333496972, 0.8260256578585062, 0.9856254543394485, 0.013403777718680614, 0.9784757734636849, 0.015953003881829016, 0.009970627426143136, 0.10170039974666, 0.005982376455685882, 0.8295562018551089, 0.01395887839660039, 0.003988250970457254, 0.001994125485228627, 0.005982376455685882, 0.003988250970457254, 0.001994125485228627, 0.007976501940914508, 0.001994125485228627, 0.9753861781831697, 0.018939537440449898, 0.9664871504581664, 0.9867241148370278, 0.0008701270853942043, 0.007831143768547839, 0.0017402541707884087, 0.0008701270853942043, 0.0008701270853942043, 0.0008701270853942043, 0.11909451920924255, 0.8682374626222199, 0.009604396710422786, 0.021268257285027674, 0.9358033205412177, 0.003282887432181994, 0.20682190822746563, 0.7846100962914966, 0.9979940834082994, 0.9605761631893732, 0.00586219896916768, 0.00586219896916768, 0.9731250288818348, 0.9800031497955676, 0.9515703827394718, 0.03834166377338531, 0.006971211595160965, 0.007091526961475483, 0.9786307206836167, 0.9802294388860506, 0.0841308804126847, 0.03478488324755233, 0.03963858788674567, 0.023459572422767846, 0.022650621649568957, 0.008898458505187804, 0.014561113917580044, 0.01213426159798337, 0.38667846958907004, 0.07037871726830354, 0.057435504897121285, 0.04691914484553569, 0.016179015463977826, 0.004044753865994457, 0.06956976649510466, 0.012943212371182261, 0.004853704639193348, 0.028313277061961194, 0.004044753865994457, 0.057435504897121285, 0.04060590944384791, 0.9440873945694639, 0.03235701809396914, 0.010785672697989713, 0.9491391974230947, 0.9737255741145618, 0.8073508147646852, 0.002960944308427941, 0.09771116217812205, 0.0819194591998397, 0.006908870052998528, 0.000986981436142647, 0.000986981436142647, 0.024467624776275575, 0.006116906194068894, 0.12845503007544679, 0.03670143716441336, 0.012233812388137788, 0.04281834335848226, 0.7462625556764051, 0.991863395751115, 0.9877920193356143, 0.004099930833809958, 0.045099239171909535, 0.9122346105227156, 0.034849412087384644, 0.965092682669545, 0.0157360428840239, 0.16522845028225094, 0.8104062085272309, 0.16615160838262905, 0.10843578652340001, 0.06471167905428711, 0.0017489642987645164, 0.3987638601183097, 0.041975143170348395, 0.010493785792587099, 0.07870339344440323, 0.043724107469112906, 0.06296271475552259, 0.020987571585174197, 0.0017489642987645164, 0.9693192050495133, 0.021790737026241947, 0.9370016921284038, 0.9732583273621017, 0.0034450274004551007, 0.7785761925028527, 0.025837705503413255, 0.005167541100682651, 0.0034450274004551007, 0.08957071241183262, 0.015502623302047953, 0.07579060281001221, 0.0017225137002275504, 0.0006158873419216069, 0.012317746838432137, 0.0006158873419216069, 0.0012317746838432138, 0.9835720850488062, 0.01601380710965914, 0.002668967851609857, 0.9795112015408175, 0.9599485838199241, 0.9837491248067433, 0.9852149247242916, 0.05445583559340086, 0.14884595062196235, 0.0036303890395600574, 0.06534700271208103, 0.010891167118680172, 0.7115562517537712, 0.1490654564144316, 0.0037579526827167635, 0.06701682284178229, 0.1766237760876879, 0.025679343331897884, 0.17912907787616572, 0.10710165145742777, 0.05511663934651253, 0.03570055048580925, 0.04384278129836224, 0.045721757639720625, 0.02317404154342004, 0.025679343331897884, 0.014405485283747594, 0.030063621461734108, 0.01127385804815029, 0.0018789763413583817, 0.004384278129836224, 0.9729283983871666, 0.9783062300936213, 0.9745317006660114, 0.14232198727328416, 0.058785168656356496, 0.12066429355778438, 0.6249791615044217, 0.04640934367607092, 0.0057571472855317005, 0.0057571472855317005, 0.9787150385403891, 0.0057571472855317005, 0.00910512135998906, 0.9378275000788732, 0.02731536407996718, 0.00910512135998906, 0.00910512135998906, 0.9762324658683672, 0.1683744361135974, 0.17482453422489244, 0.03050358898466609, 0.12335812637851748, 0.006450098111295032, 0.06288845658512657, 0.01961904842185572, 0.1052172254405002, 0.04407567042718272, 0.017200261630120086, 0.017200261630120086, 0.062216571365199994, 0.04326940816327084, 0.037894326403858314, 0.026203523577136068, 0.02324722860945918, 0.0028219179236915765, 0.016797130498164146, 0.006450098111295032, 0.011287671694766306, 0.9868915445216546, 0.9937360392121445, 0.0050057434878601715, 0.0050057434878601715, 0.015017230463580514, 0.0050057434878601715, 0.9310682887419919, 0.030034460927161027, 0.0050057434878601715, 0.9862692017529102, 0.00951916565335948, 0.004230740290381991, 0.981531747368622, 0.0010576850725954978, 0.0010576850725954978, 0.9548956390122953, 0.21489769476868112, 0.0767836707151018, 0.009175407192370656, 0.08209574856331639, 0.034769964097404585, 0.04877453296997032, 0.06664243118669212, 0.01883373055276082, 0.02317997606493639, 0.1125194671485454, 0.0009658323360390163, 0.021731227560877867, 0.1361823593815013, 0.03283829942532655, 0.0014487485040585244, 0.02076539522483885, 0.08595907790747245, 0.013038736536526721, 0.9509585560242876, 0.03935000921479811, 0.9823737624793726, 0.09012349768805376, 0.09343686157364398, 0.0390976938499645, 0.030482947747429948, 0.13187188264649044, 0.0013253455542360847, 0.030482947747429948, 0.015241473873714974, 0.11331704488718525, 0.09012349768805376, 0.06494193215756815, 0.05301382216944339, 0.10138893489906048, 0.05964054994062381, 0.003313363885590212, 0.052351149392325345, 0.014578801096596932, 0.003976036662708254, 0.01126543721100672, 0.006203161184070458, 0.012406322368140916, 0.7815983091928778, 0.043422128288493206, 0.06823477302477504, 0.06823477302477504, 0.0359355637022471, 0.08983890925561774, 0.2637206691052005, 0.0359355637022471, 0.1269336846901954, 0.03013950504059434, 0.09099812098794831, 0.07303033913682475, 0.004636846929322207, 0.004636846929322207, 0.10374945004358437, 0.020286205315784653, 0.03013950504059434, 0.0011592117323305517, 0.004636846929322207, 0.04810728689171789, 0.014490146654131895, 0.021445417048115204, 0.9950279977559047, 0.2864704263600136, 0.03255345754091064, 0.6575798423263949, 0.013021383016364255, 0.9879607797773328, 0.6210193431100983, 0.3710969245414002, 0.9795462043796987, 0.15822917422261862, 0.8250521227322256, 0.005651041936522093, 0.009029466750980264, 0.9842118758568488, 0.0030098222503267547, 0.9926681227770219, 0.9202583953257207, 0.036164411074587816, 0.9041102768646954, 0.0019421018393623716, 0.029131527590435573, 0.0012947345595749145, 0.016831549274473886, 0.007768407357449486, 0.8202143434907083, 0.01165261103617423, 0.014889447435111516, 0.018126283834048802, 0.014242080155324058, 0.011005243756386772, 0.03366309854894777, 0.0019421018393623716, 0.005826305518087115, 0.006473672797874572, 0.0012947345595749145, 0.003236836398937286, 0.9896400657996919, 0.9777105541443974, 0.17226194015595267, 0.8249529093900647, 0.9902470619990582, 0.9988131713973676, 0.9461420715559503, 0.9497661040743675, 0.26111852089571186, 0.08901767757808358, 0.047476094708311246, 0.5934511838538906, 0.9480421104304025, 0.9881019279123378, 0.9660172448829747, 0.012880229931772996, 0.9961248872020608, 0.058325901110256734, 0.8943304836906032, 0.989082883289788, 0.08196962668435405, 0.10656051468966027, 0.008196962668435405, 0.008196962668435405, 0.729529677490751, 0.05737873867904784, 0.004331175155035609, 0.004331175155035609, 0.853241505542015, 0.004331175155035609, 0.12560407949603267, 0.992034804380146, 0.7528518767294623, 0.003778428490486636, 0.010390678348838249, 0.000944607122621659, 0.000944607122621659, 0.000944607122621659, 0.1265773544313023, 0.09257149801692259, 0.0066122498583516135, 0.002833821367864977, 0.000944607122621659, 0.01421999824719317, 0.02843999649438634, 0.919559886651825, 0.009479998831462113, 0.002369999707865528, 0.009479998831462113, 0.004739999415731056, 0.007109999123596585, 0.004739999415731056, 0.006299748080354528, 0.006299748080354528, 0.014699412187493897, 0.012599496160709055, 0.12179512955352086, 0.05249790066962106, 0.020999160267848423, 0.027298908348202953, 0.37378505276770196, 0.0020999160267848424, 0.1973921065177752, 0.056697732723190744, 0.004199832053569685, 0.07979680901782402, 0.02519899232141811, 0.0020999160267848424, 0.008935394804018587, 0.05361236882411153, 0.0714831584321487, 0.11616013245224165, 0.04467697402009294, 0.6880253999094312, 0.8833805290512532, 0.013250707935768796, 0.004416902645256265, 0.09275495555038157, 0.004416902645256265, 0.0064996077100422005, 0.9879403719264145, 0.9410425370568074, 0.015949873509437412, 0.9921774979928282, 0.9914262673294043, 0.9621371340435088, 0.9546121122193161, 0.1159450174848835, 0.07933080143702555, 0.0030511846706548287, 0.012204738682619315, 0.012204738682619315, 0.7780520910169814, 0.060625572169752555, 0.009185692752992811, 0.08634551187813243, 0.020208524056584184, 0.0018371385505985623, 0.14329680694668787, 0.07532268057454106, 0.49051599300981613, 0.0036742771011971246, 0.0036742771011971246, 0.10104262028292092, 0.0036742771011971246, 0.00417033985077788, 0.05421441806011244, 0.00104258496269447, 0.00625550977616682, 0.06985319250052949, 0.00208516992538894, 0.019809114291194932, 0.01355360451502811, 0.00208516992538894, 0.00104258496269447, 0.00104258496269447, 0.06151251279897373, 0.7621296077296577, 0.00104258496269447, 0.17859487269720883, 0.8170715425897304, 0.9742458787454937, 0.9819832502626653, 0.9535327362152235, 0.8825346651946647, 0.08253921329158735, 0.012698340506398054, 0.01904751075959708, 0.9602820715526244, 0.9886083620936708, 0.011127371946640267, 0.9847724172776636, 0.98451257592424, 0.9569144202609999, 0.0018111182154707565, 0.0018111182154707565, 0.0018111182154707565, 0.0018111182154707565, 0.0018111182154707565, 0.9852483092160915, 0.0018111182154707565, 0.0018111182154707565, 0.03904340165641866, 0.9448503200853317, 0.14939716672828124, 0.836624133678375, 0.9748259204474593, 0.9690269478033123, 0.004194921851962391, 0.012584765555887173, 0.004194921851962391, 0.9703280115462352, 0.9914920006187108, 0.9602308113011423, 0.9928396581249721, 0.9901618730928158, 0.9815459555303447, 0.02762417052885256, 0.9668459685098396, 0.9846085189354772, 0.15111020139852976, 0.036756535475318056, 0.010210148743143903, 0.008168118994515123, 0.049008713967090736, 0.02654638673217415, 0.08372321969378001, 0.32264070028334735, 0.03267247597806049, 0.036756535475318056, 0.03267247597806049, 0.002042029748628781, 0.14294208240401465, 0.03267247597806049, 0.016336237989030247, 0.014294208240401465, 0.002042029748628781, 0.002042029748628781, 0.024274810086595173, 0.9588549984205094, 0.9870126547527279, 0.9949529225617881, 0.11633334544059316, 0.8772163075114998, 0.006919959700295675, 0.001383991940059135, 0.9867862532621632, 0.001383991940059135, 0.17759067376250182, 0.1469520271708881, 0.05446870505175775, 0.06581635193754061, 0.011347646885782865, 0.01588670564009601, 0.0830269497143113, 0.06203380297561299, 0.085863861435757, 0.037636362171179834, 0.00018912744809638108, 0.051820920778408414, 0.081892185025733, 0.016264960536288772, 0.020236636946312773, 0.05314481291508308, 0.0018912744809638107, 0.008132480268144386, 0.025721332941107827, 0.9863548202529685, 0.9425498477742421, 0.04917651379691698, 0.9735068233164477, 0.0105845462358679, 0.04498432150243858, 0.0105845462358679, 0.00529227311793395, 0.9235016590794743, 0.11256891204146537, 0.12664002604664854, 0.008040636574390383, 0.7337080874131224, 0.004020318287195191, 0.006030477430792787, 0.004020318287195191, 0.02829936429094553, 0.018866242860630354, 0.009433121430315177, 0.9244459001708873, 0.8898971148438406, 0.9856074033004423, 0.030560126929762208, 0.08556835540333418, 0.009168038078928662, 0.06519493745015938, 0.010186708976587404, 0.053989557575913234, 0.016298734362539844, 0.020373417953174808, 0.021392088850833546, 0.03565348141805591, 0.007130696283611182, 0.041765506804008354, 0.023429430646151026, 0.0478775321899608, 0.05195221578059576, 0.37283354854309897, 0.05195221578059576, 0.03870949411103213, 0.0020373417953174805, 0.013242721669563624, 0.9379874750254402, 0.007503899800203522, 0.022511699400610565, 0.022511699400610565, 0.9725957855341374, 0.9882228052452007, 0.9684312491853004, 0.004649687748216918, 0.9903834903702036, 0.968168289053462, 0.9924912932104734, 0.9523437387526014, 0.01831430266831926, 0.9252471333676412, 0.961994411304959, 0.012667348480690182, 0.9627184845324539, 0.946926949337924, 0.9549588815095339, 0.03350732917577312, 0.003029825109632948, 0.003029825109632948, 0.003029825109632948, 0.003029825109632948, 0.9846931606307081, 0.9185527362414789, 0.07065790278780608, 0.9377001461116838, 0.9845976844536009, 0.010839607535269, 0.0018066012558781669, 0.9813231354175407, 0.9926024489737549, 0.01065688967008081, 0.9527259365052244, 0.017051023472129296, 0.017051023472129296, 0.9859706499595026, 0.0020122695225349447, 0.032196312360559115, 0.9618648317717035, 0.003654281631939218, 0.003654281631939218, 0.9756931957277712, 0.003654281631939218, 0.003654281631939218, 0.961555022607215, 0.03388740167778732, 0.965289188818014, 0.9566733169092614, 0.11926932579160895, 0.35993778676396276, 0.36206759615309864, 0.0063894281674076224, 0.008519237556543498, 0.017038475113086995, 0.010649046945679372, 0.11287989762420134, 0.14868558131901893, 0.0067584355145008605, 0.09461809720301205, 0.7366694710805938, 0.9580000685774009, 0.9934136532826895, 0.9702911774798761, 0.9938788483347395, 0.9636644122773685, 0.9828595373511964, 0.9984791784534436, 0.9930636353663924, 0.9982833436826096, 0.9939178498133271, 0.01877393749885382, 0.938696874942691, 0.03754787499770764, 0.9631165753099175, 0.9651371931320448, 0.992696157335826, 0.004306707840936338, 0.8980386939991111, 0.09273225644556038, 0.9912107759434964, 0.9957980447346668, 0.9297949138335051, 0.028175603449500153, 0.014087801724750076, 0.08028967757493094, 0.11207100828167443, 0.03847213717132107, 0.01505431454529955, 0.07527157272649775, 0.10036209696866366, 0.40479379110694347, 0.0016727016161443944, 0.0016727016161443944, 0.0033454032322887887, 0.028435927474454704, 0.01170891131301076, 0.03512673393903228, 0.0033454032322887887, 0.04181754040360986, 0.03847213717132107, 0.008363508080721973, 0.9737506427704633, 0.03377699697306819, 0.9457559152459093, 0.24427661520699273, 0.7453568515290291, 0.9948771816368933, 0.973552710053315, 0.9947440342257742, 0.9927482062712223, 0.02332001261931746, 0.9444605110823571, 0.01166000630965873, 0.9593135567364048, 0.9963732663978674, 0.9874782673966745, 0.08458443911265566, 0.8987096655719663, 0.0020799163775419554, 0.9969732503017774, 0.9844129087293493, 0.015913681407574345, 0.9707345658620351, 0.9942038633162009, 0.022773892774531086, 0.9640947941218159, 0.9732506528218893, 0.9286132764374404, 0.8876982321045421, 0.04266554816059261, 0.017066219264237042, 0.9215758402688004, 0.9596508324415801, 0.2259489263790564, 0.010759472684716971, 0.731644142560754, 0.010759472684716971, 0.9975995584684848, 0.9778833121729402, 0.9851844113380495, 0.007757357569590941, 0.9443627227709751, 0.022001234165257264, 0.002750154270657158, 0.07700431957840043, 0.01375077135328579, 0.011000617082628632, 0.002750154270657158, 0.8662985952570048, 0.09872812087824027, 0.19745624175648055, 0.6417327857085618, 0.004113671703260012, 0.04936406043912014, 0.9732752727741311, 0.9477118073376615, 0.062035995351029105, 0.9202005977069317, 0.0627009917015234, 0.9248396275974703, 0.9467446312688447, 0.9813194988077627, 0.9247188879314698, 0.9797438920422447, 0.10777223532375192, 0.03154309326548837, 0.02628591105457364, 0.018400137738201545, 0.0026285911054573638, 0.18400137738201547, 0.6256046830988526, 0.9236095820435902, 0.9782046052668145, 0.9982631140263818, 0.00358323152565352, 0.02508262067957464, 0.9674725119264503, 0.9774458711832891, 0.0018490534551879574, 0.9947907588911211, 0.2165439157755224, 0.7816707203604223, 0.9718840041171188, 0.012415612126526209, 0.0062078060632631046, 0.0062078060632631046, 0.9684177458690443, 0.949292507165659, 0.008592572042505877, 0.08592572042505876, 0.017185144085011754, 0.83347948812307, 0.017185144085011754, 0.017185144085011754, 0.90913829566023, 0.991071007383883, 0.9523597597934772, 0.985603502023519, 0.03412907741253747, 0.9556141675510492, 0.9931457757969194, 0.006850342605466896, 0.006850342605466896, 0.9658983073708323, 0.006850342605466896, 0.992906162650863, 0.9842198223033942, 0.21310576222373095, 0.04387471575194461, 0.6769241858871454, 0.056410348823928785, 0.9846357761005151, 0.9700232180462542, 0.006428647622455566, 0.006428647622455566, 0.006428647622455566, 0.9707257909907905, 0.2132827892410581, 0.7745532872438425, 0.0023038632707734308, 0.9745341635371612, 0.0023038632707734308, 0.013823179624640584, 0.0023038632707734308, 0.0023038632707734308, 0.021532624463531103, 0.008613049785412441, 0.030145674248943544, 0.6998102950647609, 0.015072837124471772, 0.07321092317600575, 0.15072837124471772, 0.0021532624463531103, 0.9507838716278922, 0.9556393343191656, 0.9740565033891027, 0.8259707844012635, 0.008343139236376399, 0.1501765062547752, 0.9907397771648044, 0.007824203570896778, 0.9866574348956839, 0.004068085523410913, 0.06915745389798551, 0.0020340427617054563, 0.054919154566047325, 0.22577874654930566, 0.4576596213837277, 0.10577022360868374, 0.07729362494480735, 0.0020340427617054563, 0.9684258073246594, 0.007625400057674484, 0.007625400057674484, 0.9684994021190478, 0.3561009739641518, 0.10381627140647685, 0.03237281581492289, 0.09935105543200473, 0.21656297476189795, 0.036838031789395015, 0.021209775878742586, 0.012279343929798339, 0.008930431948944245, 0.01786086389788849, 0.0145119519170344, 0.0033489119808540924, 0.0290239038340688, 0.020093471885124555, 0.010046735942562278, 0.01562825591065243, 0.024864903207173914, 0.007650739448361204, 0.13771331007050167, 0.007650739448361204, 0.001912684862090301, 0.7746373691465719, 0.003825369724180602, 0.02103953348299331, 0.017214163758812708, 0.9133502507720528, 0.04502430813665049, 0.006432044019521499, 0.025728176078085994, 0.9837093403370144, 0.9914347190423349, 0.9635117189228358, 0.9550006891373382, 0.9824893706439035, 0.9902756105893588, 0.014619181794572021, 0.7977896350752159, 0.008353818168326869, 0.12530727252490304, 0.012530727252490303, 0.03759218175747091, 0.13220061944278086, 0.8482873080911771, 0.9800345388825573, 0.9898050791952814, 0.8505779081331242, 0.12478538173210504, 0.02037312354809878, 0.022101528911225358, 0.007367176303741786, 0.003683588151870893, 0.007367176303741786, 0.014734352607483571, 0.8877447446008851, 0.007367176303741786, 0.011050764455612679, 0.007367176303741786, 0.022101528911225358, 0.003683588151870893, 0.8670786768158972, 0.007107202268982765, 0.01421440453796553, 0.08528642722779317, 0.01421440453796553, 0.9629958964218613, 0.004354728796956627, 0.9885234369091543, 0.0005596023587392358, 0.008953637739827772, 0.053721826438966634, 0.0005596023587392358, 0.0011192047174784715, 0.0011192047174784715, 0.8740988843506863, 0.05931785002635899, 0.0005596023587392358, 0.9675293695793034, 0.8194537034014171, 0.16796256032451407, 0.9764655942371794, 0.14508003338617387, 0.8060001854787437, 0.016120003709574875, 0.9919025798991974, 0.9741420595552069, 0.004675465194554197, 0.9865231560509354, 0.01379843239774021, 0.9658902678418146, 0.957095796130606, 0.9142470805672132, 0.9789682403041631, 0.007588901087629172, 0.9745484212875308, 0.9632358951988026, 0.9387419160755366, 0.02933568487736052, 0.035210728041004384, 0.002091726418277488, 0.8701581900034351, 0.003486210697129147, 0.006972421394258294, 0.001045863209138744, 0.008715526742822867, 0.006972421394258294, 0.0017431053485645735, 0.0006972421394258293, 0.002091726418277488, 0.004880694975980805, 0.004880694975980805, 0.0027889685577033173, 0.002091726418277488, 0.003486210697129147, 0.0006972421394258293, 0.0027889685577033173, 0.03277038055301398, 0.006623800324545379, 0.15653645868902422, 0.8348611130081292, 0.03600519154505724, 0.06172318550581241, 0.7381064266736734, 0.003857699094113276, 0.15687976316060653, 0.002818466883401998, 0.9949188098409054, 0.9763855655126187, 0.9513039926971015, 0.9793141189919978, 0.019126149268425954, 0.1794915546729205, 0.002942484502834762, 0.001471242251417381, 0.7415060947143601, 0.047079752045356194, 0.001471242251417381, 0.002942484502834762, 0.9749775800299315, 0.9906466407981288, 0.9160491072986684, 0.9828972273091455, 0.001321098423802615, 0.01321098423802615, 0.9649614579186723, 0.04678686589894792, 0.002924179118684245, 0.00584835823736849, 0.04971104501763216, 0.8889504520800104, 0.3033497668428537, 0.004272531927364136, 0.02563519156418482, 0.004272531927364136, 0.657969916814077, 0.9532504870391184, 0.012159568988211649, 0.9808718983824063, 0.9940918087313134, 0.938054047361063, 0.05301358741656139, 0.9330391385314805, 0.9873619491273022, 0.9142015115467536, 0.060946767436450236, 0.06636637088065168, 0.925810873785091, 0.9712218949791895, 0.981239926088738, 0.0029634309650071336, 0.07704920509018548, 0.008890292895021402, 0.0029634309650071336, 0.0029634309650071336, 0.8593949798520688, 0.04148803351009987, 0.0029634309650071336, 0.09428579974778421, 0.006984133314650682, 0.736826064695647, 0.14666679960766432, 0.003492066657325341, 0.006984133314650682, 0.9123982734384591, 0.9929217864522806, 0.9276783014493818, 0.036237433650366475, 0.007247486730073295, 0.01449497346014659, 0.007247486730073295, 0.9885998853494326, 0.9831565443020266, 0.006492352290269459, 0.9868375481209578, 0.996388523428164, 0.019776876827139273, 0.9730223398952521, 0.003955375365427854, 0.971100274087918, 0.7707722932335587, 0.0028547121971613286, 0.19412042940697033, 0.008564136591483985, 0.011418848788645315, 0.008564136591483985, 0.9824948550619285, 0.9943327475988343, 0.973408857833618, 0.010408089320851903, 0.9835644408205049, 0.9985786271273205, 0.5373444848068163, 0.11550395467810069, 0.3163803975965367, 0.0200876442918436, 0.9694171607213383, 0.00331174063323747, 0.993522189971241, 0.9836438949683982, 0.9105173977381257, 0.07879477480426088, 0.9551206262195197, 0.9700417432445063, 0.046682419457246965, 0.004243856314295179, 0.04243856314295179, 0.8996975386305779, 0.01656059198903175, 0.9605143353638415, 0.0661450120893916, 0.11906102176090487, 0.0033072506044695797, 0.6449138678715681, 0.026458004835756638, 0.12898277357431362, 0.0066145012089391594, 0.967214097014056, 0.9772071704469839, 0.9795322057002097, 0.010908083671289408, 0.9708194467447573, 0.9852545847880854, 0.9811011930921142, 0.09435004617137509, 0.5710660689320071, 0.3277422656479345, 0.9508376933605589, 0.9761579502954453, 0.012909032702558302, 0.006454516351279151, 0.8649051910714062, 0.09036322891790811, 0.012909032702558302, 0.9811378754282261, 0.9898578929139505, 0.00437990218103518, 0.9946154434417416, 0.009728672319802954, 0.9874602404599998, 0.02121373212438614, 0.9546179455973762, 0.0645809372870644, 0.3015261692644317, 0.026277760689219307, 0.04765627786010959, 0.03117700420754833, 0.14074190470836104, 0.018706202524528998, 0.021378517170890284, 0.06235400841509666, 0.014252344780593522, 0.04053010546981283, 0.03384931885390961, 0.06814402348221278, 0.024941603366038664, 0.021378517170890284, 0.07749712474447727, 0.004899243518329023, 0.965534845112169, 0.974430153323774, 0.959885093958287, 0.03545030176550492, 0.9761941499399651, 0.9924259486044812, 0.9870467339527822, 0.9912029530463823, 0.2107131942109067, 0.09833282396508979, 0.6742822214749015, 0.11243750137280882, 0.8735528952810532, 0.026839629441971605, 0.1705615161312389, 0.002597383494384349, 0.02770542394009972, 0.1913405840863137, 0.005194766988768698, 0.015584300966306093, 0.019913273456946674, 0.09783477828847714, 0.04935028639330263, 0.305625457839225, 0.08311627182029917, 0.002597383494384349, 0.002597383494384349, 0.0778475671675276, 0.007077051560684326, 0.007077051560684326, 0.007077051560684326, 0.8917084966462251, 0.3849217496731771, 0.1178707750195375, 0.0009208654298401367, 0.010129519728241504, 0.13168375646713953, 0.0009208654298401367, 0.0828778886856123, 0.0653814455186497, 0.0009208654298401367, 0.008287788868561229, 0.025784232035523824, 0.06722317637832997, 0.04328067520248642, 0.0009208654298401367, 0.05985625293960888, 0.9920640339541895, 0.9761463470769128, 0.0365644056124466, 0.9141101403111651, 0.969142369851949, 0.9953295297930346, 0.9932802445369218, 0.989418955359079, 0.9699989685851629, 0.002311564457425752, 0.3906543933049521, 0.07165849818019832, 0.4692475848574277, 0.0577891114356438, 0.002311564457425752, 0.002311564457425752, 0.9630812449955359, 0.025344243289356208, 0.6622161463709261, 0.09248828859929135, 0.24046955035815754, 0.9835568977738136, 0.21765668145931885, 0.7729033178351323, 0.9896596016788247, 0.0007285577898958172, 0.9981241721572695, 0.029297137061605645, 0.06738341524169299, 0.7412175676586228, 0.10620212184832047, 0.014648568530802823, 0.015380996957342963, 0.0014648568530802823, 0.023437709649284516, 0.0007324284265401411, 0.9848804019078318, 0.005183581062672799, 0.012087227865498831, 0.012087227865498831, 0.9609346153071571, 0.9856216948539506, 0.9881087354703713, 0.007739755108123012, 0.9264075217984781, 0.9577142841419076, 0.9706645980426578, 0.9819414182178157, 0.9713543984801288, 0.9823283751116718, 0.008353805106824628, 0.8019652902551643, 0.041769025534123136, 0.14201468681601867, 0.9652388425792894, 0.015568368428698217, 0.9880336468069906, 0.9527293655967011, 0.9836581370070495, 0.9725486473896621, 0.9774952541692756, 0.0028033931146950204, 0.011213572458780081, 0.9783841970285622, 0.0028033931146950204, 0.9504997158288242, 0.0033266597723697585, 0.9913446121661881, 0.032254858072000556, 0.8659188820867842, 0.09676457421600168, 0.005797412448917915, 0.9217885793779484, 0.06377153693809706, 0.9809448487896355, 0.005534342307362913, 0.01660302692208874, 0.005534342307362913, 0.9685099037885098, 0.9953725189908796, 0.9762177141548445, 0.9942066783833514, 0.001372625995500334, 0.002745251991000668, 0.2182475332845531, 0.03431564988750835, 0.002745251991000668, 0.005490503982001336, 0.026079893914506345, 0.4323771885826052, 0.019216763937004677, 0.001372625995500334, 0.030197771901007347, 0.00686312997750167, 0.21412965529805209, 0.002745251991000668, 0.9948186605846469, 0.05203463426825013, 0.9106060996943772, 0.9915559344109394, 0.983499758590464, 0.974644584891924, 0.050001689463341485, 0.9375316774376529, 0.9706041360886886, 0.9932288273630159, 0.9936703297195068, 0.9925621995580661, 0.9857021291020118, 0.006010378835987876, 0.004862160816168901, 0.0024310804080844503, 0.3257647746833163, 0.0024310804080844503, 0.6490984689585483, 0.0024310804080844503, 0.009724321632337801, 0.9798044515002973, 0.9641897620116165, 0.9953244064125032, 0.8971223099546392, 0.007635083488975652, 0.08780346012322, 0.01490677266176084, 0.9689402230144545, 0.17832531098794338, 0.02201547049233869, 0.755130637887217, 0.04182939393544351, 0.037682366205730976, 0.023979687585465165, 0.020554017930398714, 0.001712834827533226, 0.9146537979027428, 0.9805390000225466, 0.9932438351426293, 0.0019984785415344654, 0.0019984785415344654, 0.0025487841984960327, 0.0025487841984960327, 0.9838307006194685, 0.0025487841984960327, 0.0025487841984960327, 0.016810088727739134, 0.9665801018450002, 0.9930910161743123, 0.03888027136252335, 0.6169003056187039, 0.00259201809083489, 0.00259201809083489, 0.00518403618166978, 0.16848117590426787, 0.006048042211948077, 0.15465707941981513, 0.0017280120605565935, 0.0008640060302782968, 0.0008640060302782968, 0.003557486581788972, 0.09071590783561878, 0.012451203036261401, 0.06581350176309599, 0.024902406072522802, 0.007114973163577944, 0.001778743290894486, 0.7719745882482069, 0.012451203036261401, 0.007114973163577944, 0.001778743290894486, 0.982813956001077, 0.9447532507827201, 0.053240238441899145, 0.986298752131144, 0.9691272334568336, 0.012574974933142786, 0.983991788518423, 0.9950813816956912, 0.9972786458333064, 0.9851887185362243, 0.004368457477968757, 0.004368457477968757, 0.0021842287389843783, 0.0021842287389843783, 0.004368457477968757, 0.0065526862169531346, 0.1201325806441408, 0.0021842287389843783, 0.02402651612882816, 0.5569783284410165, 0.0021842287389843783, 0.2708443636340629, 0.0021842287389843783, 0.9783925498248734, 0.9673367297403906], \"Term\": [\"aaron\", \"aaron\", \"aaron\", \"aaron\", \"aaron\", \"aaron\", \"aaron\", \"aaron\", \"abomin\", \"abound\", \"abraham\", \"abraham\", \"abraham\", \"abraham\", \"abraham\", \"abraham\", \"abraham\", \"abraham\", \"abund\", \"abundantli\", \"accept\", \"accept\", \"accomplish\", \"account\", \"acknowledg\", \"act\", \"adam\", \"adam\", \"addit\", \"adulteri\", \"advanc\", \"advic\", \"afar\", \"afar\", \"afflict\", \"afflict\", \"afflict\", \"afflict\", \"afraid\", \"afraid\", \"afraid\", \"afraid\", \"afraid\", \"afraid\", \"age\", \"age\", \"age\", \"age\", \"age\", \"ahead\", \"almighti\", \"altar\", \"altar\", \"altar\", \"altar\", \"altar\", \"altar\", \"altar\", \"altar\", \"amount\", \"angel\", \"angel\", \"angel\", \"angel\", \"angel\", \"angel\", \"angel\", \"angel\", \"angel\", \"angel\", \"anger\", \"anger\", \"anger\", \"anger\", \"anguish\", \"anoint\", \"anoint\", \"answer\", \"answer\", \"answer\", \"answer\", \"answer\", \"answer\", \"answer\", \"answer\", \"answer\", \"answer\", \"answer\", \"anymor\", \"appear\", \"appear\", \"appoint\", \"appoint\", \"armi\", \"armi\", \"armi\", \"armi\", \"arriv\", \"arrow\", \"ascend\", \"asham\", \"ask\", \"ask\", \"ask\", \"assembl\", \"assembl\", \"assembl\", \"assembl\", \"assist\", \"astonish\", \"astray\", \"attack\", \"attack\", \"attack\", \"attain\", \"author\", \"aveng\", \"back\", \"back\", \"back\", \"back\", \"back\", \"back\", \"back\", \"back\", \"back\", \"back\", \"back\", \"back\", \"bad\", \"bad\", \"barren\", \"battl\", \"bear\", \"bear\", \"bear\", \"bear\", \"bear\", \"bear\", \"bear\", \"bear\", \"beat\", \"beat\", \"beauti\", \"beauti\", \"beauti\", \"befal\", \"beg\", \"began\", \"begin\", \"begin\", \"begin\", \"begot\", \"begot\", \"begot\", \"behav\", \"believ\", \"belli\", \"belong\", \"belong\", \"belong\", \"benjamin\", \"benjamin\", \"bewar\", \"birth\", \"birth\", \"bitter\", \"bitter\", \"blast\", \"bless\", \"bless\", \"bless\", \"bless\", \"bless\", \"bless\", \"bless\", \"bless\", \"bless\", \"bless\", \"bless\", \"bless\", \"bless\", \"blind\", \"blind\", \"blood\", \"blood\", \"blood\", \"blood\", \"blood\", \"blood\", \"blood\", \"blood\", \"bodi\", \"bodi\", \"bodi\", \"bodi\", \"boil\", \"boil\", \"bone\", \"bone\", \"bone\", \"book\", \"born\", \"born\", \"born\", \"bound\", \"bound\", \"bound\", \"bound\", \"bow\", \"bow\", \"bow\", \"bow\", \"bowl\", \"branch\", \"bread\", \"bread\", \"bread\", \"bread\", \"bread\", \"bread\", \"bread\", \"bread\", \"break\", \"break\", \"break\", \"break\", \"break\", \"break\", \"break\", \"breast\", \"breath\", \"brethren\", \"brethren\", \"brethren\", \"brethren\", \"brethren\", \"brethren\", \"brethren\", \"brethren\", \"brethren\", \"broke\", \"broken\", \"broken\", \"brother\", \"brother\", \"brother\", \"brother\", \"brother\", \"brother\", \"brother\", \"brother\", \"brother\", \"brother\", \"brother\", \"brother\", \"brother\", \"brother\", \"brother\", \"brother\", \"brother\", \"brought\", \"brought\", \"brought\", \"brought\", \"brought\", \"brought\", \"brought\", \"brought\", \"brought\", \"brought\", \"brought\", \"brought\", \"brought\", \"brought\", \"brought\", \"brought\", \"brought\", \"brought\", \"brought\", \"build\", \"build\", \"built\", \"built\", \"built\", \"built\", \"burden\", \"burden\", \"burn\", \"burn\", \"burn\", \"burn\", \"burn\", \"burnt\", \"buy\", \"calam\", \"calf\", \"call\", \"call\", \"call\", \"call\", \"call\", \"call\", \"call\", \"call\", \"call\", \"call\", \"call\", \"call\", \"call\", \"call\", \"call\", \"call\", \"call\", \"call\", \"camel\", \"camel\", \"captain\", \"captiv\", \"captiv\", \"captiv\", \"captiv\", \"care\", \"carnal\", \"carri\", \"carri\", \"carri\", \"carri\", \"carv\", \"case\", \"cast\", \"cast\", \"cast\", \"cast\", \"cast\", \"caus\", \"caus\", \"cave\", \"cave\", \"ceas\", \"ceas\", \"ceas\", \"chain\", \"chamber\", \"chang\", \"chang\", \"charg\", \"charg\", \"charg\", \"charg\", \"cherubim\", \"chief\", \"chief\", \"chief\", \"child\", \"child\", \"child\", \"child\", \"child\", \"children\", \"children\", \"children\", \"children\", \"children\", \"children\", \"children\", \"children\", \"children\", \"children\", \"children\", \"children\", \"children\", \"children\", \"children\", \"children\", \"choos\", \"chose\", \"chosen\", \"circumcis\", \"citi\", \"citi\", \"citi\", \"citi\", \"citi\", \"citi\", \"citi\", \"citi\", \"citi\", \"citi\", \"citi\", \"citi\", \"citi\", \"citi\", \"citi\", \"citi\", \"citi\", \"citi\", \"claim\", \"clean\", \"clean\", \"clear\", \"close\", \"close\", \"cloth\", \"cloth\", \"cloth\", \"cloth\", \"cloth\", \"cloth\", \"cloth\", \"cloud\", \"cloud\", \"cloud\", \"cloud\", \"color\", \"come\", \"come\", \"comfort\", \"comfort\", \"command\", \"command\", \"command\", \"command\", \"command\", \"command\", \"command\", \"command\", \"command\", \"command\", \"command\", \"command\", \"command\", \"commit\", \"commit\", \"commit\", \"companion\", \"compar\", \"compass\", \"compet\", \"complain\", \"complet\", \"complet\", \"conceal\", \"conceiv\", \"conceiv\", \"concern\", \"condemn\", \"confin\", \"confus\", \"consid\", \"consum\", \"consum\", \"consum\", \"consum\", \"continu\", \"continu\", \"continu\", \"corner\", \"corrupt\", \"corrupt\", \"couch\", \"counten\", \"countri\", \"countri\", \"countri\", \"countri\", \"countri\", \"coven\", \"coven\", \"coven\", \"coven\", \"coven\", \"coven\", \"coven\", \"coven\", \"cover\", \"cover\", \"cover\", \"cover\", \"cover\", \"cover\", \"cover\", \"covet\", \"cow\", \"creat\", \"creat\", \"creat\", \"creatur\", \"cri\", \"cri\", \"cri\", \"cri\", \"cri\", \"cri\", \"cri\", \"cri\", \"cri\", \"crop\", \"crown\", \"cubit\", \"cubit\", \"cup\", \"curs\", \"curs\", \"curs\", \"curs\", \"custom\", \"custom\", \"cut\", \"cut\", \"cut\", \"cut\", \"daili\", \"damascu\", \"dark\", \"dark\", \"dark\", \"daughter\", \"daughter\", \"daughter\", \"daughter\", \"daughter\", \"daughter\", \"daughter\", \"daughter\", \"dawn\", \"day\", \"day\", \"day\", \"day\", \"day\", \"day\", \"day\", \"day\", \"day\", \"day\", \"day\", \"day\", \"day\", \"day\", \"day\", \"day\", \"day\", \"day\", \"day\", \"day\", \"dead\", \"dead\", \"dead\", \"dead\", \"dead\", \"dead\", \"deaf\", \"deal\", \"dealt\", \"dealt\", \"dealt\", \"death\", \"death\", \"death\", \"death\", \"death\", \"death\", \"death\", \"death\", \"deceiv\", \"declar\", \"deed\", \"deep\", \"defeat\", \"defeat\", \"deliv\", \"deliv\", \"deliv\", \"deliv\", \"deliv\", \"demand\", \"deni\", \"depart\", \"depart\", \"depart\", \"depart\", \"depart\", \"desert\", \"desir\", \"desir\", \"desir\", \"desir\", \"desol\", \"destroy\", \"destroy\", \"destroy\", \"destroy\", \"destroy\", \"destroy\", \"destroy\", \"destroy\", \"destroy\", \"destroy\", \"destroy\", \"destroy\", \"destroy\", \"determin\", \"devour\", \"die\", \"die\", \"die\", \"die\", \"die\", \"die\", \"die\", \"die\", \"die\", \"die\", \"die\", \"die\", \"die\", \"die\", \"die\", \"differ\", \"dilig\", \"disgrac\", \"dispers\", \"disput\", \"distanc\", \"distress\", \"distress\", \"divin\", \"dog\", \"dog\", \"dominion\", \"door\", \"door\", \"door\", \"door\", \"door\", \"door\", \"door\", \"doubl\", \"doubt\", \"dowri\", \"draw\", \"draw\", \"dream\", \"dream\", \"drink\", \"drink\", \"drink\", \"drink\", \"drive\", \"drive\", \"driven\", \"drunk\", \"dust\", \"dust\", \"dust\", \"dust\", \"duti\", \"dwell\", \"dwell\", \"dwell\", \"dwell\", \"dwell\", \"dwell\", \"dwell\", \"dwell\", \"dwell\", \"dwell\", \"dwell\", \"dwell\", \"ear\", \"earli\", \"earli\", \"earth\", \"earth\", \"earth\", \"earth\", \"earth\", \"earth\", \"earth\", \"earth\", \"earth\", \"earth\", \"earth\", \"earth\", \"earth\", \"earth\", \"eat\", \"eat\", \"eat\", \"eat\", \"eat\", \"eat\", \"eat\", \"eat\", \"eat\", \"eat\", \"eat\", \"eat\", \"eat\", \"elder\", \"elder\", \"elder\", \"elder\", \"elder\", \"elder\", \"elder\", \"elder\", \"embrac\", \"empti\", \"end\", \"end\", \"end\", \"end\", \"endur\", \"endur\", \"enemi\", \"enemi\", \"enemi\", \"enemi\", \"enemi\", \"enemi\", \"enmiti\", \"enter\", \"enter\", \"enter\", \"enter\", \"envi\", \"escap\", \"escap\", \"establish\", \"establish\", \"establish\", \"establish\", \"even\", \"even\", \"even\", \"even\", \"even\", \"even\", \"even\", \"even\", \"event\", \"everlast\", \"evid\", \"evil\", \"evil\", \"evil\", \"evil\", \"evil\", \"evil\", \"evil\", \"evil\", \"evil\", \"exalt\", \"exceedingli\", \"excel\", \"exchang\", \"execut\", \"explain\", \"expos\", \"eye\", \"eye\", \"eye\", \"eye\", \"eye\", \"eye\", \"eye\", \"eye\", \"eye\", \"eye\", \"eye\", \"eye\", \"face\", \"face\", \"face\", \"face\", \"face\", \"face\", \"face\", \"face\", \"face\", \"face\", \"face\", \"face\", \"face\", \"face\", \"fact\", \"fall\", \"fall\", \"fall\", \"fall\", \"fall\", \"fals\", \"famili\", \"famili\", \"famili\", \"famili\", \"famili\", \"famili\", \"famili\", \"famin\", \"famin\", \"famin\", \"famin\", \"farmer\", \"fat\", \"fat\", \"father\", \"father\", \"father\", \"father\", \"father\", \"father\", \"father\", \"father\", \"father\", \"father\", \"father\", \"father\", \"father\", \"father\", \"father\", \"father\", \"father\", \"father\", \"father\", \"fault\", \"favor\", \"favor\", \"favor\", \"favor\", \"fear\", \"fear\", \"fear\", \"fear\", \"fear\", \"fear\", \"fear\", \"fear\", \"feast\", \"feast\", \"feast\", \"feast\", \"feast\", \"fed\", \"feebl\", \"feed\", \"feed\", \"feed\", \"feel\", \"feel\", \"feet\", \"feet\", \"fell\", \"fell\", \"fell\", \"fell\", \"femal\", \"field\", \"field\", \"field\", \"field\", \"field\", \"field\", \"field\", \"field\", \"field\", \"field\", \"fierc\", \"fight\", \"fight\", \"fight\", \"fill\", \"fill\", \"fill\", \"find\", \"find\", \"find\", \"find\", \"find\", \"find\", \"finger\", \"fire\", \"fire\", \"fire\", \"fire\", \"fire\", \"fire\", \"fire\", \"firstborn\", \"firstfruit\", \"fish\", \"flame\", \"flee\", \"flee\", \"flesh\", \"flesh\", \"flesh\", \"flesh\", \"flesh\", \"flesh\", \"flesh\", \"flesh\", \"fli\", \"flood\", \"flow\", \"follow\", \"follow\", \"follow\", \"follow\", \"food\", \"food\", \"food\", \"food\", \"food\", \"forc\", \"forc\", \"forev\", \"forev\", \"forgiv\", \"forgotten\", \"form\", \"forsaken\", \"forward\", \"fought\", \"found\", \"found\", \"found\", \"found\", \"found\", \"found\", \"found\", \"found\", \"found\", \"found\", \"fourth\", \"fourth\", \"free\", \"free\", \"friend\", \"friend\", \"front\", \"fruit\", \"fruit\", \"fruit\", \"fruit\", \"fruit\", \"fruit\", \"fruit\", \"fruit\", \"fulfil\", \"fulfil\", \"fulfil\", \"fulfil\", \"full\", \"full\", \"full\", \"full\", \"full\", \"full\", \"furi\", \"furnac\", \"gain\", \"garden\", \"garden\", \"garden\", \"garden\", \"garment\", \"garment\", \"garment\", \"garment\", \"garment\", \"garment\", \"garment\", \"gate\", \"gate\", \"gather\", \"gather\", \"gather\", \"gather\", \"gather\", \"gather\", \"gather\", \"gather\", \"gather\", \"gather\", \"gather\", \"gather\", \"gather\", \"gather\", \"gave\", \"gave\", \"gave\", \"gave\", \"gave\", \"gave\", \"gave\", \"gave\", \"gave\", \"gave\", \"gave\", \"gave\", \"gave\", \"gave\", \"gave\", \"genealog\", \"gener\", \"gener\", \"gener\", \"gener\", \"gener\", \"gentil\", \"gift\", \"gift\", \"give\", \"give\", \"give\", \"give\", \"give\", \"give\", \"give\", \"give\", \"give\", \"give\", \"give\", \"give\", \"give\", \"give\", \"give\", \"give\", \"give\", \"give\", \"give\", \"give\", \"glad\", \"glori\", \"glori\", \"glori\", \"glori\", \"gloriou\", \"god\", \"god\", \"god\", \"god\", \"god\", \"god\", \"god\", \"god\", \"god\", \"god\", \"god\", \"god\", \"god\", \"god\", \"god\", \"god\", \"god\", \"god\", \"god\", \"god\", \"gold\", \"gold\", \"gold\", \"gold\", \"gold\", \"gold\", \"gold\", \"gold\", \"golden\", \"good\", \"good\", \"good\", \"good\", \"good\", \"good\", \"good\", \"good\", \"good\", \"good\", \"good\", \"good\", \"good\", \"good\", \"good\", \"good\", \"governor\", \"graciou\", \"grain\", \"grain\", \"grain\", \"grain\", \"grain\", \"grain\", \"grant\", \"grass\", \"grave\", \"grave\", \"great\", \"great\", \"great\", \"great\", \"great\", \"great\", \"great\", \"great\", \"great\", \"great\", \"great\", \"great\", \"great\", \"great\", \"greater\", \"greatli\", \"greatli\", \"grief\", \"grow\", \"grow\", \"guard\", \"guard\", \"guid\", \"guid\", \"guilti\", \"habit\", \"hail\", \"hair\", \"half\", \"half\", \"half\", \"hand\", \"hand\", \"hand\", \"hand\", \"hand\", \"hand\", \"hand\", \"hand\", \"hand\", \"hand\", \"hand\", \"hand\", \"hand\", \"hand\", \"hand\", \"hand\", \"hand\", \"hand\", \"hand\", \"hand\", \"hang\", \"hang\", \"happi\", \"hard\", \"hard\", \"hard\", \"hard\", \"harm\", \"harm\", \"harvest\", \"harvest\", \"hate\", \"hate\", \"hate\", \"head\", \"head\", \"head\", \"head\", \"head\", \"head\", \"head\", \"head\", \"head\", \"head\", \"heal\", \"heal\", \"hear\", \"hear\", \"hear\", \"hear\", \"hear\", \"hear\", \"hear\", \"hear\", \"hear\", \"hear\", \"hear\", \"heard\", \"heard\", \"heard\", \"heard\", \"heard\", \"heard\", \"heard\", \"heard\", \"heard\", \"heard\", \"heard\", \"heard\", \"heard\", \"heard\", \"heart\", \"heart\", \"heart\", \"heart\", \"heart\", \"heart\", \"heart\", \"heart\", \"heart\", \"heart\", \"heat\", \"heaven\", \"heaven\", \"heaven\", \"heaven\", \"heaven\", \"heaven\", \"heaven\", \"heavi\", \"heed\", \"heed\", \"heed\", \"heed\", \"heed\", \"heir\", \"held\", \"help\", \"helper\", \"hidden\", \"hide\", \"hide\", \"high\", \"high\", \"high\", \"high\", \"high\", \"hire\", \"hold\", \"hold\", \"hold\", \"holi\", \"holi\", \"holi\", \"holi\", \"holi\", \"holi\", \"holi\", \"home\", \"honor\", \"honor\", \"honor\", \"horn\", \"horn\", \"horror\", \"hors\", \"hors\", \"host\", \"hous\", \"hous\", \"hous\", \"hous\", \"hous\", \"hous\", \"hous\", \"hous\", \"hous\", \"hous\", \"hous\", \"hous\", \"hous\", \"hous\", \"hous\", \"hous\", \"hous\", \"hous\", \"hous\", \"household\", \"hundr\", \"hundr\", \"hundr\", \"hundr\", \"hundr\", \"hunger\", \"hunt\", \"husband\", \"husband\", \"husband\", \"idl\", \"idol\", \"imag\", \"imag\", \"impos\", \"incens\", \"increas\", \"increas\", \"increas\", \"inhabit\", \"inhabit\", \"inhabit\", \"inherit\", \"inherit\", \"inherit\", \"inquir\", \"intend\", \"intend\", \"intent\", \"interced\", \"interest\", \"interpret\", \"interpret\", \"isaac\", \"isaac\", \"isaac\", \"isaac\", \"ishmael\", \"israel\", \"israel\", \"israel\", \"israel\", \"israel\", \"israel\", \"israel\", \"israel\", \"israel\", \"israel\", \"israel\", \"israel\", \"israel\", \"israel\", \"israel\", \"israel\", \"israel\", \"israelit\", \"join\", \"join\", \"journey\", \"journey\", \"journey\", \"journey\", \"joy\", \"judah\", \"judah\", \"judah\", \"judah\", \"judah\", \"judah\", \"judah\", \"judah\", \"judah\", \"judah\", \"judg\", \"judg\", \"judg\", \"judg\", \"judg\", \"judg\", \"judg\", \"judgment\", \"judgment\", \"judgment\", \"justic\", \"justic\", \"justifi\", \"keeper\", \"keeper\", \"kill\", \"kill\", \"kill\", \"kill\", \"kill\", \"kill\", \"kill\", \"kill\", \"kill\", \"kill\", \"kill\", \"kill\", \"kill\", \"kind\", \"kind\", \"kindl\", \"king\", \"king\", \"king\", \"king\", \"king\", \"king\", \"king\", \"kingdom\", \"kingdom\", \"kingdom\", \"kiss\", \"kiss\", \"knew\", \"knew\", \"knew\", \"knowledg\", \"korah\", \"labor\", \"labor\", \"labor\", \"lack\", \"laid\", \"laid\", \"laid\", \"lamb\", \"lamb\", \"lament\", \"land\", \"land\", \"land\", \"land\", \"land\", \"land\", \"land\", \"land\", \"land\", \"land\", \"land\", \"land\", \"land\", \"land\", \"land\", \"land\", \"land\", \"land\", \"land\", \"land\", \"languag\", \"languag\", \"larg\", \"larg\", \"larg\", \"laugh\", \"law\", \"law\", \"law\", \"law\", \"law\", \"law\", \"law\", \"lay\", \"lay\", \"lay\", \"lay\", \"lay\", \"lay\", \"lay\", \"lead\", \"learn\", \"leav\", \"leav\", \"leav\", \"leav\", \"leaven\", \"led\", \"led\", \"led\", \"left\", \"left\", \"left\", \"left\", \"left\", \"left\", \"left\", \"left\", \"left\", \"left\", \"left\", \"left\", \"leg\", \"levi\", \"levi\", \"levit\", \"lie\", \"lie\", \"lie\", \"lie\", \"lie\", \"lie\", \"lie\", \"lie\", \"lie\", \"life\", \"life\", \"life\", \"life\", \"life\", \"light\", \"light\", \"light\", \"like\", \"lion\", \"lip\", \"listen\", \"listen\", \"listen\", \"listen\", \"listen\", \"listen\", \"live\", \"live\", \"live\", \"live\", \"live\", \"live\", \"live\", \"live\", \"live\", \"live\", \"live\", \"live\", \"live\", \"live\", \"live\", \"live\", \"live\", \"live\", \"load\", \"locust\", \"lodg\", \"long\", \"long\", \"long\", \"long\", \"long\", \"longer\", \"longer\", \"longer\", \"longer\", \"look\", \"look\", \"look\", \"look\", \"look\", \"loos\", \"lord\", \"lord\", \"lord\", \"lord\", \"lord\", \"lord\", \"lord\", \"lord\", \"lord\", \"lord\", \"lord\", \"lord\", \"lord\", \"lord\", \"lord\", \"lord\", \"lord\", \"lord\", \"lord\", \"lord\", \"loss\", \"lost\", \"lot\", \"lot\", \"lot\", \"lot\", \"lot\", \"lot\", \"lot\", \"loud\", \"love\", \"love\", \"love\", \"love\", \"love\", \"lower\", \"made\", \"made\", \"made\", \"made\", \"made\", \"made\", \"made\", \"made\", \"made\", \"made\", \"made\", \"made\", \"made\", \"made\", \"made\", \"made\", \"made\", \"made\", \"magician\", \"magician\", \"maiden\", \"make\", \"make\", \"make\", \"make\", \"make\", \"make\", \"make\", \"make\", \"make\", \"make\", \"make\", \"make\", \"make\", \"make\", \"make\", \"make\", \"make\", \"make\", \"make\", \"male\", \"male\", \"male\", \"male\", \"male\", \"male\", \"man\", \"man\", \"man\", \"man\", \"man\", \"man\", \"man\", \"man\", \"man\", \"man\", \"man\", \"man\", \"man\", \"man\", \"man\", \"man\", \"man\", \"man\", \"mankind\", \"manner\", \"manner\", \"manner\", \"manner\", \"mark\", \"marri\", \"marri\", \"marriag\", \"master\", \"master\", \"master\", \"matter\", \"matter\", \"matter\", \"measur\", \"medit\", \"memori\", \"memori\", \"men\", \"men\", \"men\", \"men\", \"men\", \"men\", \"men\", \"men\", \"men\", \"men\", \"men\", \"men\", \"men\", \"men\", \"men\", \"men\", \"men\", \"mention\", \"merchant\", \"merci\", \"merci\", \"messag\", \"messeng\", \"met\", \"middl\", \"mighti\", \"mighti\", \"mighti\", \"mighti\", \"milk\", \"mind\", \"mine\", \"mine\", \"miracl\", \"moab\", \"moab\", \"mock\", \"money\", \"money\", \"money\", \"money\", \"money\", \"money\", \"month\", \"month\", \"month\", \"month\", \"month\", \"moon\", \"mose\", \"mose\", \"mose\", \"mose\", \"mose\", \"mose\", \"mose\", \"mose\", \"mose\", \"mose\", \"mose\", \"mother\", \"mother\", \"mother\", \"mother\", \"mother\", \"mother\", \"mother\", \"mother\", \"mother\", \"mountain\", \"mountain\", \"mountain\", \"mountain\", \"mountain\", \"mountain\", \"mountain\", \"mountain\", \"mountain\", \"mountain\", \"mountain\", \"mountain\", \"mountain\", \"mountain\", \"mountain\", \"mountain\", \"mourn\", \"mourn\", \"mourn\", \"mourn\", \"mourn\", \"mourn\", \"mouth\", \"mouth\", \"mouth\", \"mouth\", \"mouth\", \"move\", \"move\", \"multipli\", \"multipli\", \"multitud\", \"murder\", \"mute\", \"nake\", \"name\", \"name\", \"name\", \"name\", \"name\", \"name\", \"nation\", \"nation\", \"nation\", \"nation\", \"nation\", \"nation\", \"nation\", \"nation\", \"nation\", \"nation\", \"nation\", \"nation\", \"night\", \"night\", \"night\", \"night\", \"night\", \"night\", \"night\", \"night\", \"night\", \"night\", \"night\", \"night\", \"night\", \"night\", \"noah\", \"noah\", \"nobl\", \"north\", \"nose\", \"number\", \"number\", \"number\", \"number\", \"nurs\", \"obedi\", \"obey\", \"obey\", \"obtain\", \"offend\", \"offer\", \"offer\", \"offer\", \"offer\", \"offer\", \"offer\", \"offer\", \"offer\", \"offspr\", \"offspr\", \"oil\", \"oil\", \"oliv\", \"open\", \"open\", \"open\", \"open\", \"oppress\", \"order\", \"owner\", \"pain\", \"palm\", \"pardon\", \"part\", \"part\", \"parti\", \"pass\", \"pass\", \"pass\", \"pass\", \"pass\", \"pass\", \"pass\", \"pass\", \"pass\", \"pass\", \"pass\", \"pass\", \"pass\", \"pass\", \"pass\", \"pass\", \"pass\", \"pass\", \"passov\", \"passov\", \"past\", \"path\", \"pay\", \"pay\", \"peac\", \"peac\", \"peac\", \"peac\", \"peopl\", \"peopl\", \"peopl\", \"peopl\", \"peopl\", \"peopl\", \"peopl\", \"peopl\", \"peopl\", \"peopl\", \"peopl\", \"peopl\", \"peopl\", \"peopl\", \"peopl\", \"peopl\", \"peopl\", \"peopl\", \"peopl\", \"perfect\", \"perish\", \"perish\", \"permit\", \"person\", \"person\", \"person\", \"person\", \"person\", \"pharaoh\", \"pharaoh\", \"pharaoh\", \"pharaoh\", \"pharaoh\", \"pharaoh\", \"pharaoh\", \"piec\", \"piec\", \"piec\", \"piec\", \"pilgrimag\", \"pit\", \"place\", \"place\", \"place\", \"place\", \"place\", \"place\", \"place\", \"place\", \"place\", \"place\", \"place\", \"place\", \"place\", \"place\", \"place\", \"place\", \"place\", \"place\", \"place\", \"place\", \"plain\", \"plain\", \"plain\", \"plain\", \"plainli\", \"plant\", \"plead\", \"pleas\", \"pleas\", \"pleasant\", \"pleasur\", \"pledg\", \"pledg\", \"plenti\", \"pluck\", \"plunder\", \"plunder\", \"point\", \"poor\", \"poor\", \"possess\", \"possess\", \"possess\", \"possess\", \"possess\", \"pour\", \"pour\", \"poverti\", \"power\", \"power\", \"power\", \"practic\", \"prais\", \"pray\", \"pray\", \"pray\", \"pray\", \"preciou\", \"prepar\", \"prepar\", \"prepar\", \"presenc\", \"presenc\", \"presenc\", \"presenc\", \"presenc\", \"present\", \"present\", \"preserv\", \"prevail\", \"priest\", \"priest\", \"priest\", \"priest\", \"priest\", \"priest\", \"priest\", \"priest\", \"princ\", \"princ\", \"princ\", \"princ\", \"princip\", \"prison\", \"proceed\", \"produc\", \"profan\", \"profit\", \"promis\", \"properti\", \"prophet\", \"prostrat\", \"provid\", \"provid\", \"provid\", \"provis\", \"provok\", \"punish\", \"punish\", \"pure\", \"pure\", \"purifi\", \"purpos\", \"pursu\", \"pursu\", \"pursu\", \"put\", \"put\", \"put\", \"put\", \"put\", \"put\", \"put\", \"put\", \"put\", \"put\", \"put\", \"put\", \"put\", \"put\", \"put\", \"put\", \"put\", \"quarrel\", \"quickli\", \"quickli\", \"rain\", \"rain\", \"rais\", \"rank\", \"reach\", \"read\", \"readi\", \"readi\", \"readi\", \"reap\", \"reason\", \"rebel\", \"rebuk\", \"rebuk\", \"receiv\", \"receiv\", \"reckon\", \"recogn\", \"recogn\", \"record\", \"redeem\", \"redeem\", \"reduc\", \"reed\", \"refresh\", \"refus\", \"refus\", \"refus\", \"regard\", \"reign\", \"reign\", \"reign\", \"reign\", \"rejoic\", \"rel\", \"releas\", \"releas\", \"relief\", \"remain\", \"remain\", \"remain\", \"remain\", \"remain\", \"remain\", \"remain\", \"rememb\", \"rememb\", \"rememb\", \"rememb\", \"rememb\", \"remembr\", \"repay\", \"report\", \"report\", \"reproach\", \"reproach\", \"request\", \"rescu\", \"reserv\", \"respect\", \"rest\", \"rest\", \"rest\", \"rest\", \"rest\", \"rest\", \"rest\", \"restrain\", \"reviv\", \"reward\", \"rich\", \"rich\", \"rich\", \"ride\", \"righteou\", \"righteou\", \"righteous\", \"righteous\", \"rightli\", \"rise\", \"rise\", \"rise\", \"rise\", \"risen\", \"river\", \"river\", \"river\", \"river\", \"river\", \"river\", \"roast\", \"rock\", \"roll\", \"rule\", \"ruler\", \"ruler\", \"run\", \"sabbath\", \"sabbath\", \"sabbath\", \"sabbath\", \"sacr\", \"safe\", \"sake\", \"sake\", \"sake\", \"sake\", \"salvat\", \"sanctifi\", \"sat\", \"sat\", \"sat\", \"sat\", \"saul\", \"saul\", \"save\", \"save\", \"save\", \"save\", \"save\", \"save\", \"sea\", \"sea\", \"sea\", \"sea\", \"sea\", \"sea\", \"sea\", \"sea\", \"seat\", \"secretli\", \"see\", \"seed\", \"seed\", \"seed\", \"seek\", \"seek\", \"seiz\", \"send\", \"send\", \"send\", \"send\", \"send\", \"send\", \"send\", \"send\", \"send\", \"separ\", \"separ\", \"separ\", \"serpent\", \"servant\", \"servant\", \"servant\", \"servant\", \"servant\", \"servant\", \"servant\", \"servant\", \"servant\", \"servant\", \"servant\", \"servant\", \"servant\", \"servant\", \"servant\", \"servant\", \"set\", \"set\", \"set\", \"set\", \"set\", \"set\", \"set\", \"set\", \"set\", \"sever\", \"sever\", \"sever\", \"sever\", \"shadow\", \"shame\", \"sharp\", \"shed\", \"shepherd\", \"ship\", \"show\", \"show\", \"show\", \"show\", \"show\", \"show\", \"shown\", \"shown\", \"shut\", \"sick\", \"side\", \"side\", \"side\", \"sight\", \"sight\", \"sight\", \"sight\", \"sight\", \"sight\", \"sight\", \"sight\", \"sight\", \"sight\", \"sight\", \"sign\", \"sign\", \"sign\", \"sign\", \"sign\", \"silent\", \"silver\", \"silver\", \"sin\", \"sin\", \"sin\", \"sin\", \"sin\", \"sin\", \"sin\", \"sin\", \"sin\", \"sing\", \"sit\", \"sit\", \"sixth\", \"skin\", \"skin\", \"skin\", \"slain\", \"slaughter\", \"slave\", \"slave\", \"slay\", \"slay\", \"slew\", \"slow\", \"small\", \"small\", \"smoke\", \"snare\", \"sodom\", \"sodom\", \"son\", \"son\", \"son\", \"son\", \"son\", \"son\", \"son\", \"son\", \"son\", \"son\", \"son\", \"son\", \"son\", \"son\", \"son\", \"son\", \"son\", \"son\", \"son\", \"son\", \"sorrow\", \"sorrow\", \"soul\", \"soul\", \"soul\", \"soul\", \"soul\", \"sound\", \"sound\", \"sow\", \"sown\", \"spare\", \"speak\", \"speak\", \"speak\", \"speak\", \"speak\", \"speak\", \"speak\", \"speak\", \"speech\", \"spend\", \"spice\", \"spirit\", \"spirit\", \"spirit\", \"spoil\", \"spoke\", \"spoke\", \"spoke\", \"spoke\", \"spoke\", \"spoken\", \"spoken\", \"spoken\", \"spoken\", \"spoken\", \"spot\", \"spread\", \"spread\", \"spring\", \"sprinkl\", \"staff\", \"staff\", \"star\", \"statut\", \"statut\", \"stay\", \"stay\", \"steal\", \"step\", \"stone\", \"stone\", \"stone\", \"stone\", \"stone\", \"stone\", \"stone\", \"stone\", \"stood\", \"stood\", \"stood\", \"stood\", \"stood\", \"stood\", \"straw\", \"stream\", \"strength\", \"strength\", \"strength\", \"strength\", \"strength\", \"strengthen\", \"stretch\", \"strike\", \"strike\", \"strive\", \"strong\", \"strong\", \"strong\", \"stronger\", \"struck\", \"struck\", \"struck\", \"struck\", \"struck\", \"struck\", \"subject\", \"submit\", \"success\", \"suddenli\", \"suddenli\", \"suffer\", \"sun\", \"sun\", \"sun\", \"sun\", \"suppli\", \"support\", \"support\", \"suppos\", \"surround\", \"surround\", \"sustain\", \"swallow\", \"swear\", \"swear\", \"swear\", \"swear\", \"sweet\", \"sweet\", \"sword\", \"sword\", \"sword\", \"sword\", \"sword\", \"sword\", \"sword\", \"sworn\", \"tabernacl\", \"take\", \"talk\", \"talk\", \"task\", \"tast\", \"teach\", \"teach\", \"teach\", \"teeth\", \"tempt\", \"ten\", \"ten\", \"ten\", \"ten\", \"ten\", \"terror\", \"test\", \"test\", \"testifi\", \"testimoni\", \"testimoni\", \"thick\", \"thick\", \"thing\", \"thing\", \"thing\", \"thing\", \"thing\", \"thing\", \"thing\", \"thing\", \"thing\", \"thing\", \"thing\", \"thing\", \"thing\", \"thing\", \"thing\", \"thing\", \"thing\", \"thirst\", \"thorn\", \"thousand\", \"thousand\", \"threw\", \"throne\", \"throw\", \"thrown\", \"thunder\", \"thunder\", \"thunder\", \"till\", \"till\", \"time\", \"time\", \"time\", \"time\", \"time\", \"time\", \"time\", \"time\", \"time\", \"time\", \"time\", \"time\", \"time\", \"time\", \"today\", \"today\", \"today\", \"today\", \"today\", \"told\", \"told\", \"told\", \"told\", \"told\", \"told\", \"told\", \"told\", \"told\", \"told\", \"told\", \"told\", \"told\", \"told\", \"told\", \"tongu\", \"torch\", \"torn\", \"torn\", \"touch\", \"town\", \"transgress\", \"treasur\", \"treat\", \"tree\", \"tree\", \"tree\", \"tree\", \"tree\", \"tree\", \"tree\", \"trembl\", \"trembl\", \"tribe\", \"tribe\", \"tribe\", \"triumph\", \"troubl\", \"troubl\", \"trumpet\", \"truth\", \"truth\", \"turn\", \"turn\", \"turn\", \"turn\", \"turn\", \"turn\", \"turn\", \"turn\", \"turn\", \"twelv\", \"twelv\", \"twenti\", \"twenti\", \"twenti\", \"unclean\", \"understand\", \"understand\", \"understood\", \"unit\", \"unright\", \"upright\", \"urg\", \"vain\", \"valley\", \"valley\", \"valley\", \"valley\", \"veil\", \"veil\", \"vengeanc\", \"vine\", \"vineyard\", \"violenc\", \"vision\", \"voic\", \"voic\", \"voic\", \"voic\", \"vow\", \"wait\", \"wait\", \"walk\", \"walk\", \"walk\", \"wall\", \"wall\", \"wall\", \"wander\", \"war\", \"war\", \"war\", \"war\", \"warn\", \"wash\", \"watch\", \"water\", \"water\", \"water\", \"water\", \"water\", \"water\", \"water\", \"water\", \"water\", \"water\", \"water\", \"water\", \"water\", \"water\", \"wealth\", \"weari\", \"weari\", \"weep\", \"weigh\", \"weight\", \"west\", \"west\", \"wheat\", \"white\", \"whomev\", \"wick\", \"widow\", \"widow\", \"wife\", \"wife\", \"wife\", \"wife\", \"wife\", \"wife\", \"wife\", \"wild\", \"willingli\", \"wind\", \"wine\", \"wine\", \"wine\", \"wing\", \"wing\", \"wise\", \"wise\", \"wise\", \"wise\", \"wit\", \"wit\", \"wit\", \"wit\", \"wit\", \"wither\", \"wive\", \"wive\", \"wive\", \"woman\", \"woman\", \"woman\", \"woman\", \"woman\", \"womb\", \"womb\", \"women\", \"word\", \"word\", \"word\", \"word\", \"word\", \"word\", \"word\", \"word\", \"word\", \"word\", \"word\", \"work\", \"work\", \"work\", \"work\", \"work\", \"work\", \"work\", \"work\", \"work\", \"work\", \"work\", \"wors\", \"worship\", \"worship\", \"worthi\", \"wound\", \"wrath\", \"wrath\", \"write\", \"wrong\", \"wrote\", \"year\", \"year\", \"year\", \"year\", \"year\", \"year\", \"year\", \"year\", \"year\", \"year\", \"year\", \"year\", \"year\", \"yield\", \"yoke\"]}, \"R\": 30, \"lambda.step\": 0.01, \"plot.opts\": {\"xlab\": \"PC1\", \"ylab\": \"PC2\"}, \"topic.order\": [20, 15, 18, 13, 4, 11, 2, 19, 9, 16, 1, 12, 17, 10, 6, 8, 7, 14, 5, 3]};\n",
       "\n",
       "function LDAvis_load_lib(url, callback){\n",
       "  var s = document.createElement('script');\n",
       "  s.src = url;\n",
       "  s.async = true;\n",
       "  s.onreadystatechange = s.onload = callback;\n",
       "  s.onerror = function(){console.warn(\"failed to load library \" + url);};\n",
       "  document.getElementsByTagName(\"head\")[0].appendChild(s);\n",
       "}\n",
       "\n",
       "if(typeof(LDAvis) !== \"undefined\"){\n",
       "   // already loaded: just create the visualization\n",
       "   !function(LDAvis){\n",
       "       new LDAvis(\"#\" + \"ldavis_el37211398984494351047934559465\", ldavis_el37211398984494351047934559465_data);\n",
       "   }(LDAvis);\n",
       "}else if(typeof define === \"function\" && define.amd){\n",
       "   // require.js is available: use it to load d3/LDAvis\n",
       "   require.config({paths: {d3: \"https://d3js.org/d3.v5\"}});\n",
       "   require([\"d3\"], function(d3){\n",
       "      window.d3 = d3;\n",
       "      LDAvis_load_lib(\"https://cdn.jsdelivr.net/gh/bmabey/pyLDAvis@3.3.1/pyLDAvis/js/ldavis.v3.0.0.js\", function(){\n",
       "        new LDAvis(\"#\" + \"ldavis_el37211398984494351047934559465\", ldavis_el37211398984494351047934559465_data);\n",
       "      });\n",
       "    });\n",
       "}else{\n",
       "    // require.js not available: dynamically load d3 & LDAvis\n",
       "    LDAvis_load_lib(\"https://d3js.org/d3.v5.js\", function(){\n",
       "         LDAvis_load_lib(\"https://cdn.jsdelivr.net/gh/bmabey/pyLDAvis@3.3.1/pyLDAvis/js/ldavis.v3.0.0.js\", function(){\n",
       "                 new LDAvis(\"#\" + \"ldavis_el37211398984494351047934559465\", ldavis_el37211398984494351047934559465_data);\n",
       "            })\n",
       "         });\n",
       "}\n",
       "</script>"
      ],
      "text/plain": [
       "<IPython.core.display.HTML object>"
      ]
     },
     "execution_count": 35,
     "metadata": {},
     "output_type": "execute_result"
    }
   ],
   "source": [
    "pyLDAvis.display(disp)"
   ]
  },
  {
   "cell_type": "markdown",
   "metadata": {},
   "source": [
    "# Text classification"
   ]
  },
  {
   "cell_type": "code",
   "execution_count": 36,
   "metadata": {},
   "outputs": [],
   "source": [
    "np.random.seed(50)"
   ]
  },
  {
   "cell_type": "code",
   "execution_count": 37,
   "metadata": {},
   "outputs": [],
   "source": [
    "from sklearn.model_selection import train_test_split"
   ]
  },
  {
   "cell_type": "code",
   "execution_count": 38,
   "metadata": {},
   "outputs": [],
   "source": [
    "combined = OT + NT + quran\n",
    "labels = re.findall(r'(OT|NT|Quran)\\t', data)"
   ]
  },
  {
   "cell_type": "code",
   "execution_count": 39,
   "metadata": {},
   "outputs": [],
   "source": [
    "combined = OT + NT + quran\n",
    "labels = re.findall(r'(OT|NT|Quran)\\t', data)\n",
    "vocab = set(list(chain.from_iterable(combined)))"
   ]
  },
  {
   "cell_type": "markdown",
   "metadata": {},
   "source": [
    "### Create BOW features"
   ]
  },
  {
   "cell_type": "code",
   "execution_count": 41,
   "metadata": {},
   "outputs": [],
   "source": [
    "def map2id(vocab, classes):\n",
    "    class2id = {c:ID for ID,c in enumerate(set(classes))}\n",
    "    word2id = {word:ID for ID,word in enumerate(vocab)}\n",
    "    \n",
    "    return class2id, word2id"
   ]
  },
  {
   "cell_type": "code",
   "execution_count": 42,
   "metadata": {},
   "outputs": [],
   "source": [
    "def BOW_matrix(data, word2id):\n",
    "    \n",
    "    matrix_size = (len(data),len(word2id)+1)\n",
    "    # OOV = out of vocabulary, for words out of vocabulary.\n",
    "    oov_index = len(word2id)\n",
    "    \n",
    "    X = scipy.sparse.dok_matrix(matrix_size)\n",
    "    print(f'X matrix is of shape:{X.shape}')\n",
    "    \n",
    "    for docid, doc in enumerate(data):\n",
    "        for word in doc:\n",
    "            X[docid, word2id.get(word,oov_index)] +=1\n",
    "    \n",
    "    return X"
   ]
  },
  {
   "cell_type": "code",
   "execution_count": 43,
   "metadata": {},
   "outputs": [],
   "source": [
    "def train_model(X_t,y_t,w2id,c2id):\n",
    "    X_t = BOW_matrix(X_t, w2id)\n",
    "    y_t = [c2id[c] for c in y_t]\n",
    "    model = sklearn.svm.LinearSVC(C=1000, random_state=25)\n",
    "    model.fit(X_t,y_t)\n",
    "    return model"
   ]
  },
  {
   "cell_type": "code",
   "execution_count": 44,
   "metadata": {},
   "outputs": [
    {
     "name": "stdout",
     "output_type": "stream",
     "text": [
      "Number of features: 15441\n"
     ]
    }
   ],
   "source": [
    "class2id, word2id = map2id(vocab,labels)\n",
    "print(f'Number of features: {len(vocab)}')"
   ]
  },
  {
   "cell_type": "markdown",
   "metadata": {},
   "source": [
    "### Shuffle and split"
   ]
  },
  {
   "cell_type": "code",
   "execution_count": 45,
   "metadata": {},
   "outputs": [],
   "source": [
    "X_train, X_val, y_train, y_val = train_test_split(combined, labels, test_size=0.1, random_state=25)\n",
    "f = open('test.tsv')\n",
    "test = f.read()\n",
    "X_test = re.findall(r'(?:OT\\t|NT\\t|Quran\\t)(.+)', test)\n",
    "X_test = [re.findall(r'\\w+', verse) for verse in X_test]\n",
    "y_test = re.findall(r'(OT|NT|Quran)\\t', test)"
   ]
  },
  {
   "cell_type": "code",
   "execution_count": 46,
   "metadata": {},
   "outputs": [
    {
     "name": "stdout",
     "output_type": "stream",
     "text": [
      "X matrix is of shape:(30144, 15442)\n",
      "14.000240802764893\n"
     ]
    },
    {
     "name": "stderr",
     "output_type": "stream",
     "text": [
      "/home/faruk/anaconda3/envs/TTDS/lib/python3.9/site-packages/sklearn/svm/_base.py:1206: ConvergenceWarning: Liblinear failed to converge, increase the number of iterations.\n",
      "  warnings.warn(\n"
     ]
    }
   ],
   "source": [
    "start = time.time()\n",
    "model = train_model(X_train, y_train, word2id, class2id)\n",
    "end = time.time()\n",
    "print(end-start)"
   ]
  },
  {
   "cell_type": "markdown",
   "metadata": {},
   "source": [
    "### Evaluate on validation"
   ]
  },
  {
   "cell_type": "code",
   "execution_count": 47,
   "metadata": {},
   "outputs": [],
   "source": [
    "def evaluate_model(X_t,y_t,X_v,y_v,X_test,y_test,w2id,c2id,model):\n",
    "    X_t = BOW_matrix(X_t, w2id)\n",
    "    y_t = [c2id[c] for c in y_t]\n",
    "    y_t_predictions = model.predict(X_t)\n",
    "    \n",
    "    X_v = BOW_matrix(X_v, w2id)\n",
    "    y_v = [c2id[c] for c in y_v]\n",
    "    y_v_predictions = model.predict(X_v)\n",
    "    \n",
    "    X_test = BOW_matrix(X_test, w2id)\n",
    "    y_test = [c2id[c] for c in y_test]\n",
    "    y_test_predictions = model.predict(X_test)\n",
    "    \n",
    "    class_names = []\n",
    "    for c,cid in sorted(c2id.items(),key=lambda x:x[1]):\n",
    "        class_names.append(c)\n",
    "    return classification_report(y_t, y_t_predictions, target_names=class_names, output_dict=False), classification_report(y_v, y_v_predictions, target_names=class_names, output_dict=False), classification_report(y_test, y_test_predictions, target_names=class_names, output_dict=False)\n"
   ]
  },
  {
   "cell_type": "code",
   "execution_count": 48,
   "metadata": {},
   "outputs": [
    {
     "name": "stdout",
     "output_type": "stream",
     "text": [
      "X matrix is of shape:(30144, 15442)\n",
      "X matrix is of shape:(3350, 15442)\n",
      "X matrix is of shape:(3843, 15442)\n"
     ]
    }
   ],
   "source": [
    "report_train, report_val, report_test = evaluate_model(X_train,y_train,X_val,y_val,X_test,y_test,word2id,class2id,model)"
   ]
  },
  {
   "cell_type": "code",
   "execution_count": 49,
   "metadata": {},
   "outputs": [
    {
     "name": "stdout",
     "output_type": "stream",
     "text": [
      "              precision    recall  f1-score   support\n",
      "\n",
      "       Quran       1.00      1.00      1.00      5034\n",
      "          OT       1.00      1.00      1.00     18676\n",
      "          NT       1.00      1.00      1.00      6434\n",
      "\n",
      "    accuracy                           1.00     30144\n",
      "   macro avg       1.00      1.00      1.00     30144\n",
      "weighted avg       1.00      1.00      1.00     30144\n",
      "\n"
     ]
    }
   ],
   "source": [
    "print(report_train)"
   ]
  },
  {
   "cell_type": "code",
   "execution_count": 50,
   "metadata": {},
   "outputs": [
    {
     "name": "stdout",
     "output_type": "stream",
     "text": [
      "              precision    recall  f1-score   support\n",
      "\n",
      "       Quran       0.90      0.90      0.90       582\n",
      "          OT       0.94      0.91      0.92      2090\n",
      "          NT       0.75      0.82      0.79       678\n",
      "\n",
      "    accuracy                           0.89      3350\n",
      "   macro avg       0.86      0.88      0.87      3350\n",
      "weighted avg       0.89      0.89      0.89      3350\n",
      "\n"
     ]
    }
   ],
   "source": [
    "print(report_val)"
   ]
  },
  {
   "cell_type": "code",
   "execution_count": 51,
   "metadata": {},
   "outputs": [
    {
     "name": "stdout",
     "output_type": "stream",
     "text": [
      "              precision    recall  f1-score   support\n",
      "\n",
      "       Quran       0.88      0.90      0.89       620\n",
      "          OT       0.94      0.91      0.93      2379\n",
      "          NT       0.79      0.85      0.82       844\n",
      "\n",
      "    accuracy                           0.90      3843\n",
      "   macro avg       0.87      0.89      0.88      3843\n",
      "weighted avg       0.90      0.90      0.90      3843\n",
      "\n"
     ]
    }
   ],
   "source": [
    "print(report_test)"
   ]
  },
  {
   "cell_type": "markdown",
   "metadata": {},
   "source": [
    "## Change classifier parameters"
   ]
  },
  {
   "cell_type": "markdown",
   "metadata": {},
   "source": [
    "### Change to linear classifier"
   ]
  },
  {
   "cell_type": "code",
   "execution_count": 99,
   "metadata": {},
   "outputs": [],
   "source": [
    "def train_model(X_t,y_t,w2id,c2id):\n",
    "    X_t = BOW_matrix(X_t, w2id)\n",
    "    y_t = [c2id[c] for c in y_t]\n",
    "    model = sklearn.svm.LinearSVC(C=1000, random_state=25)\n",
    "    model.fit(X_t,y_t)\n",
    "    return model"
   ]
  },
  {
   "cell_type": "code",
   "execution_count": 100,
   "metadata": {},
   "outputs": [],
   "source": [
    "X_train, X_val, y_train, y_val = train_test_split(combined, labels, test_size=0.1, random_state=25)\n",
    "f = open('test.tsv')\n",
    "test = f.read()\n",
    "X_test = re.findall(r'(?:OT\\t|NT\\t|Quran\\t)(.+)', test)\n",
    "X_test = [re.findall(r'\\w+', verse) for verse in X_test]\n",
    "y_test = re.findall(r'(OT|NT|Quran)\\t', test)"
   ]
  },
  {
   "cell_type": "code",
   "execution_count": 101,
   "metadata": {},
   "outputs": [
    {
     "name": "stdout",
     "output_type": "stream",
     "text": [
      "X matrix is of shape:(30144, 15442)\n"
     ]
    },
    {
     "name": "stderr",
     "output_type": "stream",
     "text": [
      "/home/faruk/anaconda3/envs/TTDS/lib/python3.9/site-packages/sklearn/svm/_base.py:1206: ConvergenceWarning: Liblinear failed to converge, increase the number of iterations.\n",
      "  warnings.warn(\n"
     ]
    },
    {
     "name": "stdout",
     "output_type": "stream",
     "text": [
      "X matrix is of shape:(30144, 15442)\n",
      "X matrix is of shape:(3350, 15442)\n",
      "X matrix is of shape:(3843, 15442)\n",
      "              precision    recall  f1-score   support\n",
      "\n",
      "          OT       0.99      1.00      1.00     18673\n",
      "       Quran       1.00      1.00      1.00      5042\n",
      "          NT       0.99      0.98      0.99      6429\n",
      "\n",
      "    accuracy                           0.99     30144\n",
      "   macro avg       0.99      0.99      0.99     30144\n",
      "weighted avg       0.99      0.99      0.99     30144\n",
      "\n"
     ]
    }
   ],
   "source": [
    "model = train_model(X_train, y_train, word2id, class2id)\n",
    "report_train,report_val, report_test = evaluate_model(X_train,y_train,X_val,y_val,X_test,y_test,word2id,class2id,model)\n",
    "print(report_train)"
   ]
  },
  {
   "cell_type": "code",
   "execution_count": 102,
   "metadata": {},
   "outputs": [
    {
     "name": "stdout",
     "output_type": "stream",
     "text": [
      "              precision    recall  f1-score   support\n",
      "\n",
      "          OT       0.95      0.95      0.95      2093\n",
      "       Quran       0.92      0.94      0.93       574\n",
      "          NT       0.84      0.83      0.84       683\n",
      "\n",
      "    accuracy                           0.92      3350\n",
      "   macro avg       0.90      0.91      0.90      3350\n",
      "weighted avg       0.92      0.92      0.92      3350\n",
      "\n"
     ]
    }
   ],
   "source": [
    "print(report_val)"
   ]
  },
  {
   "cell_type": "code",
   "execution_count": 103,
   "metadata": {},
   "outputs": [
    {
     "name": "stdout",
     "output_type": "stream",
     "text": [
      "              precision    recall  f1-score   support\n",
      "\n",
      "          OT       0.95      0.95      0.95      2379\n",
      "       Quran       0.94      0.95      0.94       620\n",
      "          NT       0.86      0.86      0.86       844\n",
      "\n",
      "    accuracy                           0.93      3843\n",
      "   macro avg       0.92      0.92      0.92      3843\n",
      "weighted avg       0.93      0.93      0.93      3843\n",
      "\n"
     ]
    }
   ],
   "source": [
    "print(report_test)"
   ]
  },
  {
   "cell_type": "markdown",
   "metadata": {},
   "source": [
    "### Change regularization value"
   ]
  },
  {
   "cell_type": "code",
   "execution_count": 232,
   "metadata": {},
   "outputs": [],
   "source": [
    "def train_model(X_t,y_t,w2id,c2id):\n",
    "    X_t = BOW_matrix(X_t, w2id)\n",
    "    y_t = [c2id[c] for c in y_t]\n",
    "    model = sklearn.svm.LinearSVC(C=0.05, random_state=50, max_iter=300)\n",
    "    model.fit(X_t,y_t)\n",
    "    return model"
   ]
  },
  {
   "cell_type": "code",
   "execution_count": 233,
   "metadata": {},
   "outputs": [],
   "source": [
    "X_train, X_val, y_train, y_val = train_test_split(combined, labels, test_size=0.1, random_state=50)\n",
    "f = open('test.tsv')\n",
    "test = f.read()\n",
    "X_test = re.findall(r'(?:OT\\t|NT\\t|Quran\\t)(.+)', test)\n",
    "X_test = [re.findall(r'\\w+', verse) for verse in X_test]\n",
    "y_test = re.findall(r'(OT|NT|Quran)\\t', test)"
   ]
  },
  {
   "cell_type": "code",
   "execution_count": 234,
   "metadata": {},
   "outputs": [
    {
     "name": "stdout",
     "output_type": "stream",
     "text": [
      "X matrix is of shape:(30144, 15442)\n",
      "X matrix is of shape:(3350, 15442)\n",
      "X matrix is of shape:(3843, 15442)\n",
      "              precision    recall  f1-score   support\n",
      "\n",
      "       Quran       0.94      0.93      0.94       574\n",
      "          OT       0.94      0.97      0.95      2093\n",
      "          NT       0.90      0.81      0.85       683\n",
      "\n",
      "    accuracy                           0.93      3350\n",
      "   macro avg       0.92      0.90      0.91      3350\n",
      "weighted avg       0.93      0.93      0.93      3350\n",
      "\n"
     ]
    }
   ],
   "source": [
    "model = train_model(X_train, y_train, word2id, class2id)\n",
    "report_val, report_test = evaluate_model(X_val,y_val,X_test,y_test,word2id,class2id,model)\n",
    "print(report_val)"
   ]
  },
  {
   "cell_type": "code",
   "execution_count": 235,
   "metadata": {},
   "outputs": [
    {
     "name": "stdout",
     "output_type": "stream",
     "text": [
      "              precision    recall  f1-score   support\n",
      "\n",
      "       Quran       0.94      0.93      0.94       620\n",
      "          OT       0.94      0.96      0.95      2379\n",
      "          NT       0.90      0.84      0.87       844\n",
      "\n",
      "    accuracy                           0.93      3843\n",
      "   macro avg       0.93      0.91      0.92      3843\n",
      "weighted avg       0.93      0.93      0.93      3843\n",
      "\n"
     ]
    }
   ],
   "source": [
    "print(report_test)"
   ]
  },
  {
   "cell_type": "markdown",
   "metadata": {},
   "source": [
    "### Change classifier "
   ]
  },
  {
   "cell_type": "code",
   "execution_count": 274,
   "metadata": {},
   "outputs": [],
   "source": [
    "from sklearn.linear_model import LogisticRegression\n",
    "from sklearn.ensemble import RandomForestClassifier"
   ]
  },
  {
   "cell_type": "code",
   "execution_count": 275,
   "metadata": {},
   "outputs": [],
   "source": [
    "def train_model(X_t,y_t,w2id,c2id):\n",
    "    X_t = BOW_matrix(X_t, w2id)\n",
    "    y_t = [c2id[c] for c in y_t]\n",
    "    model = LogisticRegression(random_state=50, max_iter=100).fit(X_t, y_t)\n",
    "    model.fit(X_t,y_t)\n",
    "    return model"
   ]
  },
  {
   "cell_type": "code",
   "execution_count": 278,
   "metadata": {},
   "outputs": [],
   "source": [
    "X_train, X_val, y_train, y_val = train_test_split(combined, labels, test_size=0.1, random_state=50)\n",
    "f = open('test.tsv')\n",
    "test = f.read()\n",
    "X_test = re.findall(r'(?:OT\\t|NT\\t|Quran\\t)(.+)', test)\n",
    "X_test = [re.findall(r'\\w+', verse) for verse in X_test]\n",
    "y_test = re.findall(r'(OT|NT|Quran)\\t', test)"
   ]
  },
  {
   "cell_type": "code",
   "execution_count": null,
   "metadata": {},
   "outputs": [],
   "source": [
    "model = train_model(X_train, y_train, word2id, class2id)\n",
    "report_val, report_test = evaluate_model(X_val,y_val,X_test,y_test,word2id,class2id,model)\n",
    "print(report_val)"
   ]
  },
  {
   "cell_type": "code",
   "execution_count": 249,
   "metadata": {},
   "outputs": [
    {
     "name": "stdout",
     "output_type": "stream",
     "text": [
      "              precision    recall  f1-score   support\n",
      "\n",
      "       Quran       0.93      0.94      0.94       620\n",
      "          OT       0.94      0.95      0.95      2379\n",
      "          NT       0.88      0.85      0.86       844\n",
      "\n",
      "    accuracy                           0.93      3843\n",
      "   macro avg       0.92      0.91      0.92      3843\n",
      "weighted avg       0.93      0.93      0.93      3843\n",
      "\n"
     ]
    }
   ],
   "source": [
    "print(report_test)"
   ]
  },
  {
   "cell_type": "markdown",
   "metadata": {},
   "source": [
    "## tfidf"
   ]
  },
  {
   "cell_type": "code",
   "execution_count": 52,
   "metadata": {},
   "outputs": [],
   "source": [
    "def synon(word):\n",
    "    list_syn = []\n",
    "    try:\n",
    "        syn = wordnet.synsets(word)[0]\n",
    "    except:\n",
    "        return word\n",
    "    try:\n",
    "        return re.sub(r'_','',syn.lemma_names()[1])\n",
    "    except:\n",
    "        return word"
   ]
  },
  {
   "cell_type": "code",
   "execution_count": 53,
   "metadata": {},
   "outputs": [],
   "source": [
    "def replace_syn(sentence):\n",
    "    new_sentence = []\n",
    "    for i in sentence:\n",
    "        new_sentence.append(synon(i))\n",
    "    return new_sentence"
   ]
  },
  {
   "cell_type": "code",
   "execution_count": 54,
   "metadata": {},
   "outputs": [],
   "source": [
    "from sklearn.feature_extraction.text import TfidfVectorizer\n",
    "from sklearn.preprocessing import normalize\n",
    "from nltk.stem import WordNetLemmatizer\n",
    "lm = WordNetLemmatizer()"
   ]
  },
  {
   "cell_type": "code",
   "execution_count": 55,
   "metadata": {},
   "outputs": [],
   "source": [
    "NT_syn = list(map(replace_syn,NT))"
   ]
  },
  {
   "cell_type": "code",
   "execution_count": 56,
   "metadata": {},
   "outputs": [],
   "source": [
    "combined = OT + NT + quran + NT_syn\n",
    "labels = re.findall(r'(OT|NT|Quran)\\t', data) + ['NT' for i in range(len(NT_syn))]\n",
    "labels = labels \n",
    "vocab = set(list(chain.from_iterable(combined)))"
   ]
  },
  {
   "cell_type": "code",
   "execution_count": 57,
   "metadata": {},
   "outputs": [],
   "source": [
    "class2id = {c:ID for ID,c in enumerate(set(labels))}"
   ]
  },
  {
   "cell_type": "code",
   "execution_count": 58,
   "metadata": {},
   "outputs": [],
   "source": [
    "X_train, X_val, y_train, y_val = train_test_split(combined, labels, test_size=0.1, random_state=25)\n",
    "f = open('test.tsv')\n",
    "test = f.read()\n",
    "X_test = re.findall(r'(?:OT\\t|NT\\t|Quran\\t)(.+)', test)\n",
    "X_test = [re.findall(r'\\w+', verse) for verse in X_test]\n",
    "y_test = re.findall(r'(OT|NT|Quran)\\t', test)"
   ]
  },
  {
   "cell_type": "code",
   "execution_count": 59,
   "metadata": {},
   "outputs": [],
   "source": [
    "X_train = [' '.join(verse) for verse in X_train]\n",
    "X_val = [' '.join(verse) for verse in X_val]\n",
    "X_test = [' '.join(verse) for verse in X_test]\n",
    "\n",
    "y_train = [class2id[c] for c in y_train]\n",
    "y_val = [class2id[c] for c in y_val]\n",
    "y_test = [class2id[c] for c in y_test]"
   ]
  },
  {
   "cell_type": "code",
   "execution_count": 60,
   "metadata": {},
   "outputs": [],
   "source": [
    "vectorizer = TfidfVectorizer(ngram_range=(1,2))\n",
    "X_train = vectorizer.fit_transform(X_train)\n",
    "dic_vocabulary = vectorizer.vocabulary_\n",
    "\n",
    "X_val = vectorizer.transform(X_val)\n",
    "X_test = vectorizer.transform(X_test)\n",
    "\n",
    "\n",
    "X_train = normalize(X_train, norm='l2', axis=1)\n",
    "X_val = normalize(X_val, norm='l2', axis=1)\n",
    "X_test = normalize(X_test, norm='l2', axis=1)"
   ]
  },
  {
   "cell_type": "code",
   "execution_count": 61,
   "metadata": {},
   "outputs": [
    {
     "name": "stdout",
     "output_type": "stream",
     "text": [
      "0.7484133243560791\n"
     ]
    }
   ],
   "source": [
    "start = time.time()\n",
    "model = sklearn.svm.LinearSVC(C=1, random_state=25)\n",
    "model.fit(X_train,y_train)\n",
    "end = time.time()\n",
    "print(end-start)"
   ]
  },
  {
   "cell_type": "code",
   "execution_count": 62,
   "metadata": {},
   "outputs": [
    {
     "data": {
      "text/plain": [
       "<36545x171569 sparse matrix of type '<class 'numpy.float64'>'\n",
       "\twith 1506346 stored elements in Compressed Sparse Row format>"
      ]
     },
     "execution_count": 62,
     "metadata": {},
     "output_type": "execute_result"
    }
   ],
   "source": [
    "X_train"
   ]
  },
  {
   "cell_type": "code",
   "execution_count": 63,
   "metadata": {},
   "outputs": [],
   "source": [
    "class_names = []\n",
    "for c,cid in sorted(class2id.items(),key=lambda x:x[1]):\n",
    "    class_names.append(c)\n",
    "\n",
    "y_train_predictions = model.predict(X_train)\n",
    "y_val_predictions = model.predict(X_val)\n",
    "y_test_predictions = model.predict(X_test)\n",
    "\n",
    "report_train = classification_report(y_train, y_train_predictions, target_names=class_names, output_dict=False)\n",
    "report_val = classification_report(y_val, y_val_predictions, target_names=class_names, output_dict=False)\n",
    "report_test = classification_report(y_test, y_test_predictions, target_names=class_names, output_dict=False)"
   ]
  },
  {
   "cell_type": "code",
   "execution_count": 64,
   "metadata": {},
   "outputs": [
    {
     "data": {
      "text/plain": [
       "array([1, 1, 2, ..., 1, 2, 0])"
      ]
     },
     "execution_count": 64,
     "metadata": {},
     "output_type": "execute_result"
    }
   ],
   "source": [
    "y_train_predictions"
   ]
  },
  {
   "cell_type": "code",
   "execution_count": 65,
   "metadata": {},
   "outputs": [
    {
     "name": "stdout",
     "output_type": "stream",
     "text": [
      "              precision    recall  f1-score   support\n",
      "\n",
      "       Quran       1.00      1.00      1.00      5060\n",
      "          OT       1.00      1.00      1.00     18656\n",
      "          NT       1.00      1.00      1.00     12829\n",
      "\n",
      "    accuracy                           1.00     36545\n",
      "   macro avg       1.00      1.00      1.00     36545\n",
      "weighted avg       1.00      1.00      1.00     36545\n",
      "\n"
     ]
    }
   ],
   "source": [
    "print(report_train)"
   ]
  },
  {
   "cell_type": "code",
   "execution_count": 66,
   "metadata": {},
   "outputs": [
    {
     "name": "stdout",
     "output_type": "stream",
     "text": [
      "              precision    recall  f1-score   support\n",
      "\n",
      "       Quran       0.99      0.92      0.96       556\n",
      "          OT       0.98      0.97      0.97      2110\n",
      "          NT       0.95      0.98      0.97      1395\n",
      "\n",
      "    accuracy                           0.97      4061\n",
      "   macro avg       0.97      0.96      0.97      4061\n",
      "weighted avg       0.97      0.97      0.97      4061\n",
      "\n"
     ]
    }
   ],
   "source": [
    "print(report_val)"
   ]
  },
  {
   "cell_type": "code",
   "execution_count": 67,
   "metadata": {},
   "outputs": [
    {
     "name": "stdout",
     "output_type": "stream",
     "text": [
      "              precision    recall  f1-score   support\n",
      "\n",
      "       Quran       0.98      0.92      0.95       620\n",
      "          OT       0.95      0.97      0.96      2379\n",
      "          NT       0.91      0.89      0.90       844\n",
      "\n",
      "    accuracy                           0.94      3843\n",
      "   macro avg       0.95      0.93      0.94      3843\n",
      "weighted avg       0.94      0.94      0.94      3843\n",
      "\n"
     ]
    }
   ],
   "source": [
    "print(report_test)"
   ]
  },
  {
   "cell_type": "markdown",
   "metadata": {},
   "source": [
    "### MI and TFIDF"
   ]
  },
  {
   "cell_type": "markdown",
   "metadata": {},
   "source": [
    "## Pre-processing data"
   ]
  },
  {
   "cell_type": "markdown",
   "metadata": {},
   "source": [
    "### Stemming "
   ]
  },
  {
   "cell_type": "code",
   "execution_count": 121,
   "metadata": {},
   "outputs": [],
   "source": [
    "combined = OT + NT + quran\n",
    "combined = [[ps.stem(word) for word in verse] for verse in combined]\n",
    "vocab = set(list(chain.from_iterable(combined)))\n",
    "class2id, word2id = map2id(vocab,labels)\n",
    "\n",
    "f = open('test.tsv')\n",
    "test = f.read()\n",
    "X_test = re.findall(r'(?:OT\\t|NT\\t|Quran\\t)(.+)', test)\n",
    "X_test = [re.findall(r'\\w+', verse) for verse in X_test]\n",
    "X_test = [[ps.stem(word) for word in verse] for verse in X_test]\n",
    "y_test = re.findall(r'(OT|NT|Quran)\\t', test)"
   ]
  },
  {
   "cell_type": "code",
   "execution_count": 124,
   "metadata": {},
   "outputs": [
    {
     "name": "stdout",
     "output_type": "stream",
     "text": [
      "Number of features: 9065\n",
      "X matrix is of shape:(30144, 9066)\n"
     ]
    },
    {
     "name": "stderr",
     "output_type": "stream",
     "text": [
      "/home/faruk/anaconda3/envs/TTDS/lib/python3.9/site-packages/sklearn/svm/_base.py:1206: ConvergenceWarning: Liblinear failed to converge, increase the number of iterations.\n",
      "  warnings.warn(\n"
     ]
    },
    {
     "name": "stdout",
     "output_type": "stream",
     "text": [
      "X matrix is of shape:(3350, 9066)\n",
      "X matrix is of shape:(3843, 9066)\n",
      "              precision    recall  f1-score   support\n",
      "\n",
      "       Quran       0.92      0.91      0.91       574\n",
      "          OT       0.94      0.94      0.94      2093\n",
      "          NT       0.81      0.81      0.81       683\n",
      "\n",
      "    accuracy                           0.91      3350\n",
      "   macro avg       0.89      0.88      0.88      3350\n",
      "weighted avg       0.91      0.91      0.91      3350\n",
      "\n"
     ]
    }
   ],
   "source": [
    "class2id, word2id = map2id(vocab,labels)\n",
    "print(f'Number of features: {len(vocab)}')\n",
    "X_train, X_val, y_train, y_val = train_test_split(combined, labels, test_size=0.1, random_state=50)\n",
    "model = train_model(X_train, y_train, word2id, class2id)\n",
    "report_val, report_test = evaluate_model(X_val,y_val,X_test,y_test,word2id,class2id,model)\n",
    "print(report_val)"
   ]
  },
  {
   "cell_type": "code",
   "execution_count": 125,
   "metadata": {},
   "outputs": [
    {
     "name": "stdout",
     "output_type": "stream",
     "text": [
      "              precision    recall  f1-score   support\n",
      "\n",
      "       Quran       0.90      0.90      0.90       620\n",
      "          OT       0.93      0.94      0.94      2379\n",
      "          NT       0.85      0.83      0.84       844\n",
      "\n",
      "    accuracy                           0.91      3843\n",
      "   macro avg       0.89      0.89      0.89      3843\n",
      "weighted avg       0.91      0.91      0.91      3843\n",
      "\n"
     ]
    }
   ],
   "source": [
    "print(report_test)"
   ]
  },
  {
   "cell_type": "markdown",
   "metadata": {},
   "source": [
    "### Stopword removal"
   ]
  },
  {
   "cell_type": "code",
   "execution_count": 126,
   "metadata": {},
   "outputs": [],
   "source": [
    "combined = OT + NT + quran\n",
    "combined = [[word for word in verse if word.lower() not in STwords] for verse in combined]\n",
    "vocab = set(list(chain.from_iterable(combined)))\n",
    "class2id, word2id = map2id(vocab,labels)\n",
    "\n",
    "f = open('test.tsv')\n",
    "test = f.read()\n",
    "X_test = re.findall(r'(?:OT\\t|NT\\t|Quran\\t)(.+)', test)\n",
    "X_test = [re.findall(r'\\w+', verse) for verse in X_test]\n",
    "X_test = [[word for word in verse if word.lower() not in STwords] for verse in X_test]\n",
    "y_test = re.findall(r'(OT|NT|Quran)\\t', test)"
   ]
  },
  {
   "cell_type": "code",
   "execution_count": 127,
   "metadata": {},
   "outputs": [
    {
     "name": "stdout",
     "output_type": "stream",
     "text": [
      "Number of features: 14719\n",
      "X matrix is of shape:(30144, 14720)\n",
      "X matrix is of shape:(3350, 14720)\n",
      "X matrix is of shape:(3843, 14720)\n",
      "              precision    recall  f1-score   support\n",
      "\n",
      "       Quran       0.89      0.88      0.88       574\n",
      "          OT       0.93      0.93      0.93      2093\n",
      "          NT       0.81      0.81      0.81       683\n",
      "\n",
      "    accuracy                           0.90      3350\n",
      "   macro avg       0.88      0.87      0.87      3350\n",
      "weighted avg       0.90      0.90      0.90      3350\n",
      "\n"
     ]
    }
   ],
   "source": [
    "class2id, word2id = map2id(vocab,labels)\n",
    "print(f'Number of features: {len(vocab)}')\n",
    "X_train, X_val, y_train, y_val = train_test_split(combined, labels, test_size=0.1, random_state=50)\n",
    "\n",
    "model = train_model(X_train, y_train, word2id, class2id)\n",
    "report_val, report_test = evaluate_model(X_val,y_val,X_test,y_test,word2id,class2id,model)\n",
    "\n",
    "print(report_val)"
   ]
  },
  {
   "cell_type": "code",
   "execution_count": 128,
   "metadata": {},
   "outputs": [
    {
     "name": "stdout",
     "output_type": "stream",
     "text": [
      "              precision    recall  f1-score   support\n",
      "\n",
      "       Quran       0.89      0.89      0.89       620\n",
      "          OT       0.92      0.93      0.93      2379\n",
      "          NT       0.84      0.80      0.82       844\n",
      "\n",
      "    accuracy                           0.90      3843\n",
      "   macro avg       0.88      0.88      0.88      3843\n",
      "weighted avg       0.90      0.90      0.90      3843\n",
      "\n"
     ]
    }
   ],
   "source": [
    "print(report_test)"
   ]
  },
  {
   "cell_type": "markdown",
   "metadata": {},
   "source": [
    "### Lowercase"
   ]
  },
  {
   "cell_type": "code",
   "execution_count": 129,
   "metadata": {},
   "outputs": [],
   "source": [
    "combined = OT + NT + quran\n",
    "combined = [[word.lower() for word in verse] for verse in combined]\n",
    "vocab = set(list(chain.from_iterable(combined)))\n",
    "class2id, word2id = map2id(vocab,labels)\n",
    "\n",
    "f = open('test.tsv')\n",
    "test = f.read()\n",
    "X_test = re.findall(r'(?:OT\\t|NT\\t|Quran\\t)(.+)', test)\n",
    "X_test = [re.findall(r'\\w+', verse) for verse in X_test]\n",
    "X_test = [[word.lower() for word in verse] for verse in X_test]\n",
    "y_test = re.findall(r'(OT|NT|Quran)\\t', test)"
   ]
  },
  {
   "cell_type": "code",
   "execution_count": 130,
   "metadata": {},
   "outputs": [
    {
     "name": "stdout",
     "output_type": "stream",
     "text": [
      "Number of features: 13896\n",
      "X matrix is of shape:(30144, 13897)\n"
     ]
    },
    {
     "name": "stderr",
     "output_type": "stream",
     "text": [
      "/home/faruk/anaconda3/envs/TTDS/lib/python3.9/site-packages/sklearn/svm/_base.py:1206: ConvergenceWarning: Liblinear failed to converge, increase the number of iterations.\n",
      "  warnings.warn(\n"
     ]
    },
    {
     "name": "stdout",
     "output_type": "stream",
     "text": [
      "X matrix is of shape:(3350, 13897)\n",
      "X matrix is of shape:(3843, 13897)\n",
      "              precision    recall  f1-score   support\n",
      "\n",
      "       Quran       0.93      0.92      0.92       574\n",
      "          OT       0.94      0.94      0.94      2093\n",
      "          NT       0.84      0.83      0.83       683\n",
      "\n",
      "    accuracy                           0.92      3350\n",
      "   macro avg       0.90      0.90      0.90      3350\n",
      "weighted avg       0.92      0.92      0.92      3350\n",
      "\n"
     ]
    }
   ],
   "source": [
    "class2id, word2id = map2id(vocab,labels)\n",
    "print(f'Number of features: {len(vocab)}')\n",
    "X_train, X_val, y_train, y_val = train_test_split(combined, labels, test_size=0.1, random_state=50)\n",
    "\n",
    "model = train_model(X_train, y_train, word2id, class2id)\n",
    "report_val, report_test = evaluate_model(X_val,y_val,X_test,y_test,word2id,class2id,model)\n",
    "\n",
    "print(report_val)"
   ]
  },
  {
   "cell_type": "code",
   "execution_count": 131,
   "metadata": {},
   "outputs": [
    {
     "name": "stdout",
     "output_type": "stream",
     "text": [
      "              precision    recall  f1-score   support\n",
      "\n",
      "       Quran       0.92      0.91      0.92       620\n",
      "          OT       0.93      0.94      0.93      2379\n",
      "          NT       0.84      0.83      0.83       844\n",
      "\n",
      "    accuracy                           0.91      3843\n",
      "   macro avg       0.90      0.89      0.89      3843\n",
      "weighted avg       0.91      0.91      0.91      3843\n",
      "\n"
     ]
    }
   ],
   "source": [
    "print(report_test)"
   ]
  },
  {
   "cell_type": "markdown",
   "metadata": {},
   "source": [
    "### Normalize data"
   ]
  },
  {
   "cell_type": "code",
   "execution_count": 134,
   "metadata": {},
   "outputs": [],
   "source": [
    "from sklearn.preprocessing import normalize"
   ]
  },
  {
   "cell_type": "code",
   "execution_count": 154,
   "metadata": {},
   "outputs": [],
   "source": [
    "def train_model(X_t,y_t,w2id,c2id):\n",
    "    X_t = BOW_matrix(X_t, w2id)\n",
    "    X_t = normalize(X_t, norm='l2', axis=0)\n",
    "    y_t = [c2id[c] for c in y_t]\n",
    "    model = sklearn.svm.LinearSVC(C=1, random_state=50)\n",
    "    model.fit(X_t,y_t)\n",
    "    return model"
   ]
  },
  {
   "cell_type": "code",
   "execution_count": 155,
   "metadata": {},
   "outputs": [],
   "source": [
    "def evaluate_model(X_v,y_v,X_test,y_test,w2id,c2id,model):\n",
    "    X_v = BOW_matrix(X_v, w2id)\n",
    "    X_v = normalize(X_v, norm='l2', axis=0)\n",
    "    y_v = [c2id[c] for c in y_v]\n",
    "    y_v_predictions = model.predict(X_v)\n",
    "    \n",
    "    X_test = BOW_matrix(X_test, w2id)\n",
    "    X_test = normalize(X_test, norm='l2', axis=0)\n",
    "    y_test = [c2id[c] for c in y_test]\n",
    "    y_test_predictions = model.predict(X_test)\n",
    "    \n",
    "    class_names = []\n",
    "    for c,cid in sorted(c2id.items(),key=lambda x:x[1]):\n",
    "        class_names.append(c)\n",
    "    return classification_report(y_v, y_v_predictions, target_names=class_names, output_dict=False), classification_report(y_test, y_test_predictions, target_names=class_names, output_dict=False)"
   ]
  },
  {
   "cell_type": "code",
   "execution_count": 156,
   "metadata": {},
   "outputs": [],
   "source": [
    "combined = OT + NT + quran\n",
    "vocab = set(list(chain.from_iterable(combined)))\n",
    "\n",
    "f = open('test.tsv')\n",
    "test = f.read()\n",
    "X_test = re.findall(r'(?:OT\\t|NT\\t|Quran\\t)(.+)', test)\n",
    "X_test = [re.findall(r'\\w+', verse) for verse in X_test]\n",
    "X_test = [[word for word in verse if word.lower() not in STwords] for verse in X_test]\n",
    "y_test = re.findall(r'(OT|NT|Quran)\\t', test)"
   ]
  },
  {
   "cell_type": "code",
   "execution_count": 157,
   "metadata": {},
   "outputs": [
    {
     "name": "stdout",
     "output_type": "stream",
     "text": [
      "Number of features: 15441\n",
      "X matrix is of shape:(26795, 15442)\n",
      "X matrix is of shape:(6699, 15442)\n",
      "X matrix is of shape:(3843, 15442)\n",
      "              precision    recall  f1-score   support\n",
      "\n",
      "       Quran       0.98      0.89      0.93      1126\n",
      "          OT       0.92      0.98      0.95      4151\n",
      "          NT       0.90      0.82      0.86      1422\n",
      "\n",
      "    accuracy                           0.93      6699\n",
      "   macro avg       0.94      0.90      0.91      6699\n",
      "weighted avg       0.93      0.93      0.93      6699\n",
      "\n"
     ]
    }
   ],
   "source": [
    "class2id, word2id = map2id(vocab,labels)\n",
    "print(f'Number of features: {len(vocab)}')\n",
    "X_train, X_val, y_train, y_val = train_test_split(combined, labels, test_size=0.2, random_state=50)\n",
    "\n",
    "model = train_model(X_train, y_train, word2id, class2id)\n",
    "report_val, report_test = evaluate_model(X_val,y_val,X_test,y_test,word2id,class2id,model)\n",
    "\n",
    "print(report_val)"
   ]
  },
  {
   "cell_type": "code",
   "execution_count": 158,
   "metadata": {},
   "outputs": [
    {
     "name": "stdout",
     "output_type": "stream",
     "text": [
      "              precision    recall  f1-score   support\n",
      "\n",
      "       Quran       0.90      0.88      0.89       620\n",
      "          OT       0.91      0.95      0.93      2379\n",
      "          NT       0.88      0.78      0.83       844\n",
      "\n",
      "    accuracy                           0.90      3843\n",
      "   macro avg       0.90      0.87      0.88      3843\n",
      "weighted avg       0.90      0.90      0.90      3843\n",
      "\n"
     ]
    }
   ],
   "source": [
    "print(report_test)"
   ]
  },
  {
   "cell_type": "markdown",
   "metadata": {},
   "source": [
    "### Lemmatizer"
   ]
  },
  {
   "cell_type": "code",
   "execution_count": 339,
   "metadata": {},
   "outputs": [],
   "source": [
    "from nltk.stem import WordNetLemmatizer\n",
    "lm = WordNetLemmatizer()"
   ]
  },
  {
   "cell_type": "code",
   "execution_count": 340,
   "metadata": {},
   "outputs": [],
   "source": [
    "combined = OT + NT + quran\n",
    "combined = [[lm.lemmatize(word.lower()) for word in verse] for verse in combined]\n",
    "vocab = set(list(chain.from_iterable(combined)))"
   ]
  },
  {
   "cell_type": "code",
   "execution_count": 341,
   "metadata": {},
   "outputs": [
    {
     "name": "stdout",
     "output_type": "stream",
     "text": [
      "Number of features: 12190\n",
      "X matrix is of shape:(30144, 12191)\n",
      "X matrix is of shape:(3350, 12191)\n",
      "              precision    recall  f1-score   support\n",
      "\n",
      "          OT       0.92      0.96      0.94      2093\n",
      "       Quran       0.97      0.87      0.92       574\n",
      "          NT       0.85      0.81      0.83       683\n",
      "\n",
      "    accuracy                           0.91      3350\n",
      "   macro avg       0.91      0.88      0.90      3350\n",
      "weighted avg       0.91      0.91      0.91      3350\n",
      "\n"
     ]
    }
   ],
   "source": [
    "class2id, word2id = map2id(vocab,labels)\n",
    "print(f'Number of features: {len(vocab)}')\n",
    "X_train, X_val, y_train, y_val = train_test_split(combined, labels, test_size=0.1, random_state=50)\n",
    "model = train_model(X_train, y_train, word2id, class2id)\n",
    "report = evaluate_model(X_val,y_val,word2id,class2id,model)\n",
    "print(report)"
   ]
  },
  {
   "cell_type": "markdown",
   "metadata": {},
   "source": [
    "## Use MI for feature selection"
   ]
  },
  {
   "cell_type": "code",
   "execution_count": null,
   "metadata": {},
   "outputs": [],
   "source": [
    "def train_model(X_t,y_t,w2id,c2id):\n",
    "    X_t = BOW_matrix(X_t, w2id)\n",
    "    y_t = [c2id[c] for c in y_t]\n",
    "    model = sklearn.svm.SVC(C=1, random_state=50)\n",
    "    model.fit(X_t,y_t)\n",
    "    return model"
   ]
  },
  {
   "cell_type": "code",
   "execution_count": null,
   "metadata": {},
   "outputs": [],
   "source": [
    "def evaluate_model(X_v,y_v,X_test,y_test,w2id,c2id,model):\n",
    "    X_v = BOW_matrix(X_v, w2id)\n",
    "    X_v = normalize(X_v, norm='l2', axis=0)\n",
    "    y_v = [c2id[c] for c in y_v]\n",
    "    y_v_predictions = model.predict(X_v)\n",
    "    \n",
    "    X_test = BOW_matrix(X_test, w2id)\n",
    "    X_test = normalize(X_test, norm='l2', axis=0)\n",
    "    y_test = [c2id[c] for c in y_test]\n",
    "    y_test_predictions = model.predict(X_test)\n",
    "    \n",
    "    class_names = []\n",
    "    for c,cid in sorted(c2id.items(),key=lambda x:x[1]):\n",
    "        class_names.append(c)\n",
    "    return classification_report(y_v, y_v_predictions, target_names=class_names, output_dict=False), classification_report(y_test, y_test_predictions, target_names=class_names, output_dict=False)"
   ]
  },
  {
   "cell_type": "code",
   "execution_count": 378,
   "metadata": {},
   "outputs": [],
   "source": [
    "combined = OT + NT + quran\n",
    "combined = [[ps.stem(word) for word in verse] for verse in combined]\n",
    "vocab = set(list(chain.from_iterable(combined)))"
   ]
  },
  {
   "cell_type": "code",
   "execution_count": 379,
   "metadata": {},
   "outputs": [],
   "source": [
    "def select_features(MI_OT, MI_NT, MI_quran, n=100):\n",
    "    combined = {k:max(MI_OT.get(k, 0), MI_NT.get(k, 0), MI_quran.get(k,0)) for k in set(chain(MI_OT,MI_NT,MI_quran))}\n",
    "    combined = {k: v for k, v in sorted(combined.items(), key=lambda item: item[1], reverse=True)}\n",
    "    top = [word for word in combined.keys()][:n]\n",
    "    return top"
   ]
  },
  {
   "cell_type": "code",
   "execution_count": 380,
   "metadata": {},
   "outputs": [],
   "source": [
    "def select_features_fair(MI_OT, MI_NT, MI_quran, n=100):\n",
    "    OT = [word for word in MI_OT.keys()][:n]\n",
    "    NT = [word for word in MI_NT.keys() if word not in OT][:n]\n",
    "    quran = [word for word in MI_quran.keys() if word not in OT + NT][:n]\n",
    "    combined = OT + NT + quran\n",
    "    \n",
    "    return combined"
   ]
  },
  {
   "cell_type": "code",
   "execution_count": 401,
   "metadata": {},
   "outputs": [
    {
     "name": "stdout",
     "output_type": "stream",
     "text": [
      "Number of features: 3300\n"
     ]
    }
   ],
   "source": [
    "top = select_features_fair(MI_OT, MI_NT, MI_quran, n=1100)\n",
    "vocab_MI = set(top)\n",
    "class2id_MI, word2id_MI = map2id(vocab_MI,labels)\n",
    "print(f'Number of features: {len(vocab_MI)}')"
   ]
  },
  {
   "cell_type": "code",
   "execution_count": 402,
   "metadata": {},
   "outputs": [],
   "source": [
    "# X,y = sklearn.utils.shuffle(combined,labels, random_state=20)\n",
    "X_train, X_val, y_train, y_val = train_test_split(combined, labels, test_size=0.15, random_state=50)"
   ]
  },
  {
   "cell_type": "code",
   "execution_count": 403,
   "metadata": {},
   "outputs": [
    {
     "name": "stdout",
     "output_type": "stream",
     "text": [
      "X matrix is of shape:(28469, 3301)\n"
     ]
    }
   ],
   "source": [
    "model = train_model(X_train, y_train, word2id_MI, class2id_MI)"
   ]
  },
  {
   "cell_type": "code",
   "execution_count": 404,
   "metadata": {},
   "outputs": [
    {
     "name": "stdout",
     "output_type": "stream",
     "text": [
      "X matrix is of shape:(5025, 3301)\n"
     ]
    }
   ],
   "source": [
    "report = evaluate_model(X_val,y_val,word2id_MI,class2id_MI,model)"
   ]
  },
  {
   "cell_type": "code",
   "execution_count": 405,
   "metadata": {},
   "outputs": [
    {
     "name": "stdout",
     "output_type": "stream",
     "text": [
      "              precision    recall  f1-score   support\n",
      "\n",
      "          OT       0.89      0.96      0.93      3123\n",
      "       Quran       0.92      0.85      0.88       856\n",
      "          NT       0.86      0.72      0.78      1046\n",
      "\n",
      "    accuracy                           0.89      5025\n",
      "   macro avg       0.89      0.84      0.86      5025\n",
      "weighted avg       0.89      0.89      0.89      5025\n",
      "\n"
     ]
    }
   ],
   "source": [
    "print(report)"
   ]
  },
  {
   "cell_type": "markdown",
   "metadata": {},
   "source": [
    "## Tune number of features using MI"
   ]
  },
  {
   "cell_type": "code",
   "execution_count": 350,
   "metadata": {},
   "outputs": [],
   "source": [
    "# def evaluate_model(X_v,y_v,w2id,c2id,model):\n",
    "#     X_v = BOW_matrix(X_v, w2id)\n",
    "#     y_v = [c2id[c] for c in y_v]\n",
    "#     y_v_predictions = model.predict(X_v)\n",
    "#     class_names = []\n",
    "#     for c,cid in sorted(c2id.items(),key=lambda x:x[1]):\n",
    "#         class_names.append(c)\n",
    "#     return classification_report(y_v, y_v_predictions, target_names=class_names, output_dict=False)"
   ]
  },
  {
   "cell_type": "code",
   "execution_count": 351,
   "metadata": {},
   "outputs": [],
   "source": [
    "combined = [[ps.stem(word) for word in verse] for verse in combined]\n",
    "vocab = set(list(chain.from_iterable(combined)))"
   ]
  },
  {
   "cell_type": "code",
   "execution_count": 352,
   "metadata": {
    "scrolled": true
   },
   "outputs": [],
   "source": [
    "# nfeatures = list(np.arange(500,3000,100))\n",
    "# results = {}\n",
    "# for num in nfeatures:\n",
    "#     top = select_features_fair(MI_OT, MI_NT, MI_quran, n=num)\n",
    "#     vocab_MI = set(top)\n",
    "#     class2id_MI, word2id_MI = map2id(vocab_MI,labels)\n",
    "#     print(f'Number of features: {len(vocab_MI)}')\n",
    "#     X_train, X_val, y_train, y_val = train_test_split(combined, labels, test_size=0.1, random_state=50)\n",
    "#     model = train_model(X_train, y_train, word2id_MI, class2id_MI)\n",
    "#     report = evaluate_model(X_val,y_val,word2id_MI,class2id_MI,model)\n",
    "#     results[num] = report"
   ]
  },
  {
   "cell_type": "code",
   "execution_count": 353,
   "metadata": {},
   "outputs": [],
   "source": [
    "# macro = {}\n",
    "# weighted = {}\n",
    "# for num in results.keys():\n",
    "#     macro[num] = results[num]['macro avg']['f1-score']\n",
    "#     weighted[num] = results[num]['weighted avg']['f1-score']"
   ]
  },
  {
   "cell_type": "code",
   "execution_count": 354,
   "metadata": {
    "scrolled": true
   },
   "outputs": [],
   "source": [
    "# macro = {k: v for k, v in sorted(macro.items(), key=lambda item: item[1], reverse=True)}\n",
    "# macro"
   ]
  },
  {
   "cell_type": "code",
   "execution_count": 355,
   "metadata": {
    "scrolled": true
   },
   "outputs": [],
   "source": [
    "# weighted = {k: v for k, v in sorted(weighted.items(), key=lambda item: item[1], reverse=True)}\n",
    "# weighted"
   ]
  },
  {
   "cell_type": "markdown",
   "metadata": {},
   "source": [
    "## Using X^2 for feature selection"
   ]
  },
  {
   "cell_type": "code",
   "execution_count": 367,
   "metadata": {},
   "outputs": [],
   "source": [
    "combined = OT + NT + quran\n",
    "# combined = [[ps.stem(word) for word in verse] for verse in combined]\n",
    "vocab = set(list(chain.from_iterable(combined)))"
   ]
  },
  {
   "cell_type": "code",
   "execution_count": 368,
   "metadata": {},
   "outputs": [
    {
     "name": "stdout",
     "output_type": "stream",
     "text": [
      "Number of features: 2400\n"
     ]
    }
   ],
   "source": [
    "top = select_features_fair(Chi_OT, Chi_NT, Chi_quran, n=800)\n",
    "vocab_Chi = set(top)\n",
    "class2id_Chi, word2id_Chi = map2id(vocab_Chi,labels)\n",
    "print(f'Number of features: {len(vocab_Chi)}')"
   ]
  },
  {
   "cell_type": "code",
   "execution_count": 369,
   "metadata": {},
   "outputs": [],
   "source": [
    "# X,y = sklearn.utils.shuffle(combined,labels, random_state=20)\n",
    "X_train, X_val, y_train, y_val = train_test_split(combined, labels, test_size=0.1, random_state=50)"
   ]
  },
  {
   "cell_type": "code",
   "execution_count": 370,
   "metadata": {},
   "outputs": [
    {
     "name": "stdout",
     "output_type": "stream",
     "text": [
      "X matrix is of shape:(30144, 2401)\n"
     ]
    }
   ],
   "source": [
    "model = train_model(X_train, y_train, word2id_Chi, class2id_Chi)"
   ]
  },
  {
   "cell_type": "code",
   "execution_count": 371,
   "metadata": {},
   "outputs": [
    {
     "name": "stdout",
     "output_type": "stream",
     "text": [
      "X matrix is of shape:(3350, 2401)\n"
     ]
    }
   ],
   "source": [
    "report = evaluate_model(X_val,y_val,word2id_Chi,class2id_Chi,model)"
   ]
  },
  {
   "cell_type": "code",
   "execution_count": 372,
   "metadata": {},
   "outputs": [
    {
     "name": "stdout",
     "output_type": "stream",
     "text": [
      "              precision    recall  f1-score   support\n",
      "\n",
      "          OT       0.78      0.90      0.84      2093\n",
      "       Quran       0.74      0.60      0.66       574\n",
      "          NT       0.65      0.44      0.52       683\n",
      "\n",
      "    accuracy                           0.76      3350\n",
      "   macro avg       0.72      0.65      0.67      3350\n",
      "weighted avg       0.75      0.76      0.74      3350\n",
      "\n"
     ]
    }
   ],
   "source": [
    "print(report)"
   ]
  }
 ],
 "metadata": {
  "kernelspec": {
   "display_name": "TTDS",
   "language": "python",
   "name": "ttds"
  },
  "language_info": {
   "codemirror_mode": {
    "name": "ipython",
    "version": 3
   },
   "file_extension": ".py",
   "mimetype": "text/x-python",
   "name": "python",
   "nbconvert_exporter": "python",
   "pygments_lexer": "ipython3",
   "version": "3.9.7"
  }
 },
 "nbformat": 4,
 "nbformat_minor": 4
}
